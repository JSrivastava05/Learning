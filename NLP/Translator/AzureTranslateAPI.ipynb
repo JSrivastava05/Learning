{
 "cells": [
  {
   "cell_type": "code",
   "execution_count": 1,
   "metadata": {},
   "outputs": [
    {
     "data": {
      "text/plain": [
       "'안녕'"
      ]
     },
     "execution_count": 1,
     "metadata": {},
     "output_type": "execute_result"
    }
   ],
   "source": [
    "import requests, uuid, json\n",
    "\n",
    "def translate_text(text,from_lang,to_lang):\n",
    "    # Add your subscription key and endpoint\n",
    "    subscription_key = \"EnterKeyHere\" \n",
    "    endpoint = \"https://api.cognitive.microsofttranslator.com\"\n",
    "\n",
    "    # Add your location, also known as region. The default is global.\n",
    "    # This is required if using a Cognitive Services resource.\n",
    "    location = \"eastus\"\n",
    "\n",
    "    path = '/translate'\n",
    "    constructed_url = endpoint + path\n",
    "\n",
    "    params = {\n",
    "        'api-version': '3.0',\n",
    "        'from': from_lang,\n",
    "        'to': to_lang\n",
    "    }\n",
    "    constructed_url = endpoint + path\n",
    "\n",
    "    headers = {\n",
    "        'Ocp-Apim-Subscription-Key': subscription_key,\n",
    "        'Ocp-Apim-Subscription-Region': location,\n",
    "        'Content-type': 'application/json',\n",
    "        'X-ClientTraceId': str(uuid.uuid4())\n",
    "    }\n",
    "\n",
    "    # You can pass more than one object in body.\n",
    "    body = [{\n",
    "        'text': text\n",
    "    }]\n",
    "\n",
    "    request = requests.post(constructed_url, params=params, headers=headers, json=body)\n",
    "    response = request.json()\n",
    "    for x in response:\n",
    "#         print(text , F\"({from_lang} : {to_lang}) : %s\" % (x['translations'][0]['text']))\n",
    "        return (x['translations'][0]['text'])\n",
    "        \n",
    "#     print(json.dumps(response, sort_keys=True, ensure_ascii=False, indent=4, separators=(',', ': ')))\n",
    "translate_text('Hi','en','ko')"
   ]
  },
  {
   "cell_type": "code",
   "execution_count": 2,
   "metadata": {},
   "outputs": [
    {
     "name": "stdout",
     "output_type": "stream",
     "text": [
      "यहां आपके लिए ऑनलाइन पढ़ने के लिए लघु कहानियों के कई उदाहरण दिए गए हैं। ऑनलाइन हमारे जीवन में एक और पैर बन गया है । हमें इसे ध्यान में रखना होगा ताकि हम विज्ञान और प्रौद्योगिकी के विकास को आगे करेंगे । कंप्यूटर ने हमारी दुनिया में क्रांति ला दी है। लोगों को एक और दुनिया नजर आने लगी है। हम जो थे, वह इतिहास बन गया है। बीसवीं सदी दूरस्थ इतिहास बन चुकी है। आईटी कंपनियों और कंप्यूटर आधारित अन्य कंपनियों ने अन्य पारंपरिक कंपनियों को मात दी है जो लंबे समय से वहां हैं । सटीकता लोगों के बीच सबसे ज्यादा इस्तेमाल किया जाने वाले शब्द बन गए हैं । दूरसंचार पूरी दुनिया में बहुत सस्ता मामला बन गया है । ये सभी उपलब्धियां कंप्यूटर और इंटरनेट की वजह से संभव हैं। लघु कथाएं ऑनलाइन पढ़ना हमारा पसंदीदा शगल बन गया है ।\n"
     ]
    }
   ],
   "source": [
    "# translate to hindi\n",
    "para='''Here are many examples of short stories for you to read online. Online has become another leg in our life. WE have to take that into account so that we will go along the growth of the science and technology. Computer has revolutionalised our world. The people have started to see another world. What we were has become history. The twentieth century has become remote history. The IT companies and other computer-based companies have outperformed other traditional companies which have been there for a long time. Accuracy has become the most used word among the people. Telecommunication has become very very cheap affair all over the world. All these achievements are possible because of Computer and the Internet. Reading short stories online has become our favorite pastime.'''\n",
    "text=translate_text(para, 'en','hi')\n",
    "print(text)"
   ]
  },
  {
   "cell_type": "code",
   "execution_count": 3,
   "metadata": {},
   "outputs": [
    {
     "name": "stdout",
     "output_type": "stream",
     "text": [
      "Here are many examples of short stories to read online. Online has become another leg in our lives. We have to keep this in mind so that we move forward with the development of science and technology. Computers have revived our world. People are beginning to see another world. The history that we have become. The twentieth century has become a remote history. IT companies and other computer-based companies have performed better than other traditional companies that have been there for a long time. Accuracy has become the most commonly used word among people. Telecom has become a very cheap affair all over the world. All these achievements are possible because of computers and the Internet. Reading short stories online has become our favourite pastime.\n"
     ]
    }
   ],
   "source": [
    "# translate to english\n",
    "para='''ऑनलाइन पढ़ने के लिए छोटी कहानियों के कई उदाहरण यहां दिए गए हैं। ऑनलाइन हमारे जीवन में एक और पैर बन गया है। हमें इसे ध्यान में रखना होगा ताकि हम विज्ञान और प्रौद्योगिकी के विकास के साथ आगे बढ़ें। कंप्यूटर ने हमारी दुनिया को पुनर्जीवित कर दिया है। लोगो को दूसरी दुनिया दिखाई देने लगी है। हम जो इतिहास बन गए हैं। बीसवीं सदी दूरस्थ इतिहास बन गई है। आईटी कंपनियों और अन्य कंप्यूटर-आधारित कंपनियों ने अन्य पारंपरिक कंपनियों से बेहतर प्रदर्शन किया है जो लंबे समय से वहां हैं। सटीकता लोगों के बीच सबसे अधिक इस्तेमाल किया जाने वाला शब्द बन गया है। पूरी दुनिया में दूरसंचार बहुत सस्ता मामला बन गया है। ये सभी उपलब्धियां कंप्यूटर और इंटरनेट की वजह से संभव हैं। छोटी कहानियों को ऑनलाइन पढ़ना हमारा पसंदीदा शगल बन गया है।'''\n",
    "text=translate_text(para, 'hi','en')\n",
    "print(text)"
   ]
  },
  {
   "cell_type": "code",
   "execution_count": 4,
   "metadata": {},
   "outputs": [
    {
     "name": "stdout",
     "output_type": "stream",
     "text": [
      "Voici de nombreux exemples de nouvelles que vous pouvez lire en ligne. En ligne est devenu une autre étape dans notre vie. Nous devons en tenir compte pour aller de l’avant avec la croissance de la science et de la technologie. L’ordinateur a révolutionné notre monde. Les gens ont commencé à voir un autre monde. Ce que nous étions est devenu de l’histoire ancienne. Le XXe siècle est devenu une histoire lointaine. Les entreprises informatiques et autres entreprises informatiques ont surpassé d’autres entreprises traditionnelles qui sont là depuis longtemps. L’exactitude est devenue le mot le plus utilisé parmi les gens. Les télécommunications sont devenues très très très bon marché affaire partout dans le monde. Toutes ces réalisations sont possibles grâce à l’ordinateur et à Internet. Lire des nouvelles en ligne est devenu notre passe-temps favori.\n"
     ]
    }
   ],
   "source": [
    "# translate to french\n",
    "para='''Here are many examples of short stories for you to read online. Online has become another leg in our life. WE have to take that into account so that we will go along the growth of the science and technology. Computer has revolutionalised our world. The people have started to see another world. What we were has become history. The twentieth century has become remote history. The IT companies and other computer-based companies have outperformed other traditional companies which have been there for a long time. Accuracy has become the most used word among the people. Telecommunication has become very very cheap affair all over the world. All these achievements are possible because of Computer and the Internet. Reading short stories online has become our favorite pastime.'''\n",
    "text=translate_text(para, 'en','fr')\n",
    "print(text)"
   ]
  },
  {
   "cell_type": "code",
   "execution_count": 5,
   "metadata": {},
   "outputs": [
    {
     "name": "stdout",
     "output_type": "stream",
     "text": [
      "Estos son muchos ejemplos de historias cortas para que leas en línea. En línea se ha convertido en otra pierna en nuestra vida. Tenemos que tener eso en cuenta para que vayamos a seguir adelante con el crecimiento de la ciencia y la tecnología. La computadora ha revolucionado nuestro mundo. La gente ha empezado a ver otro mundo. Lo que éramos se ha convertido en historia. El siglo XX se ha convertido en historia remota. Las empresas de TI y otras empresas informáticas han superado a otras empresas tradicionales que han estado allí durante mucho tiempo. La precisión se ha convertido en la palabra más utilizada entre la gente. Las telecomunicaciones se han convertido en asuntos muy baratos en todo el mundo. Todos estos logros son posibles gracias al ordenador e Internet. Leer cuentos en línea se ha convertido en nuestro pasatiempo favorito.\n"
     ]
    }
   ],
   "source": [
    "# translate to espanol\n",
    "para='''Here are many examples of short stories for you to read online. Online has become another leg in our life. WE have to take that into account so that we will go along the growth of the science and technology. Computer has revolutionalised our world. The people have started to see another world. What we were has become history. The twentieth century has become remote history. The IT companies and other computer-based companies have outperformed other traditional companies which have been there for a long time. Accuracy has become the most used word among the people. Telecommunication has become very very cheap affair all over the world. All these achievements are possible because of Computer and the Internet. Reading short stories online has become our favorite pastime.'''\n",
    "text=translate_text(para, 'en','es')\n",
    "print(text)"
   ]
  },
  {
   "cell_type": "code",
   "execution_count": 6,
   "metadata": {},
   "outputs": [
    {
     "name": "stdout",
     "output_type": "stream",
     "text": [
      "Hier sind viele Beispiele für Kurzgeschichten, die Sie online lesen können. Online ist ein weiteres Bein in unserem Leben geworden. Wir müssen dies berücksichtigen, damit wir das Wachstum der Wissenschaft und Technologie mitgehen. Der Computer hat unsere Welt revolutioniert. Die Menschen haben begonnen, eine andere Welt zu sehen. Was wir waren, ist Geschichte geworden. Das 20. Jahrhundert ist zur fernen Geschichte geworden. Die IT-Unternehmen und andere computergestützte Unternehmen haben andere Traditionsunternehmen übertroffen, die schon lange dort sind. Genauigkeit ist das meistgebrauchte Wort unter den Menschen geworden. Die Telekommunikation ist weltweit zu einer sehr billigen Angelegenheit geworden. All diese Erfolge sind durch Computer und Internet möglich. Das Lesen von Kurzgeschichten online ist zu unserem Lieblingsbeschäftigung geworden.\n"
     ]
    }
   ],
   "source": [
    "# translate to german\n",
    "para='''Here are many examples of short stories for you to read online. Online has become another leg in our life. WE have to take that into account so that we will go along the growth of the science and technology. Computer has revolutionalised our world. The people have started to see another world. What we were has become history. The twentieth century has become remote history. The IT companies and other computer-based companies have outperformed other traditional companies which have been there for a long time. Accuracy has become the most used word among the people. Telecommunication has become very very cheap affair all over the world. All these achievements are possible because of Computer and the Internet. Reading short stories online has become our favorite pastime.'''\n",
    "text=translate_text(para, 'en','de')\n",
    "print(text)"
   ]
  },
  {
   "cell_type": "code",
   "execution_count": 7,
   "metadata": {},
   "outputs": [
    {
     "name": "stdout",
     "output_type": "stream",
     "text": [
      "Voici de nombreux exemples de nouvelles que vous pouvez lire en ligne. En ligne, il est devenu une autre étape dans nos vies. Nous devons garder cela à l’esprit afin de suivre la croissance de la science et de la technologie. L’ordinateur a révolutionné notre monde. Les gens ont commencé à voir un monde différent. Ce que nous étions est devenu de l’histoire ancienne. Le XXe siècle est devenu une histoire lointaine. Les entreprises informatiques et autres entreprises aidées par ordinateur ont surpassé d’autres entreprises traditionnelles qui sont là depuis longtemps. La précision est devenue le mot le plus utilisé chez l’homme. Les télécommunications sont devenues un problème très bon marché dans le monde entier. Tous ces succès sont possibles grâce aux ordinateurs et à Internet. Lire des histoires en ligne est devenu notre passe-temps favori\n"
     ]
    }
   ],
   "source": [
    "# translate to french from german\n",
    "para='''Hier sind viele Beispiele für Kurzgeschichten, die Sie online lesen können. Online ist ein weiteres Bein in unserem Leben geworden. Wir müssen dies berücksichtigen, damit wir das Wachstum der Wissenschaft und Technologie mitgehen. Der Computer hat unsere Welt revolutioniert. Die Menschen haben begonnen, eine andere Welt zu sehen. Was wir waren, ist Geschichte geworden. Das 20. Jahrhundert ist zur fernen Geschichte geworden. Die IT-Unternehmen und andere computergestützte Unternehmen haben andere Traditionsunternehmen übertroffen, die schon lange dort sind. Genauigkeit ist das meistgebrauchte Wort unter den Menschen geworden. Die Telekommunikation ist weltweit zu einer sehr billigen Angelegenheit geworden. All diese Erfolge sind durch Computer und Internet möglich. Das Lesen von Kurzgeschichten online ist zu unserem Lieblingsbeschäftigung geworden'''\n",
    "para=translate_text(para, 'de','en')\n",
    "para=translate_text(para, 'en','es')\n",
    "para=translate_text(para, 'es','fr')\n",
    "print(para)"
   ]
  },
  {
   "cell_type": "code",
   "execution_count": 8,
   "metadata": {},
   "outputs": [
    {
     "name": "stdout",
     "output_type": "stream",
     "text": [
      "A text file (sometimes spelled textfile; an old alternative name is flatfile) is a kind of computer file that is structured as a sequence of lines of electronic text. A text file exists stored as data within a computer file system. In operating systems such as CP/M and MS-DOS, where the operating system does not keep track of the file size in bytes, the end of a text file is denoted by placing one or more special characters, known as an end-of-file marker, as padding after the last line in a text file. On modern operating systems such as Microsoft Windows and Unix-like systems, text files do not contain any special EOF character, because file systems on those operating systems keep track of the file size in bytes. There are for most text files a need to have end-of-line delimiters, which are done in a few different ways depending on operating system. Some operating systems with record-orientated file systems may not use new line delimiters and will primarily store text files with lines separated as fixed or variable length records.\n",
      "\n",
      "\"Text file\" refers to a type of container, while plain text refers to a type of content.\n",
      "\n",
      "At a generic level of description, there are two kinds of computer files: text files and binary files.\n",
      "\n",
      "\n",
      "Data storage\n",
      "\n",
      "A stylized iconic depiction of a CSV-formatted text file.\n",
      "Because of their simplicity, text files are commonly used for storage of information. They avoid some of the problems encountered with other file formats, such as endianness, padding bytes, or differences in the number of bytes in a machine word. Further, when data corruption occurs in a text file, it is often easier to recover and continue processing the remaining contents. A disadvantage of text files is that they usually have a low entropy, meaning that the information occupies more storage than is strictly necessary.\n",
      "\n",
      "A simple text file may need no additional metadata (other than knowledge of its character set) to assist the reader in interpretation. A text file may contain no data at all, which is a case of zero-byte file.\n",
      "\n",
      "Encoding\n",
      "The ASCII character set is the most common compatible subset of character sets for English-language text files, and is generally assumed to be the default file format in many situations. It covers American English, but for the British Pound sign, the Euro sign, or characters used outside English, a richer character set must be used. In many systems, this is chosen based on the default locale setting on the computer it is read on. Prior to UTF-8, this was traditionally single-byte encodings (such as ISO-8859-1 through ISO-8859-16) for European languages and wide character encodings for Asian languages.\n",
      "\n",
      "Because encodings necessarily have only a limited repertoire of characters, often very small, many are only usable to represent text in a limited subset of human languages. Unicode is an attempt to create a common standard for representing all known languages, and most known character sets are subsets of the very large Unicode character set. Although there are multiple character encodings available for Unicode, the most common is UTF-8, which has the advantage of being backwards-compatible with ASCII; that is, every ASCII text file is also a UTF-8 text file with identical meaning. UTF-8 also has the advantage that it is easily auto-detectable. Thus, a common operating mode of UTF-8 capable software, when opening files of unknown encoding, is to try UTF-8 first and fall back to a locale dependent legacy encoding when it definitely isn't UTF-8.\n",
      "\n",
      "Formats\n",
      "On most operating systems the name text file refers to file format that allows only plain text content with very little formatting (e.g., no bold or italic types). Such files can be viewed and edited on text terminals or in simple text editors. Text files usually have the MIME type text/plain, usually with additional information indicating an encoding.\n",
      "\n",
      "Microsoft Windows text files\n",
      "MS-DOS and Microsoft Windows use a common text file format, with each line of text separated by a two-character combination: carriage return (CR) and line feed (LF). It is common for the last line of text not to be terminated with a CR-LF marker, and many text editors (including Notepad) do not automatically insert one on the last line.\n",
      "\n",
      "On Microsoft Windows operating systems, a file is regarded as a text file if the suffix of the name of the file (the \"filename extension\") is .txt. However, many other suffixes are used for text files with specific purposes. For example, source code for computer programs is usually kept in text files that have file name suffixes indicating the programming language in which the source is written.\n",
      "\n",
      "Most Microsoft Windows text files use \"ANSI\", \"OEM\", \"Unicode\" or \"UTF-8\" encoding. What Microsoft Windows terminology calls \"ANSI encodings\" are usually single-byte ISO/IEC 8859 encodings (i.e. ANSI in the Microsoft Notepad menus is really \"System Code Page\", non-Unicode, legacy encoding), except for in locales such as Chinese, Japanese and Korean that require double-byte character sets. ANSI encodings were traditionally used as default system locales within Microsoft Windows, before the transition to Unicode. By contrast, OEM encodings, also known as DOS code pages, were defined by IBM for use in the original IBM PC text mode display system. They typically include graphical and line-drawing characters common in DOS applications. \"Unicode\"-encoded Microsoft Windows text files contain text in UTF-16 Unicode Transformation Format. Such files normally begin with Byte Order Mark (BOM), which communicates the endianness of the file content. Although UTF-8 does not suffer from endianness problems, many Microsoft Windows programs (i.e. Notepad) prepend the contents of UTF-8-encoded files with BOM,[2] to differentiate UTF-8 encoding from other 8-bit encodings.[3]\n",
      "\n",
      "Unix text files\n",
      "On Unix-like operating systems text files format is precisely described: POSIX defines a text file as a file that contains characters organized into zero or more lines,[4] where lines are sequences of zero or more non-newline characters plus a terminating newline character,[5] normally LF.\n",
      "\n",
      "Additionally, POSIX defines a printable file as a text file whose characters are printable or space or backspace according to regional rules. This excludes most control characters, which are not printable.[6]\n",
      "\n",
      "Apple Macintosh text files\n",
      "Prior to the advent of Mac OS X (now called macOS), the classic Mac OS system regarded the content of a file (the data fork) to be a text file when its resource fork indicated that the type of the file was \"TEXT\".[7] Lines of Macintosh text files are terminated with CR characters.[8]\n",
      "\n",
      "Being certified Unix, macOS uses POSIX format for text files.[8] Uniform Type Identifier (UTI) used for text files in macOS is \"public.plain-text\"; additional, more specific UTIs are: \"public.utf8-plain-text\" for utf-8-encoded text, \"public.utf16-external-plain-text\" and \"public.utf16-plain-text\" for utf-16-encoded text and \"com.apple.traditional-mac-plain-text\" for classic Mac OS text files.\n"
     ]
    }
   ],
   "source": [
    "# Translating a text file to hindi, french, german and espanol\n",
    "f = open(\"Translate_me.txt\", \"r\")\n",
    "var=f.read()\n",
    "print(var)"
   ]
  },
  {
   "cell_type": "code",
   "execution_count": 9,
   "metadata": {
    "collapsed": true
   },
   "outputs": [
    {
     "name": "stdout",
     "output_type": "stream",
     "text": [
      "एक टेक्स्ट फाइल (कभी-कभी वर्तनी वाली टेक्स्टफाइल; एक पुराना वैकल्पिक नाम फ्लैटफाइल है) एक प्रकार की कंप्यूटर फ़ाइल है जिसे इलेक्ट्रॉनिक टेक्स्ट की लाइनों के अनुक्रम के रूप में संरचित किया जाता है। एक टेक्स्ट फ़ाइल कंप्यूटर फ़ाइल सिस्टम के भीतर डेटा के रूप में संग्रहीत मौजूद है। सीपी/एम और एमएस-डॉस जैसे ऑपरेटिंग सिस्टम में, जहां ऑपरेटिंग सिस्टम बाइट में फाइल साइज का ट्रैक नहीं रखता है, वहीं टेक्स्ट फाइल का अंत एक या एक से अधिक विशेष पात्रों को रखकर दर्शाया जाता है, जिसे एंड-ऑफ-फाइल मार्कर के रूप में जाना जाता है, जैसा कि टेक्स्ट फाइल में अंतिम पंक्ति के बाद पैडिंग है । माइक्रोसॉफ्ट विंडोज और यूनिक्स जैसे सिस्टम जैसे आधुनिक ऑपरेटिंग सिस्टम पर, टेक्स्ट फाइलों में कोई विशेष ईओएफ चरित्र नहीं होता है, क्योंकि उन ऑपरेटिंग सिस्टम पर फ़ाइल सिस्टम बाइट में फ़ाइल आकार का ट्रैक रखते हैं। अधिकांश टेक्स्ट फ़ाइलों के लिए एंड-ऑफ-लाइन परिसीमन की आवश्यकता होती है, जो ऑपरेटिंग सिस्टम के आधार पर कुछ अलग-अलग तरीकों से किए जाते हैं। रिकॉर्ड-ओरिएंटेड फाइल सिस्टम वाले कुछ ऑपरेटिंग सिस्टम नई लाइन परिसीमन का उपयोग नहीं कर सकते हैं और मुख्य रूप से निश्चित या परिवर्तनीय लंबाई रिकॉर्ड के रूप में अलग लाइनों के साथ टेक्स्ट फाइलों को स्टोर करेंगे।\n",
      "\n",
      "\"टेक्स्ट फ़ाइल\" एक प्रकार के कंटेनर को संदर्भित करता है, जबकि सादा पाठ एक प्रकार की सामग्री को संदर्भित करता है।\n",
      "\n",
      "विवरण के सामान्य स्तर पर, दो प्रकार की कंप्यूटर फाइलें हैं: टेक्स्ट फाइलें और बाइनरी फाइलें।\n",
      "\n",
      "डेटा स्टोरेज\n",
      "\n",
      "सीएसवी-स्वरूपित टेक्स्ट फ़ाइल का एक शैलीबद्ध प्रतिष्ठित चित्रण।\n",
      "उनकी सादगी के कारण, पाठ फ़ाइलों का उपयोग आमतौर पर जानकारी के भंडारण के लिए किया जाता है। वे अन्य फ़ाइल प्रारूपों के साथ आने वाली कुछ समस्याओं से बचते हैं, जैसे कि एंडीनेस, पैडिंग बाइट, या मशीन शब्द में बाइट की संख्या में अंतर। इसके अलावा, जब डेटा भ्रष्टाचार एक टेक्स्ट फ़ाइल में होता है, तो अक्सर शेष सामग्री को ठीक करना और प्रसंस्करण जारी रखना आसान होता है। टेक्स्ट फ़ाइलों का नुकसान यह है कि उनके पास आमतौर पर कम एंट्रोपी होती है, जिसका अर्थ है कि जानकारी सख्ती से आवश्यक है।\n",
      "\n",
      "व्याख्या में पाठक की सहायता करने के लिए एक साधारण टेक्स्ट फ़ाइल को कोई अतिरिक्त मेटाडेटा (इसके चरित्र सेट के ज्ञान के अलावा) की आवश्यकता नहीं हो सकती है। एक टेक्स्ट फाइल में कोई डेटा नहीं हो सकता है, जो शून्य-बाइट फ़ाइल का मामला है।\n",
      "\n",
      "एन्कोडिंग\n",
      "एएससीआईआई चरित्र सेट अंग्रेजी भाषा की टेक्स्ट फ़ाइलों के लिए चरित्र सेट का सबसे आम संगत सबसेट है, और आम तौर पर कई स्थितियों में डिफ़ॉल्ट फ़ाइल प्रारूप माना जाता है। यह अमेरिकी अंग्रेजी को शामिल किया गया है, लेकिन ब्रिटिश पाउंड हस्ताक्षर, यूरो हस्ताक्षर, या अंग्रेजी के बाहर इस्तेमाल पात्रों के लिए, एक अमीर चरित्र सेट का इस्तेमाल किया जाना चाहिए । कई प्रणालियों में, यह कंप्यूटर पर डिफ़ॉल्ट स्थान सेटिंग के आधार पर चुना जाता है। यूटीएफ-8 से पहले, यह पारंपरिक रूप से एकल-बाइट एन्कोडिंग्स (जैसे आईएसओ-8859-1 के माध्यम से आईएसओ-8859-1) यूरोपीय भाषाओं और एशियाई भाषाओं के लिए व्यापक चरित्र एन्कोडिंग के लिए था।\n",
      "\n",
      "क्योंकि एन्कोडिंग में आवश्यक रूप से पात्रों की केवल एक सीमित प्रदर्शनों की सूची होती है, अक्सर बहुत छोटे होते हैं, कई केवल मानव भाषाओं के सीमित सबसेट में पाठ का प्रतिनिधित्व करने के लिए प्रयोग करने योग्य होते हैं। यूनिकोड सभी ज्ञात भाषाओं का प्रतिनिधित्व करने के लिए एक सामान्य मानक बनाने का प्रयास है, और सबसे ज्ञात चरित्र सेट बहुत बड़े यूनिकोड चरित्र सेट के सबसेट हैं। यद्यपि यूनिकोड के लिए कई चरित्र एन्कोडिंग उपलब्ध हैं, लेकिन सबसे आम यूटीएफ-8 है, जिसे एएससीआईआई के साथ पीछे की ओर संगत होने का लाभ है; यही है, प्रत्येक एएससीआईआई टेक्स्ट फ़ाइल समान अर्थ के साथ यूटीएफ-8 टेक्स्ट फाइल भी है। यूटीएफ-8 को भी फायदा है कि यह आसानी से ऑटो डिटेक्शनेबल हो जाता है। इस प्रकार, यूटीएफ-8 सक्षम सॉफ्टवेयर का एक सामान्य ऑपरेटिंग मोड, अज्ञात एन्कोडिंग की फाइलें खोलते समय, यूटीएफ-8 को पहले आज़माना है और जब यह निश्चित रूप से यूटीएफ-8 नहीं है तो एक स्थान निर्भर विरासत एन्कोडिंग पर वापस आ जाता है।\n",
      "\n",
      "स्वरूपों\n",
      "अधिकांश ऑपरेटिंग सिस्टम पर नाम टेक्स्ट फ़ाइल फ़ाइल प्रारूप को संदर्भित करता है जो बहुत कम प्रारूपण (जैसे, कोई बोल्ड या इटालिक प्रकार) के साथ केवल सादे टेक्स्ट सामग्री की अनुमति देता है। ऐसी फ़ाइलों को टेक्स्ट टर्मिनलों पर या सरल टेक्स्ट संपादकों में देखा और संपादित किया जा सकता है। टेक्स्ट फाइल्स में आमतौर पर एमआईएमई टाइप टेक्स्ट/प्लेन होता है, जिसमें आमतौर पर अतिरिक्त जानकारी होती है जो एन्कोडिंग का संकेत होती है ।\n",
      "\n",
      "माइक्रोसॉफ्ट विंडोज टेक्स्ट फाइलें\n",
      "एमएस-डॉस और माइक्रोसॉफ्ट विंडोज एक सामान्य टेक्स्ट फाइल प्रारूप का उपयोग करते हैं, जिसमें दो-चरित्र संयोजन द्वारा अलग किए गए पाठ की प्रत्येक पंक्ति: कैरिज रिटर्न (सीआर) और लाइन फीड (एलएफ)। पाठ की अंतिम पंक्ति को सीआर-एलएफ मार्कर के साथ समाप्त नहीं किया जाना आम बात है, और कई टेक्स्ट एडिटर (नोटपैड सहित) स्वचालित रूप से अंतिम पंक्ति पर एक नहीं डालते हैं।\n",
      "\n",
      "माइक्रोसॉफ्ट विंडोज ऑपरेटिंग सिस्टम पर, एक फ़ाइल को एक टेक्स्ट फ़ाइल माना जाता है यदि फ़ाइल के नाम का प्रत्यय (\"फाइलनाम एक्सटेंशन\") .txt है। हालांकि, कई अन्य प्रत्यय का उपयोग विशिष्ट उद्देश्यों के साथ टेक्स्ट फाइलों के लिए किया जाता है। उदाहरण के लिए, कंप्यूटर प्रोग्राम के लिए स्रोत कोड आमतौर पर टेक्स्ट फ़ाइलों में रखा जाता है जिसमें फ़ाइल नाम प्रत्यय होता है जो प्रोग्रामिंग भाषा का संकेत देता है जिसमें स्रोत लिखा होता है।\n",
      "\n",
      "अधिकांश Microsoft Windows टेक्स्ट फ़ाइलें \"एएनएसआई\", \"ओईएम\", \"यूनिकोड\" या \"यूटीएफ-8\" एन्कोडिंग का उपयोग करते हैं। क्या माइक्रोसॉफ्ट विंडोज शब्दावली कॉल \"ANSI encodings\" आमतौर पर एकल बाइट आईएसओ/आईईसी ८८५९ एन्कोडिंग्स (यानी माइक्रोसॉफ्ट Notepad मेनू में ANSI वास्तव में \"सिस्टम कोड पेज\", गैर यूनिकोड, विरासत एन्कोडिंग है), ऐसे चीनी, जापानी और कोरियाई के रूप में स्थानों में छोड़कर कि डबल बाइट चरित्र सेट की आवश्यकता होती है । यूनिकोड में संक्रमण से पहले, ANSI एन्कोडिंग पारंपरिक रूप से माइक्रोसॉफ्ट विंडोज के भीतर डिफ़ॉल्ट सिस्टम स्थानों के रूप में उपयोग किए जाते थे। इसके विपरीत, OEM एन्कोडिंग्स, जिसे डॉस कोड पेज के रूप में भी जाना जाता है, को मूल आईबीएम पीसी टेक्स्ट मोड डिस्प्ले सिस्टम में उपयोग के लिए आईबीएम द्वारा परिभाषित किया गया था। वे आम तौर पर डॉस अनुप्रयोगों में आम चित्रमय और लाइन ड्राइंग पात्रों में शामिल हैं। \"यूनिकोड\"-एन्कोड माइक्रोसॉफ्ट विंडोज टेक्स्ट फाइल्स में यूटीएफ-16 यूनिकोड ट्रांसफॉर्मेशन फॉर्मेट में टेक्स्ट होते हैं । ऐसी फाइलें सामान्य रूप से बाइट ऑर्डर मार्क (बीओएम) से शुरू होती हैं, जो फ़ाइल सामग्री की अंतःवितता का संचार करती हैं। हालांकि यूटीएफ-8 एंडियननेस समस्याओं से पीड़ित नहीं है, लेकिन कई माइक्रोसॉफ्ट विंडोज प्रोग्राम (यानी नोटपैड) अन्य 8-बिट एन्कोडिंग से यूटीएफ-8 एन्कोडिंग को अलग करने के लिए बीओएम-8-एन्कोडेडिंग की सामग्री को पहले से ही खर्च करते हैं। [3]\n",
      "\n",
      "यूनिक्स टेक्स्ट फाइलें\n",
      "Unix-जैसे ऑपरेटिंग सिस्टम टेक्स्ट फाइल्स फॉर्मेट पर ठीक वर्णित है: पीओएसिक्स एक टेक्स्ट फ़ाइल को एक फ़ाइल के रूप में परिभाषित करता है जिसमें शून्य या अधिक लाइनों में व्यवस्थित वर्ण होते हैं, [4] जहां लाइनें शून्य या अधिक गैर-न्यूलाइन पात्रों के दृश्यों के साथ-साथ एक समाप्त न्यूलाइन चरित्र, [5] सामान्य रूप से वामो हैं।\n",
      "\n",
      "इसके अतिरिक्त, POSIX एक प्रिंट करने योग्य फ़ाइल को एक टेक्स्ट फ़ाइल के रूप में परिभाषित करता है जिसके वर्ण क्षेत्रीय नियमों के अनुसार प्रिंट करने योग्य या स्थान या बैकस्पेस हैं। इसमें अधिकांश नियंत्रण वर्ण शामिल नहीं हैं, जो प्रिंट करने योग्य नहीं हैं। [6]\n",
      "\n",
      "एप्पल मैकिंटोश टेक्स्ट फाइलें\n",
      "मैक ओएस एक्स (जिसे अब मैकओएस कहा जाता है) के आगमन से पहले, क्लासिक मैक ओएस सिस्टम ने एक फ़ाइल (डेटा कांटा) की सामग्री को एक टेक्स्ट फाइल माना जब इसके संसाधन कांटा ने संकेत दिया कि फ़ाइल का प्रकार \"टेक्स्ट\" था। [7] मैकिंटोश टेक्स्ट फाइलों की लाइनें सीआर पात्रों के साथ समाप्त हो जाती हैं। [8]\n",
      "\n",
      "अनिक्स प्रमाणित होने के नाते, मैकओएस टेक्स्ट फाइलों के लिए पीओएसिक्स प्रारूप का उपयोग करता है। [8] मैकओएस में टेक्स्ट फाइलों के लिए उपयोग किया जाने वाला समान प्रकार का पहचानकर्ता (यूटीआई) \"public.सादे-पाठ\" है; अतिरिक्त, अधिक विशिष्ट यूटीआई हैं: यूटीएफ-8-एन्कोडेड टेक्स्ट के लिए \"public.utf8-सादे-पाठ\", \"public.utf16-बाहरी-सादे-पाठ\" और \"public.utf16-सादे-पाठ\" utf-16-encoded पाठ और \"com.apple.apple.ोठेल.पारंपरिक-मैक-प्लेन-टेक्स्ट\" क्लासिक मैक ओएस टेक्स्ट फाइलों के लिए।\n",
      "Un fichier texte (parfois orthographié textfile; un ancien nom alternatif est flatfile) est une sorte de fichier informatique qui est structuré comme une séquence de lignes de texte électronique. Un fichier texte existe stocké sous forme de données dans un système de fichiers informatiques. Dans les systèmes d’exploitation tels que CP/M et MS-DOS, où le système d’exploitation ne garde pas une trace de la taille du fichier dans les octets, la fin d’un fichier texte est indiquée en plaçant un ou plusieurs caractères spéciaux, connus sous le nom de marqueur de fin de fichier, comme rembourrage après la dernière ligne dans un fichier texte. Sur les systèmes d’exploitation modernes tels que Microsoft Windows et les systèmes de style Unix, les fichiers texte ne contiennent aucun caractère EOF spécial, car les systèmes de fichiers de ces systèmes d’exploitation suivent la taille des fichiers dans les octets. Il ya pour la plupart des fichiers texte un besoin d’avoir delimiters de fin de ligne, qui sont faites de quelques façons différentes en fonction du système d’exploitation. Certains systèmes d’exploitation avec des systèmes de fichiers orientés vers les enregistrements peuvent ne pas utiliser de nouveaux délimiteurs de ligne et stockeront principalement des fichiers texte avec des lignes séparées sous forme d’enregistrements de longueur fixe ou variable.\n",
      "\n",
      "Le « fichier texte » désigne un type de conteneur, tandis que le texte clair fait référence à un type de contenu.\n",
      "\n",
      "À un niveau générique de description, il existe deux types de fichiers informatiques : les fichiers texte et les fichiers binaires.\n",
      "\n",
      "Stockage de données\n",
      "\n",
      "Une représentation iconique stylisée d’un fichier texte formaté CSV.\n",
      "En raison de leur simplicité, les fichiers texte sont couramment utilisés pour le stockage d’informations. Ils évitent certains des problèmes rencontrés avec d’autres formats de fichiers, tels que l’endianness, les octets de rembourrage, ou les différences dans le nombre d’octets dans un mot machine. En outre, lorsque la corruption de données se produit dans un fichier texte, il est souvent plus facile de récupérer et de continuer à traiter le contenu restant. Un inconvénient des fichiers texte est qu’ils ont généralement une faible entropie, ce qui signifie que l’information occupe plus de stockage que ce qui est strictement nécessaire.\n",
      "\n",
      "Un fichier texte simple peut ne pas avoir besoin de métadonnées supplémentaires (autre que la connaissance de son ensemble de caractères) pour aider le lecteur à l’interprétation. Un fichier texte ne peut contenir aucune donnée du tout, ce qui est un cas de fichier zéro-byte.\n",
      "\n",
      "codage\n",
      "L’ensemble de caractères ASCII est le sous-ensemble compatible le plus courant de jeux de caractères pour les fichiers texte de langue anglaise, et est généralement supposé être le format de fichier par défaut dans de nombreuses situations. Il couvre l’anglais américain, mais pour le signe british pound, le signe Euro, ou les caractères utilisés en dehors de l’anglais, un ensemble de caractères plus riche doit être utilisé. Dans de nombreux systèmes, ceci est choisi en fonction du paramètre local par défaut sur l’ordinateur sur qui il est lu. Avant utf-8, il s’agissait traditionnellement d’encodages d’un seul byte (tels que l’ISO-8859-1 par l’intermédiaire de l’ISO-8859-16) pour les langues européennes et les codages de caractères larges pour les langues asiatiques.\n",
      "\n",
      "Parce que les encodages n’ont nécessairement qu’un répertoire limité de personnages, souvent très petits, beaucoup ne sont utilisables que pour représenter le texte dans un sous-ensemble limité de langues humaines. Unicode est une tentative de créer une norme commune pour représenter toutes les langues connues, et la plupart des ensembles de personnages connus sont des sous-ensembles du très grand ensemble de caractères Unicode. Bien qu’il existe plusieurs codages de caractères disponibles pour Unicode, le plus commun est UTF-8, qui a l’avantage d’être compatible vers l’arrière avec ASCII; c’est-à-dire que chaque fichier texte ASCII est également un fichier texte UTF-8 ayant une signification identique. UTF-8 a également l’avantage qu’il est facilement auto-détectable. Ainsi, un mode de fonctionnement commun de utf-8 logiciel capable, lors de l’ouverture des fichiers d’encodage inconnu, est d’essayer UTF-8 d’abord et reto reto relèvent d’un encodage de l’héritage dépendant local quand il n’est certainement pas UTF-8.\n",
      "\n",
      "Formats\n",
      "Sur la plupart des systèmes d’exploitation, le fichier texte nom se réfère au format de fichier qui ne permet que le contenu en texte clair avec très peu de formatage (par exemple, pas de types gras ou italiques). Ces fichiers peuvent être consultés et édités sur des terminaux texte ou dans de simples éditeurs de texte. Les fichiers texte ont généralement le type MIME texte / plaine, généralement avec des informations supplémentaires indiquant un encodage.\n",
      "\n",
      "Fichiers texte Microsoft Windows\n",
      "MS-DOS et Microsoft Windows utilisent un format de fichier texte commun, chaque ligne de texte étant séparée par une combinaison de deux caractères : retour de chariot (CR) et flux en ligne (LF). Il est courant que la dernière ligne de texte ne soit pas terminée avec un marqueur CR-LF, et de nombreux éditeurs de texte (y compris notepad) n’en insèrent pas automatiquement un sur la dernière ligne.\n",
      "\n",
      "Sur les systèmes d’exploitation Microsoft Windows, un fichier est considéré comme un fichier texte si le suffixe du nom du fichier (l’extension de nom de fichier) est .txt. Cependant, de nombreux autres suffixes sont utilisés pour des fichiers texte à des fins spécifiques. Par exemple, le code source pour les programmes informatiques est généralement conservé dans les fichiers texte qui ont des suffixes de nom de fichier indiquant le langage de programmation dans lequel la source est écrite.\n",
      "\n",
      "La plupart des fichiers texte Microsoft Windows utilisent l’encodage « ANSI », « OEM », « Unicode » ou « UTF-8 ». Ce que la terminologie microsoft Windows appelle les « encodages ANSI » sont généralement des codages ISO/IEC 8859 à un seul byte (c.-à-d. ansi dans les menus Microsoft Notepad est vraiment « System Code Page », non-Unicode, encodage hérité), sauf dans des endroits tels que le chinois, le japonais et le coréen qui nécessitent des ensembles de caractères double-byte. Les encodages ANSI étaient traditionnellement utilisés comme emplacements de système par défaut au sein de Microsoft Windows, avant la transition vers Unicode. En revanche, les codages OEM, également connus sous le nom de pages de code DOS, ont été définis par IBM pour une utilisation dans le système d’affichage original du mode texte IBM PC. Ils incluent généralement des caractères graphiques et de dessin au sort communs dans les applications DOS. Les fichiers texte Microsoft Windows codés par « Unicode » contiennent du texte dans le format de transformation Unicode UTF-16. Ces fichiers commencent normalement par Byte Order Mark (BOM), qui communique l’endianness du contenu du fichier. Bien que l’UTF-8 ne souffre pas de problèmes d’endianness, de nombreux programmes Microsoft Windows (c.-à-Notepad) prépendent le contenu des fichiers codés UTF-8 avec BOM,[2] pour différencier l’encodage UTF-8 des autres codages 8 bits. [3]\n",
      "\n",
      "Fichiers texte Unix\n",
      "Sur les systèmes d’exploitation unix-like format de fichiers texte est précisément décrit: POSIX définit un fichier texte comme un fichier qui contient des caractères organisés en lignes zéro ou plus,[4] où les lignes sont des séquences de zéro ou plus caractères non-newline plus un caractère de nouvelle ligne de terminaison,[5] normalement LF.\n",
      "\n",
      "En outre, POSIX définit un fichier imprimable comme un fichier texte dont les caractères sont imprimables ou l’espace ou l’espace arrière selon les règles régionales. Cela exclut la plupart des caractères de contrôle, qui ne sont pas imprimables. [6]\n",
      "\n",
      "Fichiers texte Apple Macintosh\n",
      "Avant l’avènement de Mac OS X (maintenant appelé macOS), le système Mac OS classique considérait le contenu d’un fichier (la fourchette de données) comme un fichier texte lorsque sa fourchette de ressources indiquait que le type de fichier était « TEXT ». [7] Les lignes de fichiers texte Macintosh sont terminées avec des caractères CR. [8]\n",
      "\n",
      "Certifié Unix, macOS utilise le format POSIX pour les fichiers texte. [8] L’identificateur uniforme de type (UTI) utilisé pour les fichiers texte dans macOS est « public.plain-text » ; d’autres UTI plus spécifiques sont : « public.utf8-plain-text » pour utf-8-encoded text, « public.utf16-external-plain-text » et « public.utf16-plain-text » pour le texte codé utf-16 et « com.apple.traditional-mac-plain-text » pour les fichiers texte mac OS classiques.\n"
     ]
    },
    {
     "name": "stdout",
     "output_type": "stream",
     "text": [
      "A text file (sometimes spelled textfile; an old alternative name is flatfile) is a kind of computer file that is structured as a sequence of lines of electronic text. A text file exists stored as data within a computer file system. In operating systems such as CP/M and MS-DOS, where the operating system does not keep track of the file size in bytes, the end of a text file is denoted by placing one or more special characters, known as an end-of-file marker, as padding after the last line in a text file. On modern operating systems such as Microsoft Windows and Unix-like systems, text files do not contain any special EOF character, because file systems on those operating systems keep track of the file size in bytes. There are for most text files a need to have end-of-line delimiters, which are done in a few different ways depending on operating system. Some operating systems with record-orientated file systems may not use new line delimiters and will primarily store text files with lines separated as fixed or variable length records.\n",
      "\n",
      "\"Text file\" refers to a type of container, while plain text refers to a type of content.\n",
      "\n",
      "At a generic level of description, there are two kinds of computer files: text files and binary files.\n",
      "\n",
      "Data storage\n",
      "\n",
      "A stylized iconic depiction of a CSV-formatted text file.\n",
      "Because of their simplicity, text files are commonly used for storage of information. They avoid some of the problems encountered with other file formats, such as endianness, padding bytes, or differences in the number of bytes in a machine word. Further, when data corruption occurs in a text file, it is oft easier to recover and continue processing the remaining contents. A disadvantage of text files is that they usually have a low entropy, meaning that the information occupies more storage than is strictly necessary.\n",
      "\n",
      "A simple text file may need no additional metadata (other than knowledge of its character set) to assist the reader in interpretation. A text file may contain no data at all, which is a case of zero-byte file.\n",
      "\n",
      "Encoding\n",
      "The ASCII character set is the most common compatible subset of character sets for English-language text files, and is generally assumed to be the default file format in many situations. It covers American English, but for the British Pound sign, the Euro sign, or characters used outside English, a richer character set must be used. In many systems, this is chosen based on the default locale setting on the computer it is read on. Prior to UTF-8, this was traditionally single-byte encodings (such as ISO-8859-1 through ISO-8859-16) for European languages and wide character encodings for Asian languages.\n",
      "\n",
      "Because encodings necessarily have only a limited repertoire of characters, often very small, many are only usable to represent text in a limited subset of human languages. Unicode is an attempt to create a common standard for representing all known languages, and most known character sets are subsets of the very large Unicode character set. Although there are multiple character encodings available for Unicode, the most common is UTF-8, which has the advantage of being backwards-compatible with ASCII; that is, every ASCII text file is also a UTF-8 text file with identical meaning. UTF-8 also has the advantage that it is easily auto-detectable. Thus, a common operating mode of UTF-8 capable software, when opening files of unknown encoding, is to try UTF-8 first and fall back to a locale dependent legacy encoding when it definitely isn't UTF-8.\n",
      "\n",
      "Formate\n",
      "On most operating systems the name text file refers to file format that allows only plain text content with very little formatting (e.g., no bold or italic types). Such files can be viewed and edited on text terminals or in simple text editors. Text files usually have the MIME type text/plain, usually with additional information indicating an encoding.\n",
      "\n",
      "Microsoft Windows text files\n",
      "MS-DOS und Microsoft Windows use a common text file format, with each line of text separated by a two-character combination: carriage return (CR) and line feed (LF). It is common for the last line of text not to be terminated with a CR-LF marker, and many text editors (including Notepad) do not automatically insert one on the last line.\n",
      "\n",
      "On Microsoft Windows operating systems, a file is regarded as a text file if the suffix of the name of the file (the \"filename extension\") is .txt. However, many other suffixes are used for text files with specific purposes. For example, source code for computer programs is usually kept in text files that have file name suffixes indicating the programming language in which the source is written.\n",
      "\n",
      "Most Microsoft Windows text files use \"ANSI\", \"OEM\", \"Unicode\" oder \"UTF-8\" encoding. What Microsoft Windows terminology calls \"ANSI encodings\" are usually single-byte ISO/IEC 8859 encodings (i.e. ANSI in the Microsoft Notepad menus is really \"System Code Page\", non-Unicode, legacy encoding), except for in locales such as Chinese, Japanese and Korean that require double-byte character sets. ANSI encodings were traditionally used as default system locales within Microsoft Windows, before the transition to Unicode. By contrast, OEM encodings, also known as DOS code pages, were defined by IBM for use in the original IBM PC text mode display system. They typically include graphical and line-drawing characters common in DOS applications. \"Unicode\"-encoded Microsoft Windows text files contain text in UTF-16 Unicode Transformation Format. Such files normally begin with Byte Order Mark (BOM), which communicates the endianness of the file content. Although UTF-8 does not suffer from endianness problems, many Microsoft Windows programs (i.e. Notepad) prepend the contents of UTF-8-encoded files with BOM,[2] to differentiate UTF-8 encoding from other 8-bit encodings. [3]\n",
      "\n",
      "Unix text files\n",
      "On Unix-like operating systems text files format is precisely described: POSIX defines a text file as a file that contains characters organized into zero or more lines,[4] where lines are sequences of zero or more non-newline characters plus a terminating newline character,[5] normally LF.\n",
      "\n",
      "Additionally, POSIX defines a printable file as a text file whose characters are printable or space or backspace according to regional rules. This excludes most control characters, which are not printable. [6]\n",
      "\n",
      "Apple Macintosh text files\n",
      "Prior to the advent of Mac OS X (now called macOS), the classic Mac OS system regarded the content of a file (the data fork) to be a text file when its resource fork indicated that the type of the file was \"TEXT\". [7] Lines of Macintosh text files are terminated with CR characters. [8]\n",
      "\n",
      "Being certified Unix, macOS uses POSIX format for text files. [8] Uniform Type Identifier (UTI) used for text files in macOS is \"public.plain-text\"; additional, more specific UTIs are: \"public.utf8-plain-text\" for utf-8-encoded text, \"public.utf16-external-plain-text\" and \"public.utf16-plain-text\" for utf-16-encoded text and \"com.apple.traditional-mac-plain-text\" for classic Mac OS text files.\n",
      "Un archivo de texto (a veces escrito textfile; un nombre alternativo antiguo es flatfile) es una especie de archivo informático que se estructura como una secuencia de líneas de texto electrónico. Existe un archivo de texto almacenado como datos dentro de un sistema de archivos de equipo. En sistemas operativos como CP/M y MS-DOS, donde el sistema operativo no realiza un seguimiento del tamaño del archivo en bytes, el final de un archivo de texto se denota colocando uno o varios caracteres especiales, conocidos como marcador de fin de archivo, como relleno después de la última línea de un archivo de texto. En sistemas operativos modernos como Microsoft Windows y sistemas similares a Unix, los archivos de texto no contienen ningún carácter EOF especial, ya que los sistemas de archivos de esos sistemas operativos realizan un seguimiento del tamaño del archivo en bytes. Hay para la mayoría de los archivos de texto la necesidad de tener delimitadores de fin de línea, que se hacen de varias maneras diferentes dependiendo del sistema operativo. Es posible que algunos sistemas operativos con sistemas de archivos orientados a registros no utilicen delimitadores de líneas nuevos y almacenarán principalmente archivos de texto con líneas separadas como registros de longitud fija o variable.\n",
      "\n",
      "\"Archivo de texto\" hace referencia a un tipo de contenedor, mientras que el texto sin formato hace referencia a un tipo de contenido.\n",
      "\n",
      "En un nivel genérico de descripción, hay dos tipos de archivos informáticos: archivos de texto y archivos binarios.\n",
      "\n",
      "Almacenamiento de datos\n",
      "\n",
      "Una representación icónica estilizada de un archivo de texto con formato CSV.\n",
      "Debido a su simplicidad, los archivos de texto se utilizan comúnmente para el almacenamiento de información. Evitan algunos de los problemas encontrados con otros formatos de archivo, como endianness, bytes de relleno o diferencias en el número de bytes de una palabra de máquina. Además, cuando se produce corrupción de datos en un archivo de texto, a menudo es más fácil recuperar y continuar procesando el contenido restante. Una desventaja de los archivos de texto es que por lo general tienen una baja entropía, lo que significa que la información ocupa más almacenamiento del estrictamente necesario.\n",
      "\n",
      "Un archivo de texto simple puede no necesitar metadatos adicionales (aparte del conocimiento de su conjunto de caracteres) para ayudar al lector en la interpretación. Un archivo de texto puede no contener datos en absoluto, que es un caso de archivo de cero byte.\n",
      "\n",
      "codificación\n",
      "El juego de caracteres ASCII es el subconjunto compatible más común de conjuntos de caracteres para archivos de texto en inglés y, por lo general, se supone que es el formato de archivo predeterminado en muchas situaciones. Cubre inglés americano, pero para el signo libra esterlina, el signo del euro o los caracteres utilizados fuera del inglés, se debe usar un juego de caracteres más rico. En muchos sistemas, esto se elige en función de la configuración regional predeterminada en el equipo en el que se lee. Antes de UTF-8, esto era tradicionalmente codificaciones de un solo byte (como ISO-8859-1 a ISO-8859-16) para idiomas europeos y codificaciones de caracteres anchos para idiomas asiáticos.\n",
      "\n",
      "Debido a que las codificaciones necesariamente tienen un repertorio limitado de caracteres, a menudo muy pequeños, muchos sólo son utilizables para representar texto en un subconjunto limitado de lenguas humanas. Unicode es un intento de crear un estándar común para representar todos los lenguajes conocidos, y los conjuntos de caracteres más conocidos son subconjuntos del muy grande juego de caracteres Unicode. Aunque hay varias codificaciones de caracteres disponibles para Unicode, la más común es UTF-8, que tiene la ventaja de ser compatible con versiones anteriores con ASCII; es decir, cada archivo de texto ASCII también es un archivo de texto UTF-8 con idéntico significado. UTF-8 también tiene la ventaja de que es fácilmente auto-detectable. Por lo tanto, un modo de funcionamiento común del software compatible con UTF-8, al abrir archivos de codificación desconocida, es probar UTF-8 primero y volver a una codificación heredada localdependiente cuando definitivamente no es UTF-8.\n",
      "\n",
      "formato\n",
      "En la mayoría de los sistemas operativos, el archivo de texto de nombre se refiere al formato de archivo que solo permite contenido de texto sin formato con muy poco formato (por ejemplo, sin tipos en negrita o cursivo). Estos archivos se pueden ver y editar en terminales de texto o en editores de texto simples. Los archivos de texto suelen tener el tipo MIME text/plain, normalmente con información adicional que indica una codificación.\n",
      "\n",
      "Archivos de texto de Microsoft Windows\n",
      "MS-DOS y Microsoft Windows utilizan un formato de archivo de texto común, con cada línea de texto separada por una combinación de dos caracteres: retorno de carro (CR) y fuente de línea (LF). Es común que la última línea de texto no se termine con un marcador CR-LF, y muchos editores de texto (incluido el Bloc de notas) no insertan automáticamente uno en la última línea.\n",
      "\n",
      "En los sistemas operativos Microsoft Windows, un archivo se considera como un archivo de texto si el sufijo del nombre del archivo (la \"extensión de nombre de archivo\") está .txt. Sin embargo, muchos otros sufijos se utilizan para archivos de texto con fines específicos. Por ejemplo, el código fuente de los programas informáticos normalmente se conserva en archivos de texto que tienen sufijos de nombre de archivo que indican el lenguaje de programación en el que se escribe el origen.\n",
      "\n",
      "La mayoría de los archivos de texto de Microsoft Windows utilizan codificación \"ANSI\", \"OEM\", \"Unicode\" o \"UTF-8\". Lo que la terminología de Microsoft Windows llama \"codificaciones ANSI\" suelen ser codificaciones ISO/IEC 8859 de un solo byte (es decir, ANSI en los menús del Bloc de notas de Microsoft es realmente \"Página de códigos del sistema\", no Unicode, codificación heredada), excepto en configuraciones regionales como chino, japonés y coreano que requieren conjuntos de caracteres de doble byte. Las codificaciones ANSI se usaban tradicionalmente como configuraciones regionales predeterminadas del sistema en Microsoft Windows, antes de la transición a Unicode. Por el contrario, IBM definió las codificaciones OEM, también conocidas como páginas de códigos DOS, para su uso en el sistema de visualización de modo de texto original de IBM PC. Normalmente incluyen caracteres gráficos y de dibujo de líneas comunes en las aplicaciones de DOS. Los archivos de texto de Microsoft Windows codificados en \"Unicode\" contienen texto en formato de transformación Unicode UTF-16. Estos archivos normalmente comienzan con la marca de orden de byte (LDM), que comunica la endianness del contenido del archivo. Aunque UTF-8 no sufre problemas de endianness, muchos programas de Microsoft Windows (es decir, Bloc de notas) anteponen el contenido de archivos codificados en UTF-8 con LDM,[2] para diferenciar la codificación UTF-8 de otras codificaciones de 8 bits. [3]\n",
      "\n",
      "Archivos de texto Unix\n",
      "En sistemas operativos unix, el formato de archivos de texto se describe con precisión: POSIX define un archivo de texto como un archivo que contiene caracteres organizados en cero o más líneas,[4] donde las líneas son secuencias de cero o más caracteres no de nueva línea más un carácter de nueva línea de terminación,[5] normalmente LF.\n",
      "\n",
      "Además, POSIX define un archivo imprimible como un archivo de texto cuyos caracteres son imprimibles o espacio o retroceso de acuerdo con las reglas regionales. Esto excluye la mayoría de los caracteres de control, que no se pueden imprimir. [6]\n",
      "\n",
      "Archivos de texto macintosh de Apple\n",
      "Antes del advenimiento de Mac OS X (ahora llamado macOS), el clásico sistema Mac OS consideraba que el contenido de un archivo (la tenedor de datos) era un archivo de texto cuando su tenedor de recursos indicaba que el tipo del archivo era \"TEXT\". [7] Las líneas de archivos de texto Macintosh se terminan con caracteres CR. [8]\n",
      "\n",
      "Al certificarse Unix, macOS utiliza el formato POSIX para archivos de texto. [8] El identificador uniforme de tipo (UTI) utilizado para archivos de texto en macOS es \"public.plain-text\"; otras UTIs más específicas son: \"public.utf8-plain-text\" para texto codificado en utf-8, \"public.utf16-external-plain-text\" y \"public.utf16-plain-text\" para texto codificado en utf-16 y \"com.apple.traditional-mac-plain-text\" para archivos de texto clásicos de Mac OS.\n"
     ]
    }
   ],
   "source": [
    "translations = translate_text(var, 'en','hi')\n",
    "print(translations)\n",
    "translations = translate_text(var, 'hi','fr')\n",
    "print(translations)\n",
    "translations = translate_text(var, 'fr','de')\n",
    "print(translations)\n",
    "translations = translate_text(var, 'de','es')\n",
    "print(translations)"
   ]
  },
  {
   "cell_type": "code",
   "execution_count": null,
   "metadata": {},
   "outputs": [],
   "source": []
  }
 ],
 "metadata": {
  "kernelspec": {
   "display_name": "Python 3",
   "language": "python",
   "name": "python3"
  },
  "language_info": {
   "codemirror_mode": {
    "name": "ipython",
    "version": 3
   },
   "file_extension": ".py",
   "mimetype": "text/x-python",
   "name": "python",
   "nbconvert_exporter": "python",
   "pygments_lexer": "ipython3",
   "version": "3.8.5"
  }
 },
 "nbformat": 4,
 "nbformat_minor": 4
}
