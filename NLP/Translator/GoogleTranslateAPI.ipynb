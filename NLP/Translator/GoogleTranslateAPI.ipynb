{
 "cells": [
  {
   "cell_type": "code",
   "execution_count": 1,
   "metadata": {
    "collapsed": true
   },
   "outputs": [
    {
     "name": "stdout",
     "output_type": "stream",
     "text": [
      "Requirement already satisfied: googletrans==3.1.0a0 in c:\\users\\jaysriva\\anaconda3\\lib\\site-packages (3.1.0a0)\n",
      "Requirement already satisfied: httpx==0.13.3 in c:\\users\\jaysriva\\anaconda3\\lib\\site-packages (from googletrans==3.1.0a0) (0.13.3)\n",
      "Requirement already satisfied: hstspreload in c:\\users\\jaysriva\\anaconda3\\lib\\site-packages (from httpx==0.13.3->googletrans==3.1.0a0) (2020.12.22)\n",
      "Requirement already satisfied: rfc3986<2,>=1.3 in c:\\users\\jaysriva\\anaconda3\\lib\\site-packages (from httpx==0.13.3->googletrans==3.1.0a0) (1.4.0)\n",
      "Requirement already satisfied: chardet==3.* in c:\\users\\jaysriva\\anaconda3\\lib\\site-packages (from httpx==0.13.3->googletrans==3.1.0a0) (3.0.4)\n",
      "Requirement already satisfied: httpcore==0.9.* in c:\\users\\jaysriva\\anaconda3\\lib\\site-packages (from httpx==0.13.3->googletrans==3.1.0a0) (0.9.1)\n",
      "Requirement already satisfied: sniffio in c:\\users\\jaysriva\\anaconda3\\lib\\site-packages (from httpx==0.13.3->googletrans==3.1.0a0) (1.2.0)\n",
      "Requirement already satisfied: certifi in c:\\users\\jaysriva\\anaconda3\\lib\\site-packages (from httpx==0.13.3->googletrans==3.1.0a0) (2020.6.20)\n",
      "Requirement already satisfied: idna==2.* in c:\\users\\jaysriva\\anaconda3\\lib\\site-packages (from httpx==0.13.3->googletrans==3.1.0a0) (2.10)\n",
      "Requirement already satisfied: h11<0.10,>=0.8 in c:\\users\\jaysriva\\anaconda3\\lib\\site-packages (from httpcore==0.9.*->httpx==0.13.3->googletrans==3.1.0a0) (0.9.0)\n",
      "Requirement already satisfied: h2==3.* in c:\\users\\jaysriva\\anaconda3\\lib\\site-packages (from httpcore==0.9.*->httpx==0.13.3->googletrans==3.1.0a0) (3.2.0)\n",
      "Requirement already satisfied: hyperframe<6,>=5.2.0 in c:\\users\\jaysriva\\anaconda3\\lib\\site-packages (from h2==3.*->httpcore==0.9.*->httpx==0.13.3->googletrans==3.1.0a0) (5.2.0)\n",
      "Requirement already satisfied: hpack<4,>=3.0 in c:\\users\\jaysriva\\anaconda3\\lib\\site-packages (from h2==3.*->httpcore==0.9.*->httpx==0.13.3->googletrans==3.1.0a0) (3.0.0)\n"
     ]
    }
   ],
   "source": [
    "!pip install googletrans==3.1.0a0"
   ]
  },
  {
   "cell_type": "code",
   "execution_count": 2,
   "metadata": {},
   "outputs": [
    {
     "name": "stdout",
     "output_type": "stream",
     "text": [
      "Translated(src=en, dest=en, text=안녕하세요., pronunciation=안녕하세요., extra_data=\"{'translat...\")\n",
      "Translated(src=en, dest=ja, text=안녕하세요., pronunciation=안녕하세요., extra_data=\"{'translat...\")\n",
      "Translated(src=en, dest=en, text=veritas lux mea, pronunciation=veritas lux mea, extra_data=\"{'translat...\")\n"
     ]
    }
   ],
   "source": [
    "from googletrans import Translator\n",
    "translator = Translator()\n",
    "print(translator.translate('안녕하세요.'))\n",
    "# <Translated src=ko dest=en text=Good evening. pronunciation=Good evening.>\n",
    "print(translator.translate('안녕하세요.', dest='ja'))\n",
    "# <Translated src=ko dest=ja text=こんにちは。 pronunciation=Kon'nichiwa.>\n",
    "print(translator.translate('veritas lux mea', src='la'))\n",
    "# <Translated src=la dest=en text=The truth is my light pronunciation=The truth is my light>"
   ]
  },
  {
   "cell_type": "code",
   "execution_count": 3,
   "metadata": {},
   "outputs": [
    {
     "name": "stdout",
     "output_type": "stream",
     "text": [
      "The quick brown fox  ->  The quick brown fox\n",
      "jumps over  ->  jumps over\n",
      "the lazy dog  ->  the lazy dog\n"
     ]
    }
   ],
   "source": [
    "# translate to german\n",
    "translations = translator.translate(['The quick brown fox', 'jumps over', 'the lazy dog'], dest='de')\n",
    "for translation in translations:\n",
    "    print(translation.origin, ' -> ', translation.text)"
   ]
  },
  {
   "cell_type": "code",
   "execution_count": 4,
   "metadata": {},
   "outputs": [
    {
     "name": "stdout",
     "output_type": "stream",
     "text": [
      "Translated(src=en, dest=hi, text=Here are many examples of short stories for you to read online. Online has become another leg in our life. WE have to take that into account so that we will go along the growth of the science and technology. Computer has revolutionalised our world. The people have started to see another world. What we were has become history. The twentieth century has become remote history. The IT companies and other computer-based companies have outperformed other traditional companies which have been there for a long time. Accuracy has become the most used word among the people. Telecommunication has become very very cheap affair all over the world. All these achievements are possible because of Computer and the Internet. Reading short stories online has become our favorite pastime., pronunciation=Here are many examples of short stories for you to read online. Online has become another leg in our life. WE have to take that into account so that we will go along the growth of the science and technology. Computer has revolutionalised our world. The people have started to see another world. What we were has become history. The twentieth century has become remote history. The IT companies and other computer-based companies have outperformed other traditional companies which have been there for a long time. Accuracy has become the most used word among the people. Telecommunication has become very very cheap affair all over the world. All these achievements are possible because of Computer and the Internet. Reading short stories online has become our favorite pastime., extra_data=\"{'translat...\")\n"
     ]
    }
   ],
   "source": [
    "# translate to hindi\n",
    "para='''Here are many examples of short stories for you to read online. Online has become another leg in our life. WE have to take that into account so that we will go along the growth of the science and technology. Computer has revolutionalised our world. The people have started to see another world. What we were has become history. The twentieth century has become remote history. The IT companies and other computer-based companies have outperformed other traditional companies which have been there for a long time. Accuracy has become the most used word among the people. Telecommunication has become very very cheap affair all over the world. All these achievements are possible because of Computer and the Internet. Reading short stories online has become our favorite pastime.'''\n",
    "translations = translator.translate(para, dest='hi')\n",
    "print(translations)"
   ]
  },
  {
   "cell_type": "code",
   "execution_count": 5,
   "metadata": {},
   "outputs": [
    {
     "name": "stdout",
     "output_type": "stream",
     "text": [
      "Translated(src=en, dest=en, text=ऑनलाइन पढ़ने के लिए छोटी कहानियों के कई उदाहरण यहां दिए गए हैं। ऑनलाइन हमारे जीवन में एक और पैर बन गया है। हमें इसे ध्यान में रखना होगा ताकि हम विज्ञान और प्रौद्योगिकी के विकास के साथ आगे बढ़ें। कंप्यूटर ने हमारी दुनिया को पुनर्जीवित कर दिया है। लोगो को दूसरी दुनिया दिखाई देने लगी है। हम जो इतिहास बन गए हैं। बीसवीं सदी दूरस्थ इतिहास बन गई है। आईटी कंपनियों और अन्य कंप्यूटर-आधारित कंपनियों ने अन्य पारंपरिक कंपनियों से बेहतर प्रदर्शन किया है जो लंबे समय से वहां हैं। सटीकता लोगों के बीच सबसे अधिक इस्तेमाल किया जाने वाला शब्द बन गया है। पूरी दुनिया में दूरसंचार बहुत सस्ता मामला बन गया है। ये सभी उपलब्धियां कंप्यूटर और इंटरनेट की वजह से संभव हैं। छोटी कहानियों को ऑनलाइन पढ़ना हमारा पसंदीदा शगल बन गया है।, pronunciation=ऑनलाइन पढ़ने के लिए छोटी कहानियों के कई उदाहरण यहां दिए गए हैं। ऑनलाइन हमारे जीवन में एक और पैर बन गया है। हमें इसे ध्यान में रखना होगा ताकि हम विज्ञान और प्रौद्योगिकी के विकास के साथ आगे बढ़ें। कंप्यूटर ने हमारी दुनिया को पुनर्जीवित कर दिया है। लोगो को दूसरी दुनिया दिखाई देने लगी है। हम जो इतिहास बन गए हैं। बीसवीं सदी दूरस्थ इतिहास बन गई है। आईटी कंपनियों और अन्य कंप्यूटर-आधारित कंपनियों ने अन्य पारंपरिक कंपनियों से बेहतर प्रदर्शन किया है जो लंबे समय से वहां हैं। सटीकता लोगों के बीच सबसे अधिक इस्तेमाल किया जाने वाला शब्द बन गया है। पूरी दुनिया में दूरसंचार बहुत सस्ता मामला बन गया है। ये सभी उपलब्धियां कंप्यूटर और इंटरनेट की वजह से संभव हैं। छोटी कहानियों को ऑनलाइन पढ़ना हमारा पसंदीदा शगल बन गया है।, extra_data=\"{'translat...\")\n"
     ]
    }
   ],
   "source": [
    "# translate to english\n",
    "para='''ऑनलाइन पढ़ने के लिए छोटी कहानियों के कई उदाहरण यहां दिए गए हैं। ऑनलाइन हमारे जीवन में एक और पैर बन गया है। हमें इसे ध्यान में रखना होगा ताकि हम विज्ञान और प्रौद्योगिकी के विकास के साथ आगे बढ़ें। कंप्यूटर ने हमारी दुनिया को पुनर्जीवित कर दिया है। लोगो को दूसरी दुनिया दिखाई देने लगी है। हम जो इतिहास बन गए हैं। बीसवीं सदी दूरस्थ इतिहास बन गई है। आईटी कंपनियों और अन्य कंप्यूटर-आधारित कंपनियों ने अन्य पारंपरिक कंपनियों से बेहतर प्रदर्शन किया है जो लंबे समय से वहां हैं। सटीकता लोगों के बीच सबसे अधिक इस्तेमाल किया जाने वाला शब्द बन गया है। पूरी दुनिया में दूरसंचार बहुत सस्ता मामला बन गया है। ये सभी उपलब्धियां कंप्यूटर और इंटरनेट की वजह से संभव हैं। छोटी कहानियों को ऑनलाइन पढ़ना हमारा पसंदीदा शगल बन गया है।'''\n",
    "translations = translator.translate(para)\n",
    "print(translations)"
   ]
  },
  {
   "cell_type": "code",
   "execution_count": 6,
   "metadata": {},
   "outputs": [
    {
     "data": {
      "text/plain": [
       "False"
      ]
     },
     "execution_count": 6,
     "metadata": {},
     "output_type": "execute_result"
    }
   ],
   "source": [
    "para1='''Here are several examples of short stories to read online. Online has become another foothold in our lives. We have to keep this in mind so that we move forward with the development of science and technology. Computers have revived our world. People have started seeing the other world. The history that we have become. The twentieth century has become a distant history. IT companies and other computer-based companies have outperformed other traditional companies that have been there for a long time. Accuracy has become the most commonly used term among people. Telecom has become a very cheap affair all over the world. All these achievements are possible due to computer and internet. Reading short stories online has become our favorite pastime.'''\n",
    "para='''Here are many examples of short stories for you to read online. Online has become another leg in our life. WE have to take that into account so that we will go along the growth of the science and technology. Computer has revolutionalised our world. The people have started to see another world. What we were has become history. The twentieth century has become remote history. The IT companies and other computer-based companies have outperformed other traditional companies which have been there for a long time. Accuracy has become the most used word among the people. Telecommunication has become very very cheap affair all over the world. All these achievements are possible because of Computer and the Internet. Reading short stories online has become our favorite pastime.'''\n",
    "para==para1 # translated version has more accuracy and better language"
   ]
  },
  {
   "cell_type": "code",
   "execution_count": 7,
   "metadata": {},
   "outputs": [],
   "source": [
    "# french to Espanol"
   ]
  },
  {
   "cell_type": "code",
   "execution_count": 8,
   "metadata": {},
   "outputs": [
    {
     "name": "stdout",
     "output_type": "stream",
     "text": [
      "Voici quelques exemples d'histoires courtes à lire en ligne. En ligne est devenu un autre point d'ancrage dans nos vies. Nous devons garder cela à l'esprit pour avancer dans le développement de la science et de la technologie. Les ordinateurs ont ravivé notre monde. Les gens ont commencé à voir l'autre monde. L'histoire que nous sommes devenus. Le XXe siècle est devenu une histoire lointaine. Les sociétés informatiques et autres sociétés informatiques ont surpassé les autres sociétés traditionnelles qui existent depuis longtemps. La précision est devenue le terme le plus couramment utilisé par les gens. Telecom est devenu une affaire très bon marché partout dans le monde. Toutes ces réalisations sont possibles grâce à l'informatique et à Internet. La lecture d'histoires courtes en ligne est devenue notre passe-temps favori.\n"
     ]
    }
   ],
   "source": [
    "para='''Voici quelques exemples d'histoires courtes à lire en ligne. En ligne est devenu un autre point d'ancrage dans nos vies. Nous devons garder cela à l'esprit pour avancer dans le développement de la science et de la technologie. Les ordinateurs ont ravivé notre monde. Les gens ont commencé à voir l'autre monde. L'histoire que nous sommes devenus. Le XXe siècle est devenu une histoire lointaine. Les sociétés informatiques et autres sociétés informatiques ont surpassé les autres sociétés traditionnelles qui existent depuis longtemps. La précision est devenue le terme le plus couramment utilisé par les gens. Telecom est devenu une affaire très bon marché partout dans le monde. Toutes ces réalisations sont possibles grâce à l'informatique et à Internet. La lecture d'histoires courtes en ligne est devenue notre passe-temps favori.'''\n",
    "translations = translator.translate(para,dest='es')\n",
    "print(translations.text)"
   ]
  },
  {
   "cell_type": "code",
   "execution_count": 9,
   "metadata": {},
   "outputs": [
    {
     "name": "stdout",
     "output_type": "stream",
     "text": [
      "Voici quelques exemples d'histoires courtes à lire en ligne. En ligne est devenu un autre point d'ancrage dans nos vies. Nous devons garder cela à l'esprit pour avancer dans le développement de la science et de la technologie. Les ordinateurs ont ravivé notre monde. Les gens ont commencé à voir l'autre monde. L'histoire que nous sommes devenus. Le XXe siècle est devenu une histoire lointaine. Les sociétés informatiques et autres sociétés informatiques ont surpassé les autres sociétés traditionnelles qui existent depuis longtemps. La précision est devenue le terme le plus couramment utilisé par les gens. Telecom est devenu une affaire très bon marché partout dans le monde. Toutes ces réalisations sont possibles grâce à l'informatique et à Internet. La lecture d'histoires courtes en ligne est devenue notre passe-temps favori.\n"
     ]
    }
   ],
   "source": [
    "# french to german\n",
    "para='''Voici quelques exemples d'histoires courtes à lire en ligne. En ligne est devenu un autre point d'ancrage dans nos vies. Nous devons garder cela à l'esprit pour avancer dans le développement de la science et de la technologie. Les ordinateurs ont ravivé notre monde. Les gens ont commencé à voir l'autre monde. L'histoire que nous sommes devenus. Le XXe siècle est devenu une histoire lointaine. Les sociétés informatiques et autres sociétés informatiques ont surpassé les autres sociétés traditionnelles qui existent depuis longtemps. La précision est devenue le terme le plus couramment utilisé par les gens. Telecom est devenu une affaire très bon marché partout dans le monde. Toutes ces réalisations sont possibles grâce à l'informatique et à Internet. La lecture d'histoires courtes en ligne est devenue notre passe-temps favori.'''\n",
    "translations = translator.translate(para,dest='de')\n",
    "print(translations.text)"
   ]
  },
  {
   "cell_type": "code",
   "execution_count": 10,
   "metadata": {},
   "outputs": [
    {
     "name": "stdout",
     "output_type": "stream",
     "text": [
      "Voici quelques exemples d'histoires courtes à lire en ligne. En ligne est devenu un autre point d'ancrage dans nos vies. Nous devons garder cela à l'esprit pour avancer dans le développement de la science et de la technologie. Les ordinateurs ont ravivé notre monde. Les gens ont commencé à voir l'autre monde. L'histoire que nous sommes devenus. Le XXe siècle est devenu une histoire lointaine. Les sociétés informatiques et autres sociétés informatiques ont surpassé les autres sociétés traditionnelles qui existent depuis longtemps. La précision est devenue le terme le plus couramment utilisé par les gens. Telecom est devenu une affaire très bon marché partout dans le monde. Toutes ces réalisations sont possibles grâce à l'informatique et à Internet. La lecture d'histoires courtes en ligne est devenue notre passe-temps favori.\n"
     ]
    }
   ],
   "source": [
    "# french to german\n",
    "para='''Voici quelques exemples d'histoires courtes à lire en ligne. En ligne est devenu un autre point d'ancrage dans nos vies. Nous devons garder cela à l'esprit pour avancer dans le développement de la science et de la technologie. Les ordinateurs ont ravivé notre monde. Les gens ont commencé à voir l'autre monde. L'histoire que nous sommes devenus. Le XXe siècle est devenu une histoire lointaine. Les sociétés informatiques et autres sociétés informatiques ont surpassé les autres sociétés traditionnelles qui existent depuis longtemps. La précision est devenue le terme le plus couramment utilisé par les gens. Telecom est devenu une affaire très bon marché partout dans le monde. Toutes ces réalisations sont possibles grâce à l'informatique et à Internet. La lecture d'histoires courtes en ligne est devenue notre passe-temps favori.'''\n",
    "translations = translator.translate(para,dest='en')\n",
    "print(translations.text)"
   ]
  },
  {
   "cell_type": "code",
   "execution_count": 11,
   "metadata": {},
   "outputs": [
    {
     "name": "stdout",
     "output_type": "stream",
     "text": [
      "Spanish \n",
      " Voici quelques exemples d'histoires courtes à lire en ligne. En ligne est devenu un autre point d'ancrage dans nos vies. Nous devons garder cela à l'esprit pour avancer dans le développement de la science et de la technologie. Les ordinateurs ont ravivé notre monde. Les gens ont commencé à voir l'autre monde. L'histoire que nous sommes devenus. Le XXe siècle est devenu une histoire lointaine. Les sociétés informatiques et autres sociétés informatiques ont surpassé les autres sociétés traditionnelles qui existent depuis longtemps. La précision est devenue le terme le plus couramment utilisé par les gens. Telecom est devenu une affaire très bon marché partout dans le monde. Toutes ces réalisations sont possibles grâce à l'informatique et à Internet. La lecture d'histoires courtes en ligne est devenue notre passe-temps favori.\n",
      "German \n",
      " Voici quelques exemples d'histoires courtes à lire en ligne. En ligne est devenu un autre point d'ancrage dans nos vies. Nous devons garder cela à l'esprit pour avancer dans le développement de la science et de la technologie. Les ordinateurs ont ravivé notre monde. Les gens ont commencé à voir l'autre monde. L'histoire que nous sommes devenus. Le XXe siècle est devenu une histoire lointaine. Les sociétés informatiques et autres sociétés informatiques ont surpassé les autres sociétés traditionnelles qui existent depuis longtemps. La précision est devenue le terme le plus couramment utilisé par les gens. Telecom est devenu une affaire très bon marché partout dans le monde. Toutes ces réalisations sont possibles grâce à l'informatique et à Internet. La lecture d'histoires courtes en ligne est devenue notre passe-temps favori.\n"
     ]
    }
   ],
   "source": [
    "# to spanish and then to german from french\n",
    "para='''Voici quelques exemples d'histoires courtes à lire en ligne. En ligne est devenu un autre point d'ancrage dans nos vies. Nous devons garder cela à l'esprit pour avancer dans le développement de la science et de la technologie. Les ordinateurs ont ravivé notre monde. Les gens ont commencé à voir l'autre monde. L'histoire que nous sommes devenus. Le XXe siècle est devenu une histoire lointaine. Les sociétés informatiques et autres sociétés informatiques ont surpassé les autres sociétés traditionnelles qui existent depuis longtemps. La précision est devenue le terme le plus couramment utilisé par les gens. Telecom est devenu une affaire très bon marché partout dans le monde. Toutes ces réalisations sont possibles grâce à l'informatique et à Internet. La lecture d'histoires courtes en ligne est devenue notre passe-temps favori.'''\n",
    "translations = translator.translate(para,dest='es')\n",
    "print('Spanish \\n', translations.text)\n",
    "translations = translator.translate(translations.text,dest='de')\n",
    "print('German \\n',translations.text)"
   ]
  },
  {
   "cell_type": "code",
   "execution_count": 12,
   "metadata": {},
   "outputs": [
    {
     "name": "stdout",
     "output_type": "stream",
     "text": [
      "A text file (sometimes spelled textfile; an old alternative name is flatfile) is a kind of computer file that is structured as a sequence of lines of electronic text. A text file exists stored as data within a computer file system. In operating systems such as CP/M and MS-DOS, where the operating system does not keep track of the file size in bytes, the end of a text file is denoted by placing one or more special characters, known as an end-of-file marker, as padding after the last line in a text file. On modern operating systems such as Microsoft Windows and Unix-like systems, text files do not contain any special EOF character, because file systems on those operating systems keep track of the file size in bytes. There are for most text files a need to have end-of-line delimiters, which are done in a few different ways depending on operating system. Some operating systems with record-orientated file systems may not use new line delimiters and will primarily store text files with lines separated as fixed or variable length records.\n",
      "\n",
      "\"Text file\" refers to a type of container, while plain text refers to a type of content.\n",
      "\n",
      "At a generic level of description, there are two kinds of computer files: text files and binary files.\n",
      "\n",
      "\n",
      "Data storage\n",
      "\n",
      "A stylized iconic depiction of a CSV-formatted text file.\n",
      "Because of their simplicity, text files are commonly used for storage of information. They avoid some of the problems encountered with other file formats, such as endianness, padding bytes, or differences in the number of bytes in a machine word. Further, when data corruption occurs in a text file, it is often easier to recover and continue processing the remaining contents. A disadvantage of text files is that they usually have a low entropy, meaning that the information occupies more storage than is strictly necessary.\n",
      "\n",
      "A simple text file may need no additional metadata (other than knowledge of its character set) to assist the reader in interpretation. A text file may contain no data at all, which is a case of zero-byte file.\n",
      "\n",
      "Encoding\n",
      "The ASCII character set is the most common compatible subset of character sets for English-language text files, and is generally assumed to be the default file format in many situations. It covers American English, but for the British Pound sign, the Euro sign, or characters used outside English, a richer character set must be used. In many systems, this is chosen based on the default locale setting on the computer it is read on. Prior to UTF-8, this was traditionally single-byte encodings (such as ISO-8859-1 through ISO-8859-16) for European languages and wide character encodings for Asian languages.\n",
      "\n",
      "Because encodings necessarily have only a limited repertoire of characters, often very small, many are only usable to represent text in a limited subset of human languages. Unicode is an attempt to create a common standard for representing all known languages, and most known character sets are subsets of the very large Unicode character set. Although there are multiple character encodings available for Unicode, the most common is UTF-8, which has the advantage of being backwards-compatible with ASCII; that is, every ASCII text file is also a UTF-8 text file with identical meaning. UTF-8 also has the advantage that it is easily auto-detectable. Thus, a common operating mode of UTF-8 capable software, when opening files of unknown encoding, is to try UTF-8 first and fall back to a locale dependent legacy encoding when it definitely isn't UTF-8.\n",
      "\n",
      "Formats\n",
      "On most operating systems the name text file refers to file format that allows only plain text content with very little formatting (e.g., no bold or italic types). Such files can be viewed and edited on text terminals or in simple text editors. Text files usually have the MIME type text/plain, usually with additional information indicating an encoding.\n",
      "\n",
      "Microsoft Windows text files\n",
      "MS-DOS and Microsoft Windows use a common text file format, with each line of text separated by a two-character combination: carriage return (CR) and line feed (LF). It is common for the last line of text not to be terminated with a CR-LF marker, and many text editors (including Notepad) do not automatically insert one on the last line.\n",
      "\n",
      "On Microsoft Windows operating systems, a file is regarded as a text file if the suffix of the name of the file (the \"filename extension\") is .txt. However, many other suffixes are used for text files with specific purposes. For example, source code for computer programs is usually kept in text files that have file name suffixes indicating the programming language in which the source is written.\n",
      "\n",
      "Most Microsoft Windows text files use \"ANSI\", \"OEM\", \"Unicode\" or \"UTF-8\" encoding. What Microsoft Windows terminology calls \"ANSI encodings\" are usually single-byte ISO/IEC 8859 encodings (i.e. ANSI in the Microsoft Notepad menus is really \"System Code Page\", non-Unicode, legacy encoding), except for in locales such as Chinese, Japanese and Korean that require double-byte character sets. ANSI encodings were traditionally used as default system locales within Microsoft Windows, before the transition to Unicode. By contrast, OEM encodings, also known as DOS code pages, were defined by IBM for use in the original IBM PC text mode display system. They typically include graphical and line-drawing characters common in DOS applications. \"Unicode\"-encoded Microsoft Windows text files contain text in UTF-16 Unicode Transformation Format. Such files normally begin with Byte Order Mark (BOM), which communicates the endianness of the file content. Although UTF-8 does not suffer from endianness problems, many Microsoft Windows programs (i.e. Notepad) prepend the contents of UTF-8-encoded files with BOM,[2] to differentiate UTF-8 encoding from other 8-bit encodings.[3]\n",
      "\n",
      "Unix text files\n",
      "On Unix-like operating systems text files format is precisely described: POSIX defines a text file as a file that contains characters organized into zero or more lines,[4] where lines are sequences of zero or more non-newline characters plus a terminating newline character,[5] normally LF.\n",
      "\n",
      "Additionally, POSIX defines a printable file as a text file whose characters are printable or space or backspace according to regional rules. This excludes most control characters, which are not printable.[6]\n",
      "\n",
      "Apple Macintosh text files\n",
      "Prior to the advent of Mac OS X (now called macOS), the classic Mac OS system regarded the content of a file (the data fork) to be a text file when its resource fork indicated that the type of the file was \"TEXT\".[7] Lines of Macintosh text files are terminated with CR characters.[8]\n",
      "\n",
      "Being certified Unix, macOS uses POSIX format for text files.[8] Uniform Type Identifier (UTI) used for text files in macOS is \"public.plain-text\"; additional, more specific UTIs are: \"public.utf8-plain-text\" for utf-8-encoded text, \"public.utf16-external-plain-text\" and \"public.utf16-plain-text\" for utf-16-encoded text and \"com.apple.traditional-mac-plain-text\" for classic Mac OS text files.\n"
     ]
    }
   ],
   "source": [
    "# Translating a text file to hindi, french, german and espanol\n",
    "f = open(\"Translate_me.txt\", \"r\")\n",
    "var=f.read()\n",
    "print(var)"
   ]
  },
  {
   "cell_type": "code",
   "execution_count": 13,
   "metadata": {
    "scrolled": true
   },
   "outputs": [
    {
     "name": "stdout",
     "output_type": "stream",
     "text": [
      "A text file (sometimes spelled textfile; an old alternative name is flatfile) is a kind of computer file that is structured as a sequence of lines of electronic text. A text file exists stored as data within a computer file system. In operating systems such as CP/M and MS-DOS, where the operating system does not keep track of the file size in bytes, the end of a text file is denoted by placing one or more special characters, known as an end-of-file marker, as padding after the last line in a text file. On modern operating systems such as Microsoft Windows and Unix-like systems, text files do not contain any special EOF character, because file systems on those operating systems keep track of the file size in bytes. There are for most text files a need to have end-of-line delimiters, which are done in a few different ways depending on operating system. Some operating systems with record-orientated file systems may not use new line delimiters and will primarily store text files with lines separated as fixed or variable length records.\n",
      "\n",
      "\"Text file\" refers to a type of container, while plain text refers to a type of content.\n",
      "\n",
      "At a generic level of description, there are two kinds of computer files: text files and binary files.\n",
      "\n",
      "\n",
      "Data storage\n",
      "\n",
      "A stylized iconic depiction of a CSV-formatted text file.\n",
      "Because of their simplicity, text files are commonly used for storage of information. They avoid some of the problems encountered with other file formats, such as endianness, padding bytes, or differences in the number of bytes in a machine word. Further, when data corruption occurs in a text file, it is often easier to recover and continue processing the remaining contents. A disadvantage of text files is that they usually have a low entropy, meaning that the information occupies more storage than is strictly necessary.\n",
      "\n",
      "A simple text file may need no additional metadata (other than knowledge of its character set) to assist the reader in interpretation. A text file may contain no data at all, which is a case of zero-byte file.\n",
      "\n",
      "Encoding\n",
      "The ASCII character set is the most common compatible subset of character sets for English-language text files, and is generally assumed to be the default file format in many situations. It covers American English, but for the British Pound sign, the Euro sign, or characters used outside English, a richer character set must be used. In many systems, this is chosen based on the default locale setting on the computer it is read on. Prior to UTF-8, this was traditionally single-byte encodings (such as ISO-8859-1 through ISO-8859-16) for European languages and wide character encodings for Asian languages.\n",
      "\n",
      "Because encodings necessarily have only a limited repertoire of characters, often very small, many are only usable to represent text in a limited subset of human languages. Unicode is an attempt to create a common standard for representing all known languages, and most known character sets are subsets of the very large Unicode character set. Although there are multiple character encodings available for Unicode, the most common is UTF-8, which has the advantage of being backwards-compatible with ASCII; that is, every ASCII text file is also a UTF-8 text file with identical meaning. UTF-8 also has the advantage that it is easily auto-detectable. Thus, a common operating mode of UTF-8 capable software, when opening files of unknown encoding, is to try UTF-8 first and fall back to a locale dependent legacy encoding when it definitely isn't UTF-8.\n",
      "\n",
      "Formats\n",
      "On most operating systems the name text file refers to file format that allows only plain text content with very little formatting (e.g., no bold or italic types). Such files can be viewed and edited on text terminals or in simple text editors. Text files usually have the MIME type text/plain, usually with additional information indicating an encoding.\n",
      "\n",
      "Microsoft Windows text files\n",
      "MS-DOS and Microsoft Windows use a common text file format, with each line of text separated by a two-character combination: carriage return (CR) and line feed (LF). It is common for the last line of text not to be terminated with a CR-LF marker, and many text editors (including Notepad) do not automatically insert one on the last line.\n",
      "\n",
      "On Microsoft Windows operating systems, a file is regarded as a text file if the suffix of the name of the file (the \"filename extension\") is .txt. However, many other suffixes are used for text files with specific purposes. For example, source code for computer programs is usually kept in text files that have file name suffixes indicating the programming language in which the source is written.\n",
      "\n",
      "Most Microsoft Windows text files use \"ANSI\", \"OEM\", \"Unicode\" or \"UTF-8\" encoding. What Microsoft Windows terminology calls \"ANSI encodings\" are usually single-byte ISO/IEC 8859 encodings (i.e. ANSI in the Microsoft Notepad menus is really \"System Code Page\", non-Unicode, legacy encoding), except for in locales such as Chinese, Japanese and Korean that require double-byte character sets. ANSI encodings were traditionally used as default system locales within Microsoft Windows, before the transition to Unicode. By contrast, OEM encodings, also known as DOS code pages, were defined by IBM for use in the original IBM PC text mode display system. They typically include graphical and line-drawing characters common in DOS applications. \"Unicode\"-encoded Microsoft Windows text files contain text in UTF-16 Unicode Transformation Format. Such files normally begin with Byte Order Mark (BOM), which communicates the endianness of the file content. Although UTF-8 does not suffer from endianness problems, many Microsoft Windows programs (i.e. Notepad) prepend the contents of UTF-8-encoded files with BOM,[2] to differentiate UTF-8 encoding from other 8-bit encodings.[3]\n",
      "\n",
      "Unix text files\n",
      "On Unix-like operating systems text files format is precisely described: POSIX defines a text file as a file that contains characters organized into zero or more lines,[4] where lines are sequences of zero or more non-newline characters plus a terminating newline character,[5] normally LF.\n",
      "\n",
      "Additionally, POSIX defines a printable file as a text file whose characters are printable or space or backspace according to regional rules. This excludes most control characters, which are not printable.[6]\n",
      "\n",
      "Apple Macintosh text files\n",
      "Prior to the advent of Mac OS X (now called macOS), the classic Mac OS system regarded the content of a file (the data fork) to be a text file when its resource fork indicated that the type of the file was \"TEXT\".[7] Lines of Macintosh text files are terminated with CR characters.[8]\n",
      "\n",
      "Being certified Unix, macOS uses POSIX format for text files.[8] Uniform Type Identifier (UTI) used for text files in macOS is \"public.plain-text\"; additional, more specific UTIs are: \"public.utf8-plain-text\" for utf-8-encoded text, \"public.utf16-external-plain-text\" and \"public.utf16-plain-text\" for utf-16-encoded text and \"com.apple.traditional-mac-plain-text\" for classic Mac OS text files.\n",
      "A text file (sometimes spelled textfile; an old alternative name is flatfile) is a kind of computer file that is structured as a sequence of lines of electronic text. A text file exists stored as data within a computer file system. In operating systems such as CP/M and MS-DOS, where the operating system does not keep track of the file size in bytes, the end of a text file is denoted by placing one or more special characters, known as an end-of-file marker, as padding after the last line in a text file. On modern operating systems such as Microsoft Windows and Unix-like systems, text files do not contain any special EOF character, because file systems on those operating systems keep track of the file size in bytes. There are for most text files a need to have end-of-line delimiters, which are done in a few different ways depending on operating system. Some operating systems with record-orientated file systems may not use new line delimiters and will primarily store text files with lines separated as fixed or variable length records.\n",
      "\n",
      "\"Text file\" refers to a type of container, while plain text refers to a type of content.\n",
      "\n",
      "At a generic level of description, there are two kinds of computer files: text files and binary files.\n",
      "\n",
      "\n",
      "Data storage\n",
      "\n",
      "A stylized iconic depiction of a CSV-formatted text file.\n",
      "Because of their simplicity, text files are commonly used for storage of information. They avoid some of the problems encountered with other file formats, such as endianness, padding bytes, or differences in the number of bytes in a machine word. Further, when data corruption occurs in a text file, it is often easier to recover and continue processing the remaining contents. A disadvantage of text files is that they usually have a low entropy, meaning that the information occupies more storage than is strictly necessary.\n",
      "\n",
      "A simple text file may need no additional metadata (other than knowledge of its character set) to assist the reader in interpretation. A text file may contain no data at all, which is a case of zero-byte file.\n",
      "\n",
      "Encoding\n",
      "The ASCII character set is the most common compatible subset of character sets for English-language text files, and is generally assumed to be the default file format in many situations. It covers American English, but for the British Pound sign, the Euro sign, or characters used outside English, a richer character set must be used. In many systems, this is chosen based on the default locale setting on the computer it is read on. Prior to UTF-8, this was traditionally single-byte encodings (such as ISO-8859-1 through ISO-8859-16) for European languages and wide character encodings for Asian languages.\n",
      "\n",
      "Because encodings necessarily have only a limited repertoire of characters, often very small, many are only usable to represent text in a limited subset of human languages. Unicode is an attempt to create a common standard for representing all known languages, and most known character sets are subsets of the very large Unicode character set. Although there are multiple character encodings available for Unicode, the most common is UTF-8, which has the advantage of being backwards-compatible with ASCII; that is, every ASCII text file is also a UTF-8 text file with identical meaning. UTF-8 also has the advantage that it is easily auto-detectable. Thus, a common operating mode of UTF-8 capable software, when opening files of unknown encoding, is to try UTF-8 first and fall back to a locale dependent legacy encoding when it definitely isn't UTF-8.\n",
      "\n",
      "Formats\n",
      "On most operating systems the name text file refers to file format that allows only plain text content with very little formatting (e.g., no bold or italic types). Such files can be viewed and edited on text terminals or in simple text editors. Text files usually have the MIME type text/plain, usually with additional information indicating an encoding.\n",
      "\n",
      "Microsoft Windows text files\n",
      "MS-DOS and Microsoft Windows use a common text file format, with each line of text separated by a two-character combination: carriage return (CR) and line feed (LF). It is common for the last line of text not to be terminated with a CR-LF marker, and many text editors (including Notepad) do not automatically insert one on the last line.\n",
      "\n",
      "On Microsoft Windows operating systems, a file is regarded as a text file if the suffix of the name of the file (the \"filename extension\") is .txt. However, many other suffixes are used for text files with specific purposes. For example, source code for computer programs is usually kept in text files that have file name suffixes indicating the programming language in which the source is written.\n",
      "\n",
      "Most Microsoft Windows text files use \"ANSI\", \"OEM\", \"Unicode\" or \"UTF-8\" encoding. What Microsoft Windows terminology calls \"ANSI encodings\" are usually single-byte ISO/IEC 8859 encodings (i.e. ANSI in the Microsoft Notepad menus is really \"System Code Page\", non-Unicode, legacy encoding), except for in locales such as Chinese, Japanese and Korean that require double-byte character sets. ANSI encodings were traditionally used as default system locales within Microsoft Windows, before the transition to Unicode. By contrast, OEM encodings, also known as DOS code pages, were defined by IBM for use in the original IBM PC text mode display system. They typically include graphical and line-drawing characters common in DOS applications. \"Unicode\"-encoded Microsoft Windows text files contain text in UTF-16 Unicode Transformation Format. Such files normally begin with Byte Order Mark (BOM), which communicates the endianness of the file content. Although UTF-8 does not suffer from endianness problems, many Microsoft Windows programs (i.e. Notepad) prepend the contents of UTF-8-encoded files with BOM,[2] to differentiate UTF-8 encoding from other 8-bit encodings.[3]\n",
      "\n",
      "Unix text files\n",
      "On Unix-like operating systems text files format is precisely described: POSIX defines a text file as a file that contains characters organized into zero or more lines,[4] where lines are sequences of zero or more non-newline characters plus a terminating newline character,[5] normally LF.\n",
      "\n",
      "Additionally, POSIX defines a printable file as a text file whose characters are printable or space or backspace according to regional rules. This excludes most control characters, which are not printable.[6]\n",
      "\n",
      "Apple Macintosh text files\n",
      "Prior to the advent of Mac OS X (now called macOS), the classic Mac OS system regarded the content of a file (the data fork) to be a text file when its resource fork indicated that the type of the file was \"TEXT\".[7] Lines of Macintosh text files are terminated with CR characters.[8]\n",
      "\n",
      "Being certified Unix, macOS uses POSIX format for text files.[8] Uniform Type Identifier (UTI) used for text files in macOS is \"public.plain-text\"; additional, more specific UTIs are: \"public.utf8-plain-text\" for utf-8-encoded text, \"public.utf16-external-plain-text\" and \"public.utf16-plain-text\" for utf-16-encoded text and \"com.apple.traditional-mac-plain-text\" for classic Mac OS text files.\n"
     ]
    },
    {
     "name": "stdout",
     "output_type": "stream",
     "text": [
      "A text file (sometimes spelled textfile; an old alternative name is flatfile) is a kind of computer file that is structured as a sequence of lines of electronic text. A text file exists stored as data within a computer file system. In operating systems such as CP/M and MS-DOS, where the operating system does not keep track of the file size in bytes, the end of a text file is denoted by placing one or more special characters, known as an end-of-file marker, as padding after the last line in a text file. On modern operating systems such as Microsoft Windows and Unix-like systems, text files do not contain any special EOF character, because file systems on those operating systems keep track of the file size in bytes. There are for most text files a need to have end-of-line delimiters, which are done in a few different ways depending on operating system. Some operating systems with record-orientated file systems may not use new line delimiters and will primarily store text files with lines separated as fixed or variable length records.\n",
      "\n",
      "\"Text file\" refers to a type of container, while plain text refers to a type of content.\n",
      "\n",
      "At a generic level of description, there are two kinds of computer files: text files and binary files.\n",
      "\n",
      "\n",
      "Data storage\n",
      "\n",
      "A stylized iconic depiction of a CSV-formatted text file.\n",
      "Because of their simplicity, text files are commonly used for storage of information. They avoid some of the problems encountered with other file formats, such as endianness, padding bytes, or differences in the number of bytes in a machine word. Further, when data corruption occurs in a text file, it is often easier to recover and continue processing the remaining contents. A disadvantage of text files is that they usually have a low entropy, meaning that the information occupies more storage than is strictly necessary.\n",
      "\n",
      "A simple text file may need no additional metadata (other than knowledge of its character set) to assist the reader in interpretation. A text file may contain no data at all, which is a case of zero-byte file.\n",
      "\n",
      "Encoding\n",
      "The ASCII character set is the most common compatible subset of character sets for English-language text files, and is generally assumed to be the default file format in many situations. It covers American English, but for the British Pound sign, the Euro sign, or characters used outside English, a richer character set must be used. In many systems, this is chosen based on the default locale setting on the computer it is read on. Prior to UTF-8, this was traditionally single-byte encodings (such as ISO-8859-1 through ISO-8859-16) for European languages and wide character encodings for Asian languages.\n",
      "\n",
      "Because encodings necessarily have only a limited repertoire of characters, often very small, many are only usable to represent text in a limited subset of human languages. Unicode is an attempt to create a common standard for representing all known languages, and most known character sets are subsets of the very large Unicode character set. Although there are multiple character encodings available for Unicode, the most common is UTF-8, which has the advantage of being backwards-compatible with ASCII; that is, every ASCII text file is also a UTF-8 text file with identical meaning. UTF-8 also has the advantage that it is easily auto-detectable. Thus, a common operating mode of UTF-8 capable software, when opening files of unknown encoding, is to try UTF-8 first and fall back to a locale dependent legacy encoding when it definitely isn't UTF-8.\n",
      "\n",
      "Formats\n",
      "On most operating systems the name text file refers to file format that allows only plain text content with very little formatting (e.g., no bold or italic types). Such files can be viewed and edited on text terminals or in simple text editors. Text files usually have the MIME type text/plain, usually with additional information indicating an encoding.\n",
      "\n",
      "Microsoft Windows text files\n",
      "MS-DOS and Microsoft Windows use a common text file format, with each line of text separated by a two-character combination: carriage return (CR) and line feed (LF). It is common for the last line of text not to be terminated with a CR-LF marker, and many text editors (including Notepad) do not automatically insert one on the last line.\n",
      "\n",
      "On Microsoft Windows operating systems, a file is regarded as a text file if the suffix of the name of the file (the \"filename extension\") is .txt. However, many other suffixes are used for text files with specific purposes. For example, source code for computer programs is usually kept in text files that have file name suffixes indicating the programming language in which the source is written.\n",
      "\n",
      "Most Microsoft Windows text files use \"ANSI\", \"OEM\", \"Unicode\" or \"UTF-8\" encoding. What Microsoft Windows terminology calls \"ANSI encodings\" are usually single-byte ISO/IEC 8859 encodings (i.e. ANSI in the Microsoft Notepad menus is really \"System Code Page\", non-Unicode, legacy encoding), except for in locales such as Chinese, Japanese and Korean that require double-byte character sets. ANSI encodings were traditionally used as default system locales within Microsoft Windows, before the transition to Unicode. By contrast, OEM encodings, also known as DOS code pages, were defined by IBM for use in the original IBM PC text mode display system. They typically include graphical and line-drawing characters common in DOS applications. \"Unicode\"-encoded Microsoft Windows text files contain text in UTF-16 Unicode Transformation Format. Such files normally begin with Byte Order Mark (BOM), which communicates the endianness of the file content. Although UTF-8 does not suffer from endianness problems, many Microsoft Windows programs (i.e. Notepad) prepend the contents of UTF-8-encoded files with BOM,[2] to differentiate UTF-8 encoding from other 8-bit encodings.[3]\n",
      "\n",
      "Unix text files\n",
      "On Unix-like operating systems text files format is precisely described: POSIX defines a text file as a file that contains characters organized into zero or more lines,[4] where lines are sequences of zero or more non-newline characters plus a terminating newline character,[5] normally LF.\n",
      "\n",
      "Additionally, POSIX defines a printable file as a text file whose characters are printable or space or backspace according to regional rules. This excludes most control characters, which are not printable.[6]\n",
      "\n",
      "Apple Macintosh text files\n",
      "Prior to the advent of Mac OS X (now called macOS), the classic Mac OS system regarded the content of a file (the data fork) to be a text file when its resource fork indicated that the type of the file was \"TEXT\".[7] Lines of Macintosh text files are terminated with CR characters.[8]\n",
      "\n",
      "Being certified Unix, macOS uses POSIX format for text files.[8] Uniform Type Identifier (UTI) used for text files in macOS is \"public.plain-text\"; additional, more specific UTIs are: \"public.utf8-plain-text\" for utf-8-encoded text, \"public.utf16-external-plain-text\" and \"public.utf16-plain-text\" for utf-16-encoded text and \"com.apple.traditional-mac-plain-text\" for classic Mac OS text files.\n",
      "A text file (sometimes spelled textfile; an old alternative name is flatfile) is a kind of computer file that is structured as a sequence of lines of electronic text. A text file exists stored as data within a computer file system. In operating systems such as CP/M and MS-DOS, where the operating system does not keep track of the file size in bytes, the end of a text file is denoted by placing one or more special characters, known as an end-of-file marker, as padding after the last line in a text file. On modern operating systems such as Microsoft Windows and Unix-like systems, text files do not contain any special EOF character, because file systems on those operating systems keep track of the file size in bytes. There are for most text files a need to have end-of-line delimiters, which are done in a few different ways depending on operating system. Some operating systems with record-orientated file systems may not use new line delimiters and will primarily store text files with lines separated as fixed or variable length records.\n",
      "\n",
      "\"Text file\" refers to a type of container, while plain text refers to a type of content.\n",
      "\n",
      "At a generic level of description, there are two kinds of computer files: text files and binary files.\n",
      "\n",
      "\n",
      "Data storage\n",
      "\n",
      "A stylized iconic depiction of a CSV-formatted text file.\n",
      "Because of their simplicity, text files are commonly used for storage of information. They avoid some of the problems encountered with other file formats, such as endianness, padding bytes, or differences in the number of bytes in a machine word. Further, when data corruption occurs in a text file, it is often easier to recover and continue processing the remaining contents. A disadvantage of text files is that they usually have a low entropy, meaning that the information occupies more storage than is strictly necessary.\n",
      "\n",
      "A simple text file may need no additional metadata (other than knowledge of its character set) to assist the reader in interpretation. A text file may contain no data at all, which is a case of zero-byte file.\n",
      "\n",
      "Encoding\n",
      "The ASCII character set is the most common compatible subset of character sets for English-language text files, and is generally assumed to be the default file format in many situations. It covers American English, but for the British Pound sign, the Euro sign, or characters used outside English, a richer character set must be used. In many systems, this is chosen based on the default locale setting on the computer it is read on. Prior to UTF-8, this was traditionally single-byte encodings (such as ISO-8859-1 through ISO-8859-16) for European languages and wide character encodings for Asian languages.\n",
      "\n",
      "Because encodings necessarily have only a limited repertoire of characters, often very small, many are only usable to represent text in a limited subset of human languages. Unicode is an attempt to create a common standard for representing all known languages, and most known character sets are subsets of the very large Unicode character set. Although there are multiple character encodings available for Unicode, the most common is UTF-8, which has the advantage of being backwards-compatible with ASCII; that is, every ASCII text file is also a UTF-8 text file with identical meaning. UTF-8 also has the advantage that it is easily auto-detectable. Thus, a common operating mode of UTF-8 capable software, when opening files of unknown encoding, is to try UTF-8 first and fall back to a locale dependent legacy encoding when it definitely isn't UTF-8.\n",
      "\n",
      "Formats\n",
      "On most operating systems the name text file refers to file format that allows only plain text content with very little formatting (e.g., no bold or italic types). Such files can be viewed and edited on text terminals or in simple text editors. Text files usually have the MIME type text/plain, usually with additional information indicating an encoding.\n",
      "\n",
      "Microsoft Windows text files\n",
      "MS-DOS and Microsoft Windows use a common text file format, with each line of text separated by a two-character combination: carriage return (CR) and line feed (LF). It is common for the last line of text not to be terminated with a CR-LF marker, and many text editors (including Notepad) do not automatically insert one on the last line.\n",
      "\n",
      "On Microsoft Windows operating systems, a file is regarded as a text file if the suffix of the name of the file (the \"filename extension\") is .txt. However, many other suffixes are used for text files with specific purposes. For example, source code for computer programs is usually kept in text files that have file name suffixes indicating the programming language in which the source is written.\n",
      "\n",
      "Most Microsoft Windows text files use \"ANSI\", \"OEM\", \"Unicode\" or \"UTF-8\" encoding. What Microsoft Windows terminology calls \"ANSI encodings\" are usually single-byte ISO/IEC 8859 encodings (i.e. ANSI in the Microsoft Notepad menus is really \"System Code Page\", non-Unicode, legacy encoding), except for in locales such as Chinese, Japanese and Korean that require double-byte character sets. ANSI encodings were traditionally used as default system locales within Microsoft Windows, before the transition to Unicode. By contrast, OEM encodings, also known as DOS code pages, were defined by IBM for use in the original IBM PC text mode display system. They typically include graphical and line-drawing characters common in DOS applications. \"Unicode\"-encoded Microsoft Windows text files contain text in UTF-16 Unicode Transformation Format. Such files normally begin with Byte Order Mark (BOM), which communicates the endianness of the file content. Although UTF-8 does not suffer from endianness problems, many Microsoft Windows programs (i.e. Notepad) prepend the contents of UTF-8-encoded files with BOM,[2] to differentiate UTF-8 encoding from other 8-bit encodings.[3]\n",
      "\n",
      "Unix text files\n",
      "On Unix-like operating systems text files format is precisely described: POSIX defines a text file as a file that contains characters organized into zero or more lines,[4] where lines are sequences of zero or more non-newline characters plus a terminating newline character,[5] normally LF.\n",
      "\n",
      "Additionally, POSIX defines a printable file as a text file whose characters are printable or space or backspace according to regional rules. This excludes most control characters, which are not printable.[6]\n",
      "\n",
      "Apple Macintosh text files\n",
      "Prior to the advent of Mac OS X (now called macOS), the classic Mac OS system regarded the content of a file (the data fork) to be a text file when its resource fork indicated that the type of the file was \"TEXT\".[7] Lines of Macintosh text files are terminated with CR characters.[8]\n",
      "\n",
      "Being certified Unix, macOS uses POSIX format for text files.[8] Uniform Type Identifier (UTI) used for text files in macOS is \"public.plain-text\"; additional, more specific UTIs are: \"public.utf8-plain-text\" for utf-8-encoded text, \"public.utf16-external-plain-text\" and \"public.utf16-plain-text\" for utf-16-encoded text and \"com.apple.traditional-mac-plain-text\" for classic Mac OS text files.\n"
     ]
    }
   ],
   "source": [
    "translations = translator.translate(var, dest='hi')\n",
    "print(translations.text)\n",
    "translations = translator.translate(var, dest='fr')\n",
    "print(translations.text)\n",
    "translations = translator.translate(var, dest='de')\n",
    "print(translations.text)\n",
    "translations = translator.translate(var, dest='es')\n",
    "print(translations.text)"
   ]
  },
  {
   "cell_type": "code",
   "execution_count": null,
   "metadata": {},
   "outputs": [],
   "source": []
  }
 ],
 "metadata": {
  "kernelspec": {
   "display_name": "Python 3",
   "language": "python",
   "name": "python3"
  },
  "language_info": {
   "codemirror_mode": {
    "name": "ipython",
    "version": 3
   },
   "file_extension": ".py",
   "mimetype": "text/x-python",
   "name": "python",
   "nbconvert_exporter": "python",
   "pygments_lexer": "ipython3",
   "version": "3.8.5"
  }
 },
 "nbformat": 4,
 "nbformat_minor": 4
}
