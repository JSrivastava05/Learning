{
 "cells": [
  {
   "cell_type": "code",
   "execution_count": null,
   "metadata": {},
   "outputs": [],
   "source": [
    "# Given an integer, , print the following values for each integer  from  to :\n",
    "\n",
    "# Decimal\n",
    "# Octal\n",
    "# Hexadecimal (capitalized)\n",
    "# Binary\n",
    "# Function Description\n",
    "\n",
    "# Complete the print_formatted function in the editor below.\n",
    "\n",
    "# print_formatted has the following parameters:\n",
    "\n",
    "# int number: the maximum value to print\n",
    "# Prints\n",
    "\n",
    "# The four values must be printed on a single line in the order specified above for each  from  to . Each value should be space-padded to match the width of the binary value of  and the values should be separated by a single space.\n",
    "\n",
    "# Input Format\n",
    "\n",
    "# A single integer denoting .\n",
    "\n",
    "# Constraints\n",
    "\n",
    "# Sample Input\n",
    "\n",
    "# 17\n",
    "# Sample Output\n",
    "\n",
    "#     1     1     1     1\n",
    "#     2     2     2    10\n",
    "#     3     3     3    11\n",
    "#     4     4     4   100\n",
    "#     5     5     5   101\n",
    "#     6     6     6   110\n",
    "#     7     7     7   111\n",
    "#     8    10     8  1000\n",
    "#     9    11     9  1001\n",
    "#    10    12     A  1010\n",
    "#    11    13     B  1011\n",
    "#    12    14     C  1100\n",
    "#    13    15     D  1101\n",
    "#    14    16     E  1110\n",
    "#    15    17     F  1111\n",
    "#    16    20    10 10000\n",
    "#    17    21    11 10001"
   ]
  },
  {
   "cell_type": "code",
   "execution_count": null,
   "metadata": {},
   "outputs": [],
   "source": [
    "def print_formatted(number):\n",
    "    # your code goes here\n",
    "    pad=int(len(bin(number).replace('0b','')))\n",
    "    for i in range(1,number+1):\n",
    "        print(str(i).rjust(pad),str(oct(i).replace('0o','')).rjust(pad),str(hex(i).replace('0x','').upper()).rjust(pad),str(bin(i).replace('0b','')).rjust(pad))\n",
    "        \n",
    "if __name__ == '__main__':\n",
    "    n = int(input())\n",
    "    print_formatted(n)"
   ]
  }
 ],
 "metadata": {
  "kernelspec": {
   "display_name": "Python 3",
   "language": "python",
   "name": "python3"
  },
  "language_info": {
   "codemirror_mode": {
    "name": "ipython",
    "version": 3
   },
   "file_extension": ".py",
   "mimetype": "text/x-python",
   "name": "python",
   "nbconvert_exporter": "python",
   "pygments_lexer": "ipython3",
   "version": "3.8.5"
  }
 },
 "nbformat": 4,
 "nbformat_minor": 4
}
