{
 "cells": [
  {
   "cell_type": "code",
   "execution_count": null,
   "metadata": {},
   "outputs": [],
   "source": [
    "# Given the names and grades for each student in a class of  students, store them in a nested list and print the name(s) of any student(s) having the second lowest grade.\n",
    "\n",
    "# Note: If there are multiple students with the second lowest grade, order their names alphabetically and print each name on a new line.\n",
    "\n",
    "# Example\n",
    "\n",
    "# The ordered list of scores is , so the second lowest score is . There are two students with that score: . Ordered alphabetically, the names are printed as:\n",
    "\n",
    "# alpha\n",
    "# beta\n",
    "# Input Format\n",
    "\n",
    "# The first line contains an integer, , the number of students.\n",
    "# The  subsequent lines describe each student over  lines.\n",
    "# - The first line contains a student's name.\n",
    "# - The second line contains their grade.\n",
    "\n",
    "# Constraints\n",
    "\n",
    "# There will always be one or more students having the second lowest grade.\n",
    "# Output Format\n",
    "\n",
    "# Print the name(s) of any student(s) having the second lowest grade in. If there are multiple students, order their names alphabetically and print each one on a new line.\n",
    "\n",
    "# Sample Input 0\n",
    "\n",
    "# 5\n",
    "# Harry\n",
    "# 37.21\n",
    "# Berry\n",
    "# 37.21\n",
    "# Tina\n",
    "# 37.2\n",
    "# Akriti\n",
    "# 41\n",
    "# Harsh\n",
    "# 39\n",
    "# Sample Output 0\n",
    "\n",
    "# Berry\n",
    "# Harry\n",
    "# Explanation 0\n",
    "\n",
    "# There are  students in this class whose names and grades are assembled to build the following list:\n",
    "\n",
    "# python students = [['Harry', 37.21], ['Berry', 37.21], ['Tina', 37.2], ['Akriti', 41], ['Harsh', 39]]\n",
    "\n",
    "# The lowest grade of  belongs to Tina. The second lowest grade of  belongs to both Harry and Berry, so we order their names alphabetically and print each name on a new line."
   ]
  },
  {
   "cell_type": "code",
   "execution_count": null,
   "metadata": {},
   "outputs": [],
   "source": [
    "if __name__ == '__main__':\n",
    "    lst=[]\n",
    "    for _ in range(int(input())):\n",
    "        name = input()\n",
    "        score = float(input())\n",
    "        lst.append([name,score])\n",
    "    second=sorted(set([i[1] for i in lst]))[1]\n",
    "    [print(i[0]) for i in sorted(filter(lambda x:x[1]==second,lst))]"
   ]
  }
 ],
 "metadata": {
  "kernelspec": {
   "display_name": "Python 3",
   "language": "python",
   "name": "python3"
  },
  "language_info": {
   "codemirror_mode": {
    "name": "ipython",
    "version": 3
   },
   "file_extension": ".py",
   "mimetype": "text/x-python",
   "name": "python",
   "nbconvert_exporter": "python",
   "pygments_lexer": "ipython3",
   "version": "3.8.5"
  }
 },
 "nbformat": 4,
 "nbformat_minor": 4
}
