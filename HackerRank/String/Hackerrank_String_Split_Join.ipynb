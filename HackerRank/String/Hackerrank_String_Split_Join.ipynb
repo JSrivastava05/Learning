{
 "cells": [
  {
   "cell_type": "code",
   "execution_count": null,
   "metadata": {},
   "outputs": [],
   "source": [
    "# In Python, a string can be split on a delimiter.\n",
    "\n",
    "# Example:\n",
    "\n",
    "# >>> a = \"this is a string\"\n",
    "# >>> a = a.split(\" \") # a is converted to a list of strings. \n",
    "# >>> print a\n",
    "# ['this', 'is', 'a', 'string']\n",
    "# Joining a string is simple:\n",
    "\n",
    "# >>> a = \"-\".join(a)\n",
    "# >>> print a\n",
    "# this-is-a-string \n",
    "# Task\n",
    "# You are given a string. Split the string on a \" \" (space) delimiter and join using a - hyphen.\n",
    "\n",
    "# Function Description\n",
    "\n",
    "# Complete the split_and_join function in the editor below.\n",
    "\n",
    "# split_and_join has the following parameters:\n",
    "\n",
    "# string line: a string of space-separated words\n",
    "# Returns\n",
    "\n",
    "# string: the resulting string\n",
    "# Input Format\n",
    "# The one line contains a string consisting of space separated words.\n",
    "\n",
    "# Sample Input\n",
    "\n",
    "# this is a string   \n",
    "# Sample Output\n",
    "\n",
    "# this-is-a-string"
   ]
  },
  {
   "cell_type": "code",
   "execution_count": null,
   "metadata": {},
   "outputs": [],
   "source": [
    "def split_and_join(line):\n",
    "    # write your code here\n",
    "    return '-'.join(line.split(' '))\n",
    "\n",
    "if __name__ == '__main__':\n",
    "    line = input()\n",
    "    result = split_and_join(line)\n",
    "    print(result)"
   ]
  }
 ],
 "metadata": {
  "kernelspec": {
   "display_name": "Python 3",
   "language": "python",
   "name": "python3"
  },
  "language_info": {
   "codemirror_mode": {
    "name": "ipython",
    "version": 3
   },
   "file_extension": ".py",
   "mimetype": "text/x-python",
   "name": "python",
   "nbconvert_exporter": "python",
   "pygments_lexer": "ipython3",
   "version": "3.8.5"
  }
 },
 "nbformat": 4,
 "nbformat_minor": 4
}
