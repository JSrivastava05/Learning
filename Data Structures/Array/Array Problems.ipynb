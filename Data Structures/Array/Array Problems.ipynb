{
 "cells": [
  {
   "cell_type": "code",
   "execution_count": 30,
   "metadata": {},
   "outputs": [
    {
     "name": "stdout",
     "output_type": "stream",
     "text": [
      "yes the product 4 is present \n",
      " {(1, 4), (2, 2)}\n"
     ]
    }
   ],
   "source": [
    "#Given an array of both positive and negative integers and a number K. The task is to check if any subarray with product K is present in the array or not.\n",
    "a=[1,2,2,4,5,6,7,7]\n",
    "k=4\n",
    "idx=[]\n",
    "for i in range(len(a)):\n",
    "    j=i+1\n",
    "    while j<=len(a)-1:\n",
    "        if a[i]*a[j]==k:\n",
    "            idx.append((a[i],a[j]))\n",
    "        j=j+1\n",
    "if len(idx)>0:\n",
    "    print(F'yes the product {k} is present \\n',set(idx))\n",
    "else:\n",
    "    print(F'product {k} is not present')"
   ]
  },
  {
   "cell_type": "code",
   "execution_count": 35,
   "metadata": {},
   "outputs": [
    {
     "name": "stdout",
     "output_type": "stream",
     "text": [
      "yes -  [4, 2, 10, 2]\n"
     ]
    }
   ],
   "source": [
    "# Subarray of size k with given sum\n",
    "a=[1, 4, 2, 10, 2, 3, 1, 0, 20]\n",
    "k=4\n",
    "sm=18\n",
    "flag=1\n",
    "for i in range(len(a)):\n",
    "    if sum(a[i:i+k])==sm:\n",
    "        print('yes - ', a[i:i+k])\n",
    "        flag=0\n",
    "if flag==1:\n",
    "    print('subarray with sum not available')\n"
   ]
  },
  {
   "cell_type": "code",
   "execution_count": 42,
   "metadata": {},
   "outputs": [
    {
     "data": {
      "text/plain": [
       "[2, 5, 50, 55, 65, 70, 90]"
      ]
     },
     "execution_count": 42,
     "metadata": {},
     "output_type": "execute_result"
    }
   ],
   "source": [
    "# Sort an array where a subarray of a sorted array is in reverse order\n",
    "a=[2, 5, 65, 55, 50, 70, 90 ]\n",
    "# sorted(a) one solution\n",
    "#bubble sort\n",
    "for i in range(len(a)):\n",
    "    j=i+1\n",
    "    while j<len(a):\n",
    "        if a[i]>a[j]:\n",
    "            a[i]=a[i]+a[j]\n",
    "            a[j]=a[i]-a[j]\n",
    "            a[i]=a[i]-a[j]\n",
    "        j=j+1\n",
    "a"
   ]
  },
  {
   "cell_type": "code",
   "execution_count": 45,
   "metadata": {},
   "outputs": [
    {
     "data": {
      "text/plain": [
       "5"
      ]
     },
     "execution_count": 45,
     "metadata": {},
     "output_type": "execute_result"
    }
   ],
   "source": [
    "#Count subarrays with all elements greater than K\n",
    "a=[2, 5, 65, 55, 50, 70, 90 ]\n",
    "k=5\n",
    "len([i for i in a if i>k])"
   ]
  },
  {
   "cell_type": "code",
   "execution_count": 70,
   "metadata": {},
   "outputs": [
    {
     "name": "stdout",
     "output_type": "stream",
     "text": [
      "max length of subarray is  4\n"
     ]
    }
   ],
   "source": [
    "# Maximum length of the sub-array whose first and last elements are same\n",
    "a=['a','e','f','k','e']\n",
    "ln=[]\n",
    "for i in range(len(a)):\n",
    "    j=len(a)-1\n",
    "    while j>=0:\n",
    "        if a[i]==a[j] and (j-i+1>1):\n",
    "            ln.append(j-i+1)\n",
    "        j=j-1\n",
    "print('max length of subarray is ',max(ln))"
   ]
  },
  {
   "cell_type": "code",
   "execution_count": 81,
   "metadata": {},
   "outputs": [
    {
     "name": "stdout",
     "output_type": "stream",
     "text": [
      "subarray found -  [3, 0, 5, 1]\n"
     ]
    }
   ],
   "source": [
    "# Check whether an Array is Subarray of another Array\n",
    "a=[2, 3, 0, 5, 1, 1, 2]\n",
    "b=[3, 0, 5, 1]\n",
    "flag=1\n",
    "for i in range(len(a)):\n",
    "    if a[i:i+len(b)]==b:\n",
    "        print('subarray found - ', a[i:i+len(b)])\n",
    "        flag=0\n",
    "if flag==1:\n",
    "    print('subarray not found')"
   ]
  },
  {
   "cell_type": "code",
   "execution_count": null,
   "metadata": {},
   "outputs": [],
   "source": [
    "# Maximum subsequence sum such that all elements are K distance apart\n",
    "a[] = {2, 3, -1, -1, 2}\n",
    "k = 3 \n",
    "a[i:i+k] for i in range(len(a))"
   ]
  }
 ],
 "metadata": {
  "kernelspec": {
   "display_name": "Python 3",
   "language": "python",
   "name": "python3"
  },
  "language_info": {
   "codemirror_mode": {
    "name": "ipython",
    "version": 3
   },
   "file_extension": ".py",
   "mimetype": "text/x-python",
   "name": "python",
   "nbconvert_exporter": "python",
   "pygments_lexer": "ipython3",
   "version": "3.8.5"
  }
 },
 "nbformat": 4,
 "nbformat_minor": 4
}
