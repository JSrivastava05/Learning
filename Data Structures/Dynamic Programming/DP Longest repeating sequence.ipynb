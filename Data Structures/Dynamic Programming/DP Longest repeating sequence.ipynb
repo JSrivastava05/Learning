{
 "cells": [
  {
   "cell_type": "code",
   "execution_count": null,
   "metadata": {},
   "outputs": [],
   "source": [
    "# min subset sum"
   ]
  },
  {
   "cell_type": "code",
   "execution_count": 5,
   "metadata": {},
   "outputs": [
    {
     "name": "stdout",
     "output_type": "stream",
     "text": [
      "Length of Largest Repeating Subsequence : 3\n"
     ]
    }
   ],
   "source": [
    "def LarRep(s,s1):\n",
    "    n = len(s)\n",
    "\n",
    "    # dp array definition\n",
    "    dp = [[0]*(n+1) for _ in range(n+1)]\n",
    "\n",
    "    # initialisation of dp array\n",
    "    for i in range(1,n+1):\n",
    "        for j in range(1,n+1):\n",
    "            # increment count if index not same else chose max from previous sub problems\n",
    "            if s[i-1]==s1[j-1] and i!=j:\n",
    "                dp[i][j] = 1 + dp[i - 1][j - 1]\n",
    "            else:\n",
    "                dp[i][j] = max(dp[i - 1][j], dp[i][j - 1])\n",
    "    return dp[n][n]\n",
    "\n",
    "if __name__ == '__main__':\n",
    "    s = 'aabebcdd'\n",
    "    length = LarRep(s,s)\n",
    "    print(f\"Length of Largest Repeating Subsequence : {str(length)}\")"
   ]
  },
  {
   "cell_type": "code",
   "execution_count": null,
   "metadata": {},
   "outputs": [],
   "source": []
  },
  {
   "cell_type": "code",
   "execution_count": null,
   "metadata": {},
   "outputs": [],
   "source": []
  }
 ],
 "metadata": {
  "kernelspec": {
   "display_name": "Python 3",
   "language": "python",
   "name": "python3"
  },
  "language_info": {
   "codemirror_mode": {
    "name": "ipython",
    "version": 3
   },
   "file_extension": ".py",
   "mimetype": "text/x-python",
   "name": "python",
   "nbconvert_exporter": "python",
   "pygments_lexer": "ipython3",
   "version": "3.8.5"
  }
 },
 "nbformat": 4,
 "nbformat_minor": 4
}
