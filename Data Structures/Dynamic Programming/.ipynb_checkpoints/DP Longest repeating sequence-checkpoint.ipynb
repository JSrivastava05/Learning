{
 "cells": [
  {
   "cell_type": "code",
   "execution_count": null,
   "metadata": {},
   "outputs": [],
   "source": [
    "# min subset sum"
   ]
  },
  {
   "cell_type": "code",
   "execution_count": 9,
   "metadata": {},
   "outputs": [
    {
     "name": "stdout",
     "output_type": "stream",
     "text": [
      "Length of LpS =  5\n"
     ]
    }
   ],
   "source": [
    "def LCS(s1,s2,l1,l2):\n",
    "    dp=[[None]*(l2+1) for _ in range(l1+1)]\n",
    "    for i in range(l1+1):\n",
    "        dp[i][0]=0\n",
    "    for j in range(l2+1):\n",
    "        dp[0][j]=0\n",
    "    for i in range(1,l1+1):\n",
    "        for j in range(1,l2+1):\n",
    "            if s1[i-1]==s2[j-1]:\n",
    "                dp[i][j]=1+dp[i-1][j-1]\n",
    "            else:\n",
    "                dp[i][j]=max(dp[i-1][j],dp[i][j-1])\n",
    "#     mx=-999\n",
    "#     for i in dp:\n",
    "#         mx=max(mx,max(i))\n",
    "    return dp[l1][l2]\n",
    "\n",
    "if __name__ == '__main__':\n",
    "#     s1 = 'abada'\n",
    "#     s2 = s1[::-1]\n",
    "    s1 = 'abcba' #3\n",
    "    s2 = 'abcba'\n",
    "    maxlen = LCS(s1,s2,len(s1),len(s2))\n",
    "    print(\"Length of LpS = \",maxlen)\n",
    "    # time complexity of the above problem is O(2^n), where n is the length of the given string."
   ]
  },
  {
   "cell_type": "code",
   "execution_count": null,
   "metadata": {},
   "outputs": [],
   "source": []
  }
 ],
 "metadata": {
  "kernelspec": {
   "display_name": "Python 3",
   "language": "python",
   "name": "python3"
  },
  "language_info": {
   "codemirror_mode": {
    "name": "ipython",
    "version": 3
   },
   "file_extension": ".py",
   "mimetype": "text/x-python",
   "name": "python",
   "nbconvert_exporter": "python",
   "pygments_lexer": "ipython3",
   "version": "3.8.5"
  }
 },
 "nbformat": 4,
 "nbformat_minor": 4
}
