{
 "cells": [
  {
   "cell_type": "code",
   "execution_count": 4,
   "metadata": {},
   "outputs": [
    {
     "name": "stdout",
     "output_type": "stream",
     "text": [
      "Length of Largest Repeating Subsequence : 2\n"
     ]
    }
   ],
   "source": [
    "import sys\n",
    "def coin(c,s):\n",
    "    t=[[None]*(s+1) for _ in range(len(c)+1)]\n",
    "    for j in range(s+1):\n",
    "        t[0][j]=sys.maxsize-1\n",
    "    for i in range(len(c)+1):\n",
    "        t[i][0]=0\n",
    "    for i in range(1,len(c)+1):\n",
    "        for j in range(1,s+1):\n",
    "            if c[i-1]<=j:\n",
    "                t[i][j]=min(t[i-1][j],1+t[i][j-c[i-1]])\n",
    "            else:\n",
    "                t[i][j]=t[i-1][j]\n",
    "    return t[i][j]\n",
    "if __name__ == '__main__':\n",
    "    c = [3,5,6]\n",
    "    s=12\n",
    "    mincoin = coin(c,s)\n",
    "    print(f\"Length of Largest Repeating Subsequence : {mincoin}\")"
   ]
  },
  {
   "cell_type": "code",
   "execution_count": null,
   "metadata": {},
   "outputs": [],
   "source": []
  },
  {
   "cell_type": "code",
   "execution_count": null,
   "metadata": {},
   "outputs": [],
   "source": []
  }
 ],
 "metadata": {
  "kernelspec": {
   "display_name": "Python 3",
   "language": "python",
   "name": "python3"
  },
  "language_info": {
   "codemirror_mode": {
    "name": "ipython",
    "version": 3
   },
   "file_extension": ".py",
   "mimetype": "text/x-python",
   "name": "python",
   "nbconvert_exporter": "python",
   "pygments_lexer": "ipython3",
   "version": "3.8.5"
  }
 },
 "nbformat": 4,
 "nbformat_minor": 4
}
