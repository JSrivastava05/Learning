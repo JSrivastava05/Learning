{
 "cells": [
  {
   "cell_type": "code",
   "execution_count": null,
   "metadata": {},
   "outputs": [],
   "source": [
    "# Equal Subset Problem: is it possible to divide a target in two equal parts\n",
    "# O/p=True false"
   ]
  },
  {
   "cell_type": "code",
   "execution_count": 51,
   "metadata": {},
   "outputs": [
    {
     "name": "stdout",
     "output_type": "stream",
     "text": [
      "[[True, False, False, False, False], [True, True, False, False, False], [True, True, False, True, True], [True, True, False, True, True], [True, True, True, True, True]]\n",
      "Subset with Equal Target sum Possible :  True\n"
     ]
    }
   ],
   "source": [
    "# Subarray position with sum s Optimized code, time complexity O(N), Execution time : 0.69s\n",
    "#User function Template for python3\n",
    "\n",
    "from collections import defaultdict\n",
    "#Function to find a continuous sub-array which adds up to a given number.\n",
    "class Solution:\n",
    "    def subArraySum(self,arr, n): \n",
    "    #         Create array\n",
    "        s=int(sum(arr)/2)\n",
    "        t=[[None]*(s+1) for _ in range(n+1)]\n",
    "#         Initialize array\n",
    "        for j in range(s+1):\n",
    "            t[0][j]=False\n",
    "        for i in range(n+1):\n",
    "            t[i][0]=True\n",
    "#         Knapsack code\n",
    "        for i in range(1,n+1):\n",
    "            for j in range(s+1):            \n",
    "                if arr[i-1]<=j:\n",
    "                    t[i][j]=t[i-1][j-arr[i-1]] or t[i-1][j]\n",
    "                else:\n",
    "                    t[i][j]=t[i-1][j]\n",
    "        print(t)\n",
    "#         if t[i][j]==None:\n",
    "#             return False\n",
    "#         else:\n",
    "        return(t[i][j])\n",
    "            \n",
    "        \n",
    "        \n",
    "#{ \n",
    " # Driver Code Starts\n",
    "#Initial Template for Python 3\n",
    "\n",
    "import math\n",
    "\n",
    "def main():\n",
    "\n",
    "            A=[1,3,3,1]\n",
    "            if sum(A)%2==0:\n",
    "                ob=Solution()\n",
    "                ans=ob.subArraySum(A, len(A))\n",
    "                print('Subset with Equal Target sum Possible : ', str(ans))\n",
    "            else:\n",
    "                print('Subset with Equal Target sum Possible : No')\n",
    "\n",
    "\n",
    "if __name__ == \"__main__\":\n",
    "    main()"
   ]
  },
  {
   "cell_type": "code",
   "execution_count": 45,
   "metadata": {},
   "outputs": [
    {
     "name": "stdout",
     "output_type": "stream",
     "text": [
      "Equal Sum Subsets are possible !\n"
     ]
    }
   ],
   "source": [
    "def subSum(arr,target):\n",
    "    n = len(arr)\n",
    "    dp = [[None]*(target+1) for _ in range(n+1)]\n",
    "\n",
    "    # Initialise DP array !!\n",
    "    # If no. of elements in arr are 0 then Target sum is not possible\n",
    "    # Target sum = 0 is always possible i.e, by keeping the array subset as null/phi.\n",
    "    for i in range(target+1):\n",
    "        dp[0][i] = False\n",
    "    for j in range(n+1):\n",
    "        dp[j][0] = True\n",
    "\n",
    "    # An element can be chosen only if sum is less han arr[i] else it cannot be included\n",
    "    for i in range(1,n+1):\n",
    "        for j in range(target+1):\n",
    "            if arr[i-1] <= j:\n",
    "                dp[i][j] = dp[i-1][j-arr[i-1]] or dp[i-1][j]\n",
    "            else:\n",
    "                dp[i][j] = dp[i-1][j]\n",
    "    # Return last cell as it contains answer\n",
    "    return dp[n][target]\n",
    "\n",
    "def isPossible(arr):\n",
    "    # If arr has sum P and two subsets have same sum S respectively then S+S =P. Therefore we need to find\n",
    "    # subset of sum P//2 and other subset will have same sum.\n",
    "    P = sum(arr)\n",
    "    S = P // 2\n",
    "    # ReturnTrue if subset exists else False\n",
    "    return(subSum(arr,S))\n",
    "\n",
    "if __name__ == '__main__':\n",
    "    arr = [1,3,6,8]\n",
    "    # An array can be divided into two equal halves only if sum of arr is even else it is not possible\n",
    "    if sum(arr) % 2:\n",
    "        print('Equal Subset cannot be formed !!')\n",
    "    else:\n",
    "        boolean = isPossible(arr)\n",
    "        if boolean:\n",
    "            print('Equal Sum Subsets are possible !')\n",
    "        else:\n",
    "            print('Equal Sum Subsets are not possible !')"
   ]
  },
  {
   "cell_type": "code",
   "execution_count": null,
   "metadata": {},
   "outputs": [],
   "source": []
  }
 ],
 "metadata": {
  "kernelspec": {
   "display_name": "Python 3",
   "language": "python",
   "name": "python3"
  },
  "language_info": {
   "codemirror_mode": {
    "name": "ipython",
    "version": 3
   },
   "file_extension": ".py",
   "mimetype": "text/x-python",
   "name": "python",
   "nbconvert_exporter": "python",
   "pygments_lexer": "ipython3",
   "version": "3.8.5"
  }
 },
 "nbformat": 4,
 "nbformat_minor": 4
}
