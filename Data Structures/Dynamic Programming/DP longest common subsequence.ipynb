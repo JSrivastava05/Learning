{
 "cells": [
  {
   "cell_type": "code",
   "execution_count": null,
   "metadata": {},
   "outputs": [],
   "source": [
    "# min subset sum"
   ]
  },
  {
   "cell_type": "code",
   "execution_count": 4,
   "metadata": {},
   "outputs": [
    {
     "name": "stdout",
     "output_type": "stream",
     "text": [
      "Length of LCS =  4\n"
     ]
    }
   ],
   "source": [
    "def LCS(s1,s2,l1,l2):\n",
    "    dp = [[None]*(l2+1) for _ in range(l1+1)]\n",
    "\n",
    "    # Initialise dp\n",
    "    # If length of any substring is 0 then length of LCS will be zero\n",
    "    # So dp[0][i] and dp[j][0] will be zero\n",
    "\n",
    "    for i in range(l1+1):\n",
    "        dp[i][0] = 0\n",
    "    for j in range(l2+1):\n",
    "        dp[0][j] = 0\n",
    "\n",
    "    # if s1[i] == s2[j] then increase by 1 else search in i-1 and j or i and j-1\n",
    "#     for i in range(1,l1+1):\n",
    "#         for j in range(1,l2+1):\n",
    "#             if s1[i-1] == s2[j-1]:\n",
    "#                 dp[i][j] = 1 + dp[i-1][j-1]\n",
    "#             else:\n",
    "#                 dp[i][j] = max(dp[i][j-1],dp[i-1][j])\n",
    "    for i in range(1,l1+1):\n",
    "        for j in range(1,l2+1):\n",
    "            if s1[i-1]==s2[j-1]:\n",
    "                dp[i][j]=1+dp[i-1][j-1]\n",
    "            else:\n",
    "                dp[i][j]=max(dp[i][j-1],dp[i-1][j])\n",
    "\n",
    "    # dp[l1][l2] contains the length of LCS of s1 and s2\n",
    "    return dp[l1][l2]\n",
    "\n",
    "\n",
    "\n",
    "if __name__ == '__main__':\n",
    "#     s1 = 'abbacdcba' #5\n",
    "#     s2 = 'bcdbbcaa'\n",
    "    s1 = 'abcba'\n",
    "    s2 = 'adcba'\n",
    "    maxlen = LCS(s1,s2,len(s1),len(s2))\n",
    "    print(\"Length of LCS = \",maxlen)\n",
    "    # time complexity of the above problem is O(m*n), where m is the length of s1 and n is the length of s2."
   ]
  },
  {
   "cell_type": "code",
   "execution_count": null,
   "metadata": {},
   "outputs": [],
   "source": []
  }
 ],
 "metadata": {
  "kernelspec": {
   "display_name": "Python 3",
   "language": "python",
   "name": "python3"
  },
  "language_info": {
   "codemirror_mode": {
    "name": "ipython",
    "version": 3
   },
   "file_extension": ".py",
   "mimetype": "text/x-python",
   "name": "python",
   "nbconvert_exporter": "python",
   "pygments_lexer": "ipython3",
   "version": "3.8.5"
  }
 },
 "nbformat": 4,
 "nbformat_minor": 4
}
