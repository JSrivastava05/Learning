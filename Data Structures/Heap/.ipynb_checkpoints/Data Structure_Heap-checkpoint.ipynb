{
 "cells": [
  {
   "cell_type": "code",
   "execution_count": 44,
   "metadata": {},
   "outputs": [
    {
     "name": "stdout",
     "output_type": "stream",
     "text": [
      "[1, 4, 2, 5, 8, 3]\n"
     ]
    }
   ],
   "source": [
    "# Heap : create and push\n",
    "import heapq\n",
    "H=[5,4,3,2]\n",
    "heapq.heapify(H) # creates heap, brings min values to smallest indexes\n",
    "heapq.heappush(H,8)# add to heap if value is smaller, bring o index 0\n",
    "heapq.heappush(H,1)\n",
    "print(H)"
   ]
  },
  {
   "cell_type": "code",
   "execution_count": 45,
   "metadata": {},
   "outputs": [
    {
     "name": "stdout",
     "output_type": "stream",
     "text": [
      "[2, 5, 9, 7, 34, 23]\n",
      "[2, 5, 9, 7, 34, 23, 10]\n",
      "[1, 2, 9, 5, 34, 23, 10, 7]\n"
     ]
    }
   ],
   "source": [
    "import heapq as hq\n",
    "H=[9,7,23,5,34,2]\n",
    "hq.heapify(H)\n",
    "print(H)\n",
    "hq.heappush(H,10)\n",
    "print(H)\n",
    "hq.heappush(H,1)\n",
    "print(H)"
   ]
  },
  {
   "cell_type": "code",
   "execution_count": 47,
   "metadata": {},
   "outputs": [
    {
     "name": "stdout",
     "output_type": "stream",
     "text": [
      "[0, 4, 3, 7, 8, 7, 4]\n",
      "[0, 1, 3, 4, 8, 7, 4, 7]\n",
      "[1, 4, 3, 7, 8, 7, 4]\n",
      "[2, 4, 3, 7, 8, 7, 4]\n"
     ]
    }
   ],
   "source": [
    "import heapq as h\n",
    "H=[7,8,4,7,4,3,0]\n",
    "h.heapify(H)\n",
    "print(H)\n",
    "h.heappush(H,1)\n",
    "print(H)\n",
    "h.heappop(H)\n",
    "print(H)\n",
    "h.heapreplace(H,2)\n",
    "print(H)"
   ]
  },
  {
   "cell_type": "code",
   "execution_count": null,
   "metadata": {},
   "outputs": [],
   "source": []
  }
 ],
 "metadata": {
  "kernelspec": {
   "display_name": "Python 3",
   "language": "python",
   "name": "python3"
  },
  "language_info": {
   "codemirror_mode": {
    "name": "ipython",
    "version": 3
   },
   "file_extension": ".py",
   "mimetype": "text/x-python",
   "name": "python",
   "nbconvert_exporter": "python",
   "pygments_lexer": "ipython3",
   "version": "3.8.5"
  }
 },
 "nbformat": 4,
 "nbformat_minor": 4
}
