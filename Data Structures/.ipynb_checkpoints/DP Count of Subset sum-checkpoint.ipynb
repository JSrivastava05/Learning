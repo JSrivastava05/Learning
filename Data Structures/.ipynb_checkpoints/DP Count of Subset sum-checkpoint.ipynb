{
 "cells": [
  {
   "cell_type": "code",
   "execution_count": null,
   "metadata": {},
   "outputs": [],
   "source": [
    "# Count Subset Sum Problem\n",
    "# O/P : count of sets with givensum"
   ]
  },
  {
   "cell_type": "code",
   "execution_count": 39,
   "metadata": {},
   "outputs": [
    {
     "name": "stdout",
     "output_type": "stream",
     "text": [
      "Subset with count of subset sum :  2\n"
     ]
    }
   ],
   "source": [
    "from collections import defaultdict\n",
    "#Function to find a continuous sub-array which adds up to a given number.\n",
    "class Solution:\n",
    "\n",
    "    def subArraySum(self,arr, n, s): \n",
    "        # create array \n",
    "        t=[[0]*(s+1) for _ in range(n+1)]\n",
    "#         print(t)\n",
    "        # initiallize\n",
    "        for j in range(s+1):\n",
    "            t[0][j]=0\n",
    "        for i in range(n+1):\n",
    "            t[i][0]=1\n",
    "#         print(t)\n",
    "        \n",
    "        # code\n",
    "        for i in range(1,n+1):\n",
    "            for j in range(s+1):\n",
    "                if arr[i-1]<=j:\n",
    "                    t[i][j]=t[i-1][j-arr[i-1]] + t[i-1][j]\n",
    "#                     print(i,j,t[i][j],t[i-1][j-arr[i-1]],t[i-1][j])\n",
    "                else:\n",
    "                    t[i][j]=t[i-1][j]\n",
    "#         print(t)\n",
    "        return t[i][j]\n",
    "\n",
    "\n",
    "import math\n",
    "\n",
    "def main():\n",
    "#             A=[2,3,5,6,8,10]\n",
    "#             S=10\n",
    "#             N=6\n",
    "#             A=[1,2,3,3]\n",
    "#             S=6\n",
    "#             N=4\n",
    "            A=[1,11,5,5]\n",
    "            N=4\n",
    "            S=11\n",
    "            ob=Solution()\n",
    "            ans=ob.subArraySum(A, N, S)\n",
    "            print('Subset with count of subset sum : ', str(ans))\n",
    "\n",
    "if __name__ == \"__main__\":\n",
    "    main()"
   ]
  },
  {
   "cell_type": "code",
   "execution_count": null,
   "metadata": {},
   "outputs": [],
   "source": []
  }
 ],
 "metadata": {
  "kernelspec": {
   "display_name": "Python 3",
   "language": "python",
   "name": "python3"
  },
  "language_info": {
   "codemirror_mode": {
    "name": "ipython",
    "version": 3
   },
   "file_extension": ".py",
   "mimetype": "text/x-python",
   "name": "python",
   "nbconvert_exporter": "python",
   "pygments_lexer": "ipython3",
   "version": "3.8.5"
  }
 },
 "nbformat": 4,
 "nbformat_minor": 4
}
