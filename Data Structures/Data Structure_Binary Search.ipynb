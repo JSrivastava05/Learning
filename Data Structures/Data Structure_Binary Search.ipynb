{
 "cells": [
  {
   "cell_type": "code",
   "execution_count": null,
   "metadata": {},
   "outputs": [],
   "source": [
    "Data: Facts\n",
    "Data Structure: Arrangement of data in Computer\n",
    "Type of DS :\n",
    "Linear Structure: \n",
    "    Array\n",
    "    Linked List\n",
    "        single LL\n",
    "        Double LL\n",
    "        Circular LL\n",
    "        Circular double LL\n",
    "    Stack\n",
    "        Register Stack\n",
    "        Memory Stack\n",
    "    Queue\n",
    "        Single Queue\n",
    "        Circular Queque\n",
    "        Priority Queue\n",
    "        Double ended queue\n",
    "Non-Linear Structure\n",
    "    Binary Tree\n",
    "    Binary Search Tree\n",
    "    Heap\n",
    "    Hash\n",
    "        hash table\n",
    "        hash function\n",
    "        Collision Resolution\n",
    "            Linear Probing - Issue:Primary Clustering,Secondary Clustering\n",
    "            Quadratic Probing - Issue:Primary Clustering,Secondary Clustering\n",
    "            Double hashing\n",
    "            Random Probing    \n",
    "    Matrix\n",
    "    Trie\n",
    "        Standard Trie\n",
    "        Compressed Trie\n",
    "        Suffix Trie\n",
    "    "
   ]
  },
  {
   "cell_type": "code",
   "execution_count": 3,
   "metadata": {},
   "outputs": [
    {
     "name": "stdout",
     "output_type": "stream",
     "text": [
      "3\n",
      "Run Time  0.0\n",
      "10\n",
      "Run Time  0.0\n",
      "-1\n",
      "Run Time  0.0\n",
      "67\n",
      "Run Time  0.0\n"
     ]
    }
   ],
   "source": [
    "#User function template for Python\n",
    "import time\n",
    "import math\n",
    "\n",
    "class Solution:\n",
    "    def binarysearch(self, arr, n, k):\n",
    "        # code here\n",
    "        l,h,mid=0,n-1,0\n",
    "        if k<=arr[n-1]:\n",
    "            while l<=h: \n",
    "                mid=int((l+h)/2)\n",
    "#                 print('mid ',mid,' K ',k,' arr ', arr[mid],'l ',l,'h ',h,'l<=h ',l<=h)\n",
    "                if arr[mid]==k:return mid\n",
    "                elif arr[mid]<k:l=mid+1\n",
    "                else:h=mid\n",
    "        return -1\n",
    "        \n",
    "if __name__ == '__main__':\n",
    "    t=int(input())\n",
    "    for i in range(t):\n",
    "        n=int(input())\n",
    "        arr=list(map(int, input().strip().split(' ')))\n",
    "        k=int(input())\n",
    "        ob = Solution()\n",
    "        print (ob.binarysearch(arr, n, k))\n",
    "#         start=time.time()\n",
    "#         print (ob.binarysearch([1,2,3,4,5],5,4))\n",
    "#         print('Run Time ',time.time()-start)\n",
    "#         start=time.time()\n",
    "#         print (ob.binarysearch([1,2,3,7,8,9,11,12,13,14,16,17,18,19,23,24,26,28,30,31,32,33,34,36,37,38,39,40,44,45,46,47,52,56,57,59,60,61,62,63,64,65,68,69,70,72,73,74,76,79,80,81,82,84,89,90,93,95,96,97,99,100], 61, 16))\n",
    "#         print('Run Time ',time.time()-start)\n",
    "#         start=time.time()\n",
    "#         print (ob.binarysearch([2,3,4,5,7,8,9,11,12,14,15,19,20,22,25,26,28,32,33,35,36,37,38,41,43,44,45,46,49,50,51,52,53,55,59,60,61,62,65,66,67,69,70,71,72,73,74,75,76,77,78,79,80,81,82,83,84,88,92,93,94,95,96,98,99],65,222))\n",
    "#         print('Run Time ',time.time()-start)\n",
    "#         start=time.time()\n",
    "#         print (ob.binarysearch([1,2,3,4,5,6,7,8,9,10,11,12,13,15,17,18,19,20,21,22,25,26,27,29,31,32,33,35,36,40,41,42,43,46,47,48,51,54,55,56,57,58,61,63,64,65,67,69,71,74,77,78,79,80,81,82,83,85,86,87,88,89,90,91,93,95,99,100],68,100))\n",
    "#         print('Run Time ',time.time()-start)\n",
    "\n",
    "\n",
    "# } Driver Code Ends"
   ]
  },
  {
   "cell_type": "code",
   "execution_count": 48,
   "metadata": {},
   "outputs": [
    {
     "data": {
      "text/plain": [
       "68"
      ]
     },
     "execution_count": 48,
     "metadata": {},
     "output_type": "execute_result"
    }
   ],
   "source": [
    "l=[1,2,3,4,5,6,7,8,9,10,11,12,13,15,17,18,19,20,21,22,25,26,27,29,31,32,33,35,36,40,41,42,43,46,47,48,51,54,55,56,57,58,61,63,64,65,67,69,71,74,77,78,79,80,81,82,83,85,86,87,88,89,90,91,93,95,99,100]\n",
    "len(l)"
   ]
  },
  {
   "cell_type": "code",
   "execution_count": 35,
   "metadata": {},
   "outputs": [
    {
     "name": "stdout",
     "output_type": "stream",
     "text": [
      "-1\n",
      "time :  0.0\n"
     ]
    }
   ],
   "source": [
    "65\n",
    "[2,3,4,5,7,8,9,11,12,14,15,19,20,22,25,26,28,32,33,35,36,37,38,41,43,44,45,46,49,50,51,52,53,55,59,60,61,62,65,66,67,69,70,71,72,73,74,75,76,77,78,79,80,81,82,83,84,88,92,93,94,95,96,98,99]\n",
    "222"
   ]
  },
  {
   "cell_type": "code",
   "execution_count": 28,
   "metadata": {},
   "outputs": [
    {
     "data": {
      "text/plain": [
       "(60, 29, 51, 44, 81, 52, 93)"
      ]
     },
     "execution_count": 28,
     "metadata": {},
     "output_type": "execute_result"
    }
   ],
   "source": [
    "62\n",
    "[1,2,3,7,8,9,11,12,13,14,16,17,18,19,23,24,26,28,30,31,32,33,34,36,37,38,39,40,44,45,46,47,52,56,57,59,60,61,62,63,64,65,68,69,70,72,73,74,76,79,80,81,82,84,89,90,93,95,96,97,99,100]\n",
    "16"
   ]
  },
  {
   "cell_type": "code",
   "execution_count": null,
   "metadata": {},
   "outputs": [],
   "source": [
    " #miltiple loop condition increase execution time by 3 times\n",
    "# condition check in if doesnt take much time"
   ]
  },
  {
   "cell_type": "code",
   "execution_count": null,
   "metadata": {},
   "outputs": [],
   "source": [
    "def multiprocess(cube):    \n",
    "    cores = cpu_count()\n",
    "\n",
    "    cube_parts = np.array_split(cube, cores, axis=2)\n",
    "\n",
    "    with Pool(cores) as p:\n",
    "        parts = p.map(filterfunc.filterfunc, cube_parts)\n",
    "        try:\n",
    "            return np.concatenate(parts, axis = 2)\n",
    "        except ValueError:\n",
    "            print(\"Array provided is smaller than # of cores available\")"
   ]
  }
 ],
 "metadata": {
  "kernelspec": {
   "display_name": "Python 3",
   "language": "python",
   "name": "python3"
  },
  "language_info": {
   "codemirror_mode": {
    "name": "ipython",
    "version": 3
   },
   "file_extension": ".py",
   "mimetype": "text/x-python",
   "name": "python",
   "nbconvert_exporter": "python",
   "pygments_lexer": "ipython3",
   "version": "3.8.5"
  }
 },
 "nbformat": 4,
 "nbformat_minor": 4
}
