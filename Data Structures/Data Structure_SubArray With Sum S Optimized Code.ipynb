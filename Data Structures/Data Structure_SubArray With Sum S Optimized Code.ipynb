{
 "cells": [
  {
   "cell_type": "code",
   "execution_count": null,
   "metadata": {},
   "outputs": [],
   "source": [
    "Data: Facts\n",
    "Data Structure: Arrangement of data in Computer\n",
    "Type of DS :\n",
    "Linear Structure: \n",
    "    Array\n",
    "    Linked List\n",
    "        single LL\n",
    "        Double LL\n",
    "        Circular LL\n",
    "        Circular double LL\n",
    "    Stack\n",
    "        Register Stack\n",
    "        Memory Stack\n",
    "    Queue\n",
    "        Single Queue\n",
    "        Circular Queque\n",
    "        Priority Queue\n",
    "        Double ended queue\n",
    "Non-Linear Structure\n",
    "    Binary Tree\n",
    "    Binary Search Tree\n",
    "    Heap\n",
    "    Hash\n",
    "    Matrix\n",
    "    Trie\n",
    "    "
   ]
  },
  {
   "cell_type": "code",
   "execution_count": 20,
   "metadata": {},
   "outputs": [
    {
     "name": "stdout",
     "output_type": "stream",
     "text": [
      "[1, 3]\n"
     ]
    }
   ],
   "source": [
    "# Subarray position with sum s Optimized code, time complexity O(N), Execution time : 0.69s\n",
    "#User function Template for python3\n",
    "\n",
    "from collections import defaultdict\n",
    "# #Function to find a continuous sub-array which adds up to a given number.\n",
    "class Solution:\n",
    "    def subArraySum(self,arr, n, s): \n",
    "        hash = defaultdict(lambda: 0)\n",
    "        hash[s]=[-1]\n",
    "        sums=arr[0]\n",
    "        start=0\n",
    "        i=1\n",
    "        while i<=n:\n",
    "            while sums>s and start<i-1:\n",
    "                sums=sums-arr[start]\n",
    "                start +=1\n",
    "            if sums==s:\n",
    "                hash[sums]=[start+1, i]\n",
    "                return hash[sums]\n",
    "            if i<n:\n",
    "                sums=sums+arr[i]\n",
    "            i+=1\n",
    "        return hash[s]\n",
    "\n",
    "#{ \n",
    " # Driver Code Starts\n",
    "#Initial Template for Python 3\n",
    "\n",
    "import math\n",
    "\n",
    "def main():\n",
    "#         T=int(input())\n",
    "#         while(T>0):\n",
    "#             NS=input().strip().split()\n",
    "#             N=int(NS[0])\n",
    "#             S=int(NS[1])\n",
    "            \n",
    "#             A=list(map(int,input().split()))\n",
    "#             ob=Solution()\n",
    "#             ans=ob.subArraySum(A, N, S)\n",
    "#             for i in ans:\n",
    "#                 print(i, end=\" \")\n",
    "#             print()\n",
    "#             T-=1\n",
    "    ob=Solution()\n",
    "    ans=ob.subArraySum([2,3,5,6,8,10], , S)\n",
    "\n",
    "if __name__ == \"__main__\":\n",
    "    main()\n",
    "# } Driver Code Ends\n",
    "    \n",
    "\n",
    "# 1 2 3 7 5\n",
    "# 0 1 2 3 4\n",
    "# n=5\n",
    "# s=12\n",
    "# i=0,1,2,3\n",
    "# sum=1,3,6,13\n",
    "# sum>s=f,f,t\n",
    "# start=0\n",
    "# sums-arr[start]=12\n",
    "# start=1"
   ]
  },
  {
   "cell_type": "code",
   "execution_count": null,
   "metadata": {},
   "outputs": [],
   "source": []
  }
 ],
 "metadata": {
  "kernelspec": {
   "display_name": "Python 3",
   "language": "python",
   "name": "python3"
  },
  "language_info": {
   "codemirror_mode": {
    "name": "ipython",
    "version": 3
   },
   "file_extension": ".py",
   "mimetype": "text/x-python",
   "name": "python",
   "nbconvert_exporter": "python",
   "pygments_lexer": "ipython3",
   "version": "3.8.5"
  }
 },
 "nbformat": 4,
 "nbformat_minor": 4
}
