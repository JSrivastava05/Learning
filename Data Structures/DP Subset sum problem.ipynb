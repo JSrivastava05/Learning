{
 "cells": [
  {
   "cell_type": "code",
   "execution_count": null,
   "metadata": {},
   "outputs": [],
   "source": [
    "# Subset Sum Problem\n",
    "# Subset sum problem is the most frequently asked question in technical interviews of Microsoft and Infosys. \n",
    "# The subset sum problem is the problem of finding the subset of the given set of numbers where the sum of the elements \n",
    "# of the subset found is equal to the target number.\n",
    "\n",
    "# Problem statement: You are given array and target. You have to find if there exists any subset that will sum equal to \n",
    "# the target.\n",
    "\n",
    "# Solution: Here you will create a 2D array of size (arra.size()+1)*(target+1) of boolean type. Later, you will set value \n",
    "# of each state dp[i][j] true if subset of elements arr[0...i] exists with sum value to be 'j' where j is the target number. "
   ]
  },
  {
   "cell_type": "code",
   "execution_count": 9,
   "metadata": {},
   "outputs": [
    {
     "name": "stdout",
     "output_type": "stream",
     "text": [
      "[[None, None, None, None, None, None, None, None], [None, None, None, None, None, None, None, None], [None, None, None, None, None, None, None, None], [None, None, None, None, None, None, None, None], [None, None, None, None, None, None, None, None]]\n",
      "[[True, False, False, False, False, False, False, False], [True, None, None, None, None, None, None, None], [True, None, None, None, None, None, None, None], [True, None, None, None, None, None, None, None], [True, None, None, None, None, None, None, None]]\n",
      "[[None, True, None, None, None, None, None, None], [None, None, True, None, None, None, None, None], [None, None, None, None, True, None, None, None], [None, None, None, None, True, None, None, True], [True, None, None, None, None, None, None, True]]\n",
      "Subset with Target sum exists :  True\n"
     ]
    }
   ],
   "source": [
    "# Subarray position with sum s Optimized code, time complexity O(N), Execution time : 0.69s\n",
    "#User function Template for python3\n",
    "\n",
    "from collections import defaultdict\n",
    "#Function to find a continuous sub-array which adds up to a given number.\n",
    "class Solution:\n",
    "    def subArraySum(self,arr, n, s): \n",
    "        t=[[None]*(s+1) for _ in range(n+1)]\n",
    "        print(t)\n",
    "#         base condition\n",
    "        for j in range(s+1):\n",
    "            t[0][j]=False\n",
    "        for i in range(n+1):\n",
    "            t[i][0]=True\n",
    "        print(t)\n",
    "#         knapack code\n",
    "        for i in range(n+1):\n",
    "            for j in range(s+1):\n",
    "                if arr[i-1]<=j:\n",
    "                    t[i][j]=t[i-1][j-arr[i-1]] or t[i-1][j]\n",
    "                else:\n",
    "                    t[i][j]=t[i-1][j-1]\n",
    "        print(t)\n",
    "        return t[i][j]\n",
    "        \n",
    "        \n",
    "#{ \n",
    " # Driver Code Starts\n",
    "#Initial Template for Python 3\n",
    "\n",
    "import math\n",
    "\n",
    "def main():\n",
    "#         T=int(input())\n",
    "#         while(T>0):\n",
    "#             NS=input().strip().split()\n",
    "#             N=int(NS[0])\n",
    "#             S=int(NS[1])\n",
    "            \n",
    "#             A=list(map(int,input().split()))\n",
    "            A=[1,2,3,4]\n",
    "            N=4\n",
    "            S=7\n",
    "            ob=Solution()\n",
    "            ans=ob.subArraySum(A, N, S)\n",
    "            print('Subset with Target sum exists : ', str(ans))\n",
    "#             for i in ans:\n",
    "#                 print(i, end=\" \")\n",
    "#             print()\n",
    "#             T-=1\n",
    "\n",
    "if __name__ == \"__main__\":\n",
    "    main()\n",
    "# } Driver Code Ends\n",
    "    \n",
    "\n",
    "# 1 2 3 7 5\n",
    "# 0 1 2 3 4\n",
    "# n=5\n",
    "# s=12\n",
    "# i=0,1,2,3\n",
    "# sum=1,3,6,13\n",
    "# sum>s=f,f,t\n",
    "# start=0\n",
    "# sums-arr[start]=12\n",
    "# start=1"
   ]
  },
  {
   "cell_type": "code",
   "execution_count": null,
   "metadata": {},
   "outputs": [],
   "source": []
  }
 ],
 "metadata": {
  "kernelspec": {
   "display_name": "Python 3",
   "language": "python",
   "name": "python3"
  },
  "language_info": {
   "codemirror_mode": {
    "name": "ipython",
    "version": 3
   },
   "file_extension": ".py",
   "mimetype": "text/x-python",
   "name": "python",
   "nbconvert_exporter": "python",
   "pygments_lexer": "ipython3",
   "version": "3.8.5"
  }
 },
 "nbformat": 4,
 "nbformat_minor": 4
}
