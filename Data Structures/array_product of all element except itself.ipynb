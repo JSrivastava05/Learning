{
 "cells": [
  {
   "cell_type": "code",
   "execution_count": 2,
   "metadata": {},
   "outputs": [
    {
     "data": {
      "text/plain": [
       "[120.0, 60.0, 40.0, 30.0, 24.0]"
      ]
     },
     "execution_count": 2,
     "metadata": {},
     "output_type": "execute_result"
    }
   ],
   "source": [
    "import numpy as np\n",
    "a=[1,2,3,4,5]\n",
    "[np.prod(a)/i for i in a]"
   ]
  },
  {
   "cell_type": "code",
   "execution_count": 17,
   "metadata": {},
   "outputs": [
    {
     "name": "stdout",
     "output_type": "stream",
     "text": [
      "[24.0, 12.0, 8.0, 6.0, '5']\n"
     ]
    }
   ],
   "source": [
    "def arr_prod(a):\n",
    "    prod=1\n",
    "    for i in a:\n",
    "        if type(i) in [int,float]:\n",
    "            prod=prod*i\n",
    "    op=[prod/i if type(i) in [int,float] else i for i in a ]\n",
    "    return op\n",
    "a=[1,2,3,4,'5']\n",
    "print(arr_prod(a))"
   ]
  },
  {
   "cell_type": "code",
   "execution_count": 29,
   "metadata": {},
   "outputs": [
    {
     "name": "stdout",
     "output_type": "stream",
     "text": [
      "bcdba\n",
      "\n"
     ]
    }
   ],
   "source": [
    "# remove a char to make palindrome\n",
    "a='abcdba'\n",
    "for i in range(len(a)):\n",
    "    if i==0:\n",
    "        st=a[1:]\n",
    "        a[1:]==st[::-1]"
   ]
  },
  {
   "cell_type": "code",
   "execution_count": 39,
   "metadata": {},
   "outputs": [
    {
     "data": {
      "text/plain": [
       "False"
      ]
     },
     "execution_count": 39,
     "metadata": {},
     "output_type": "execute_result"
    }
   ],
   "source": [
    "a='abcdba'\n",
    "st=a[1:]\n",
    "a[1:]==st[::-1]"
   ]
  },
  {
   "cell_type": "code",
   "execution_count": null,
   "metadata": {},
   "outputs": [],
   "source": []
  }
 ],
 "metadata": {
  "kernelspec": {
   "display_name": "Python 3",
   "language": "python",
   "name": "python3"
  },
  "language_info": {
   "codemirror_mode": {
    "name": "ipython",
    "version": 3
   },
   "file_extension": ".py",
   "mimetype": "text/x-python",
   "name": "python",
   "nbconvert_exporter": "python",
   "pygments_lexer": "ipython3",
   "version": "3.8.5"
  }
 },
 "nbformat": 4,
 "nbformat_minor": 4
}
