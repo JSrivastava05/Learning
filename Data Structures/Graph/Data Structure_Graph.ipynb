{
 "cells": [
  {
   "cell_type": "code",
   "execution_count": 1,
   "metadata": {},
   "outputs": [
    {
     "name": "stdout",
     "output_type": "stream",
     "text": [
      "['a', 'b', 'c', 'd', 'e']\n"
     ]
    }
   ],
   "source": [
    "class graph_cls:\n",
    "    def __init__(self,gdict=None):\n",
    "        self.gdict=gdict\n",
    "    def getvertices(self):\n",
    "        return list(self.gdict.keys())\n",
    "\n",
    "graph_elements = { \n",
    "   \"a\" : [\"b\",\"c\"],\n",
    "   \"b\" : [\"a\", \"d\"],\n",
    "   \"c\" : [\"a\", \"d\"],\n",
    "   \"d\" : [\"e\"],\n",
    "   \"e\" : [\"d\"]\n",
    "}\n",
    "g=graph_cls(graph_elements)\n",
    "gph=g.getvertices()\n",
    "print(gph)"
   ]
  },
  {
   "cell_type": "code",
   "execution_count": 5,
   "metadata": {},
   "outputs": [
    {
     "name": "stdout",
     "output_type": "stream",
     "text": [
      "Vertices :  dict_keys(['a', 'b', 'c', 'd', 'e'])\n",
      "FindEdges :  [{'b', 'a'}, {'c', 'a'}, {'b', 'd'}, {'c', 'd'}, {'e', 'd'}]\n",
      "New vertices :  dict_keys(['a', 'b', 'c', 'd', 'e', 'f'])\n",
      "New Edges :  [{'b', 'a'}, {'c', 'a'}, {'b', 'd'}, {'c', 'd'}, {'e', 'd'}, {'f', 'c'}, {'f', 'a'}]\n"
     ]
    }
   ],
   "source": [
    "class gd:\n",
    "    def __init__(self,gdict=None):\n",
    "        self.gdict=gdict\n",
    "    def getvertices(self):\n",
    "        return(self.gdict.keys())\n",
    "    # Find the distinct list of edges\n",
    "    def findedges(self):\n",
    "        edge=[]\n",
    "        for vrtx in self.gdict:\n",
    "            for nextvrtx in self.gdict[vrtx]:\n",
    "                if {nextvrtx,vrtx} not in edge:\n",
    "                    edge.append({nextvrtx,vrtx})\n",
    "        return edge\n",
    "    def addvrtx(self,vrtx,edges):\n",
    "        if vrtx not in self.gdict:\n",
    "            self.gdict[vrtx]=list(set(edges))\n",
    "        \n",
    "grph={'a':['b','c'],\n",
    "      'b':['a','d'],\n",
    "      'c':['a','d'],\n",
    "      'd':['e'],\n",
    "      'e':['d']\n",
    "     }\n",
    "g=gd(grph)\n",
    "print('Vertices : ',g.getvertices())\n",
    "print('FindEdges : ',g.findedges())\n",
    "g.addvrtx('f',['a','c','a'])\n",
    "print('New vertices : ',g.getvertices())\n",
    "print('New Edges : ', g.findedges())"
   ]
  },
  {
   "cell_type": "code",
   "execution_count": null,
   "metadata": {},
   "outputs": [],
   "source": []
  }
 ],
 "metadata": {
  "kernelspec": {
   "display_name": "Python 3",
   "language": "python",
   "name": "python3"
  },
  "language_info": {
   "codemirror_mode": {
    "name": "ipython",
    "version": 3
   },
   "file_extension": ".py",
   "mimetype": "text/x-python",
   "name": "python",
   "nbconvert_exporter": "python",
   "pygments_lexer": "ipython3",
   "version": "3.8.5"
  }
 },
 "nbformat": 4,
 "nbformat_minor": 4
}
