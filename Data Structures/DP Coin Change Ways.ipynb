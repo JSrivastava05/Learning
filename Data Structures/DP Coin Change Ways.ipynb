{
 "cells": [
  {
   "cell_type": "code",
   "execution_count": 6,
   "metadata": {},
   "outputs": [
    {
     "name": "stdout",
     "output_type": "stream",
     "text": [
      " (1, 1) - ( 0 1 )   ( 1 0 )\n",
      " (1, 2) - ( 0 2 )   ( 1 1 )\n",
      " (1, 3) - ( 0 3 )   ( 1 2 )\n",
      " (1, 4) - ( 0 4 )   ( 1 3 )\n",
      " (1, 5) - ( 0 5 )   ( 1 4 )\n",
      " (2, 2) - ( 1 2 )   ( 2 0 )\n",
      " (2, 3) - ( 1 3 )   ( 2 1 )\n",
      " (2, 4) - ( 1 4 )   ( 2 2 )\n",
      " (2, 5) - ( 1 5 )   ( 2 3 )\n",
      " (3, 3) - ( 2 3 )   ( 3 0 )\n",
      " (3, 4) - ( 2 4 )   ( 3 1 )\n",
      " (3, 5) - ( 2 5 )   ( 3 2 )\n",
      "[[1, 0, 0, 0, 0, 0], [1, 1, 1, 1, 1, 1], [1, 1, 2, 2, 3, 3], [1, 1, 2, 3, 4, 5]]\n",
      "Length of Largest Repeating Subsequence : 5\n"
     ]
    }
   ],
   "source": [
    "#Given an array of available denominations of coin and one target price. \n",
    "# In how many ways can you pay the price provided you can use any coin any number of times.\n",
    "\n",
    "def coin(c,s):\n",
    "    t=[[None]*(s+1) for _ in range(len(c)+1)]\n",
    "    for j in range(s+1):\n",
    "        t[0][j]=0\n",
    "    for i in range(len(c)+1):\n",
    "        t[i][0]=1\n",
    "    for i in range(1,len(c)+1):\n",
    "        for j in range(1,s+1):\n",
    "            if c[i-1]<=j:\n",
    "#                 print(F\" {i,j} - (\",i-1,j,\") \",\" (\", i,j-c[i-1],\")\")\n",
    "                t[i][j]=t[i-1][j]+t[i][j-c[i-1]]\n",
    "            else:\n",
    "                t[i][j]=t[i-1][j]\n",
    "                \n",
    "    print(t)\n",
    "    return t[i][j]\n",
    "if __name__ == '__main__':\n",
    "    c = [1,2,3]\n",
    "    s=5\n",
    "    mincoin = coin(c,s)\n",
    "    print(f\"Length of Largest Repeating Subsequence : {mincoin}\")"
   ]
  },
  {
   "cell_type": "code",
   "execution_count": null,
   "metadata": {},
   "outputs": [],
   "source": [
    "   0  1  2  3  4  5\n",
    "0-[1, 0, 0, 0, 0, 0]\n",
    "1-[1, 1, 1, 1, 1, _1]\n",
    "2-[1, 1, 2, 2, 3, 3]\n",
    "3-[1, 1, 2, 3, 4, 5]"
   ]
  },
  {
   "cell_type": "code",
   "execution_count": null,
   "metadata": {},
   "outputs": [],
   "source": [
    "i=2,\n",
    "j=5,\n",
    "j-c[i-1]=5-c[1]=4\n",
    "i-1,j=1,5=>1\n",
    "i,j-c[i-1]=5-c[2]=2,4=>3 \n",
    "i-1,j=1 + i,j-c[i-1]=5-c[2] = 1+3\n",
    "\n",
    "print(t[i-1][j]+t[i][j-c[i-1]],t[i-1][j],t[i][j-c[i-1]],i,j,j-c[i-1])\n"
   ]
  },
  {
   "cell_type": "code",
   "execution_count": null,
   "metadata": {},
   "outputs": [],
   "source": []
  }
 ],
 "metadata": {
  "kernelspec": {
   "display_name": "Python 3",
   "language": "python",
   "name": "python3"
  },
  "language_info": {
   "codemirror_mode": {
    "name": "ipython",
    "version": 3
   },
   "file_extension": ".py",
   "mimetype": "text/x-python",
   "name": "python",
   "nbconvert_exporter": "python",
   "pygments_lexer": "ipython3",
   "version": "3.8.5"
  }
 },
 "nbformat": 4,
 "nbformat_minor": 4
}
