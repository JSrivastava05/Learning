{
 "cells": [
  {
   "cell_type": "markdown",
   "metadata": {},
   "source": [
    "# Stack in Python can be implemented using the following ways: \n",
    "\n",
    "- list\n",
    "- Collections.deque\n",
    "- queue.LifoQueue\n"
   ]
  },
  {
   "cell_type": "markdown",
   "metadata": {},
   "source": [
    "### 1. Stack using list, Time complexity : O(n) for append and pop"
   ]
  },
  {
   "cell_type": "code",
   "execution_count": 1,
   "metadata": {},
   "outputs": [
    {
     "name": "stdout",
     "output_type": "stream",
     "text": [
      "Size of stack : 9\n"
     ]
    }
   ],
   "source": [
    "import numpy as np\n",
    "stack = []\n",
    "print('Adding data to Stack - ')\n",
    "[stack.append(i) for i in np.arange(9)]\n",
    "print(F'Size of stack : {len(stack)}')"
   ]
  },
  {
   "cell_type": "code",
   "execution_count": 2,
   "metadata": {},
   "outputs": [
    {
     "name": "stdout",
     "output_type": "stream",
     "text": [
      "Removing items from stack using pop function\n",
      "8 removed from stack\n",
      "7 removed from stack\n",
      "6 removed from stack\n",
      "Size of stack after removing 3 elements : 6\n",
      "Stack :  [0, 1, 2, 3, 4, 5]\n"
     ]
    }
   ],
   "source": [
    "print('Removing items from stack using pop function')\n",
    "print(F'{stack.pop()} removed from stack')\n",
    "print(F'{stack.pop()} removed from stack')\n",
    "print(F'{stack.pop()} removed from stack')\n",
    "print(F'Size of stack after removing 3 elements : {len(stack)}')\n",
    "print('Stack : ',stack)"
   ]
  },
  {
   "cell_type": "markdown",
   "metadata": {},
   "source": [
    "### 2. Stack using collections.deque, Time complexity : O(1) for append and pop\n",
    "- Deque is preferred over the list in the cases for quicker append and pop operations from both the ends of the container\n",
    "- deque provides an O(1) time complexity for append and pop operations as compared to list which provides O(n) time complexity. "
   ]
  },
  {
   "cell_type": "code",
   "execution_count": 18,
   "metadata": {},
   "outputs": [
    {
     "name": "stdout",
     "output_type": "stream",
     "text": [
      "After append, stack :  deque([0, 1, 2, 3, 4, 5, 6, 7, 8])\n",
      "Size of stack :  9\n"
     ]
    }
   ],
   "source": [
    "from collections import deque\n",
    "stack=deque()\n",
    "print('Adding data to Stack - ')\n",
    "[stack.append(i) for i in np.arange(9)]\n",
    "print('After append, stack : ',stack)\n",
    "print('Size of stack : ',len(stack))"
   ]
  },
  {
   "cell_type": "code",
   "execution_count": 19,
   "metadata": {},
   "outputs": [
    {
     "name": "stdout",
     "output_type": "stream",
     "text": [
      "Removing elements -\n",
      "8 removed from stack\n",
      "7 removed from stack\n",
      "6 removed from stack\n",
      "Size of stack :  6\n",
      "After removing 3 elements, stack :  deque([0, 1, 2, 3, 4, 5])\n",
      "Descending sorted stack  [5, 4, 3, 2, 1, 0]\n",
      "0 removed from sorted stack\n"
     ]
    }
   ],
   "source": [
    "print('Removing elements -')\n",
    "print(F'{stack.pop()} removed from stack')\n",
    "print(F'{stack.pop()} removed from stack')\n",
    "print(F'{stack.pop()} removed from stack')\n",
    "print('Size of stack : ',len(stack))\n",
    "print('After removing 3 elements, stack : ',stack)\n",
    "print('Descending sorted stack ', sorted(stack,reverse=True))\n",
    "stack=sorted(stack,reverse=True)\n",
    "print(f'{stack.pop()} removed from sorted stack')"
   ]
  },
  {
   "cell_type": "code",
   "execution_count": 20,
   "metadata": {},
   "outputs": [
    {
     "data": {
      "text/plain": [
       "[5, 4, 2, 1]"
      ]
     },
     "execution_count": 20,
     "metadata": {},
     "output_type": "execute_result"
    }
   ],
   "source": [
    "# removing from middle as opposed to LIFO and FILO\n",
    "stack.remove(3)\n",
    "stack"
   ]
  },
  {
   "cell_type": "markdown",
   "metadata": {},
   "source": [
    "### 3. Stack using queue.LifoQueue, Time complexity \n",
    "- stack.maxsize\n",
    "- stack.qsize()\n",
    "- stack.put(i)\n",
    "- stack.empty()\n",
    "- stack.full()\n",
    "- stack.get()\n",
    "- stack.get_nowait() # raises empty error if stack is empty\n",
    "- stack.put_nowait(5) # raises full error if stack is full"
   ]
  },
  {
   "cell_type": "code",
   "execution_count": 22,
   "metadata": {},
   "outputs": [
    {
     "name": "stdout",
     "output_type": "stream",
     "text": [
      "Checking if stack is empty : True\n",
      "Size of empty stack  0\n",
      "Adding data to Stack - \n",
      "Checking if stack is empty : False\n",
      "Stack Size after putting elements : 5\n",
      "Checking if stack is full :  True\n",
      "<queue.LifoQueue object at 0x000001AFFDC507C0>\n",
      "Removing 4 from stack\n",
      "Removing 3 from stack\n",
      "Size of stack : 3\n",
      "Checking if stack is empty : False\n",
      "Checking if stack is full : False\n"
     ]
    }
   ],
   "source": [
    "import numpy as np\n",
    "from queue import LifoQueue\n",
    "stack=LifoQueue()\n",
    "stack.maxsize=5\n",
    "print('Checking if stack is empty :', stack.empty())\n",
    "print(F'Size of empty stack  {stack.qsize()}')\n",
    "# stack.get_nowait() # raises empty error\n",
    "print('Adding data to Stack - ')\n",
    "[stack.put(i) for i in np.arange(stack.maxsize-stack.qsize())]\n",
    "print('Checking if stack is empty :', stack.empty())\n",
    "print(F'Stack Size after putting elements : {stack.qsize()}')\n",
    "print('Checking if stack is full : ',stack.full())\n",
    "# stack.put_nowait(5) # raises full error\n",
    "print(stack)\n",
    "print(F'Removing {stack.get()} from stack')\n",
    "print(F'Removing {stack.get()} from stack')\n",
    "print(F'Size of stack : {stack.qsize()}')\n",
    "print('Checking if stack is empty :',stack.empty())\n",
    "print('Checking if stack is full :',stack.full())\n"
   ]
  },
  {
   "cell_type": "markdown",
   "metadata": {},
   "source": [
    "### 4. Additionaly, Stack using singly linked list"
   ]
  },
  {
   "cell_type": "code",
   "execution_count": 38,
   "metadata": {},
   "outputs": [
    {
     "name": "stdout",
     "output_type": "stream",
     "text": [
      "11\n",
      "10  popped!\n",
      "9  popped!\n",
      "8  popped!\n",
      "False\n",
      "7\n"
     ]
    }
   ],
   "source": [
    "class Node:\n",
    "    def __init__(self,data=None):\n",
    "        self.data=data\n",
    "        self.next=None\n",
    "class Stack:\n",
    "    def __init__(self):\n",
    "        self.head=Node(\"Head\")\n",
    "        self.size=0\n",
    "    def push(self,data):\n",
    "        node=Node(data) #create\n",
    "        node.next=self.head.next #appending at first pos\n",
    "        self.head.next=node # current node as head's next\n",
    "        self.size+=1 # increase stack size\n",
    "    def pop(self):\n",
    "        if self.isEmpty():\n",
    "            print(\"Stack Underflow, can't remove item\")\n",
    "            return(None)\n",
    "        else:\n",
    "            remove_val=self.head.next.data\n",
    "            self.head.next=self.head.next.next\n",
    "            self.size-=1\n",
    "            return(remove_val)\n",
    "    def getSize(self):\n",
    "        return(self.size)\n",
    "    def isEmpty(self):\n",
    "        return (self.size==0)\n",
    "    def peek(self):\n",
    "        if self.size==0:\n",
    "            print('Stack Underflow')\n",
    "            return None\n",
    "        else:\n",
    "            return self.head.next.data\n",
    "    def printStackValue(self):\n",
    "        \n",
    "if __name__==\"__main__\":\n",
    "    stack=Stack()\n",
    "    for i in range(11):\n",
    "        stack.push(i)\n",
    "    print(stack.getSize())\n",
    "    for i in range(3):\n",
    "        print(stack.pop(), ' popped!')\n",
    "    print(stack.isEmpty())\n",
    "    print(stack.peek())\n",
    "    "
   ]
  },
  {
   "cell_type": "code",
   "execution_count": null,
   "metadata": {},
   "outputs": [],
   "source": []
  },
  {
   "cell_type": "code",
   "execution_count": 29,
   "metadata": {},
   "outputs": [],
   "source": [
    "# Below are stack functions which dont work with list and deque\n",
    "# stack.empty()\n",
    "# stack.size()\n",
    "# stack.top()\n",
    "# stack.peek()\n",
    "# stack.push(11)"
   ]
  },
  {
   "cell_type": "code",
   "execution_count": null,
   "metadata": {},
   "outputs": [],
   "source": []
  },
  {
   "cell_type": "code",
   "execution_count": null,
   "metadata": {},
   "outputs": [],
   "source": []
  }
 ],
 "metadata": {
  "kernelspec": {
   "display_name": "Python 3",
   "language": "python",
   "name": "python3"
  },
  "language_info": {
   "codemirror_mode": {
    "name": "ipython",
    "version": 3
   },
   "file_extension": ".py",
   "mimetype": "text/x-python",
   "name": "python",
   "nbconvert_exporter": "python",
   "pygments_lexer": "ipython3",
   "version": "3.8.5"
  }
 },
 "nbformat": 4,
 "nbformat_minor": 4
}
