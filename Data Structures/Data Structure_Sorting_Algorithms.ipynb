{
 "cells": [
  {
   "cell_type": "code",
   "execution_count": null,
   "metadata": {},
   "outputs": [],
   "source": [
    "# Bubble Sort\n",
    "\n",
    "# Merge Sort\n",
    "\n",
    "# Insertion Sort\n",
    "\n",
    "# Shell Sort\n",
    "\n",
    "# Selection Sort"
   ]
  },
  {
   "cell_type": "code",
   "execution_count": 57,
   "metadata": {},
   "outputs": [
    {
     "name": "stdout",
     "output_type": "stream",
     "text": [
      "[1]\n",
      "[2, 19, 31, 6, 11, 45, 27, 121]\n",
      "[2, 19, 6, 11, 31, 27, 45, 121]\n",
      "[2, 6, 11, 19, 27, 31, 45, 121]\n",
      "[2, 6, 11, 19, 27, 31, 45, 121]\n",
      "[2, 6, 11, 19, 27, 31, 45, 121]\n",
      "[2, 6, 11, 19, 27, 31, 45, 121]\n",
      "[2, 6, 11, 19, 27, 31, 45, 121]\n",
      "[2, 6, 11, 19, 27, 31, 45, 121]\n"
     ]
    }
   ],
   "source": [
    "# Bubble sort: It is a comparison-based algorithm in which each pair of adjacent elements is compared and the elements \n",
    "# are swapped if they are not in order.\n",
    "def bubblesort(lst):\n",
    "    if len(lst)<=1:\n",
    "        return(lst)\n",
    "    # Swap the elements left to right to arrange in order, largetst number gets to the last of list first\n",
    "    for n in range(len(lst)-1,0,-1):\n",
    "        for i in range(n):\n",
    "            if lst[i]>lst[i+1]:\n",
    "                tmp=lst[i]\n",
    "                lst[i]=lst[i+1]\n",
    "                lst[i+1]=tmp\n",
    "        print(lst)\n",
    "    return(lst)\n",
    "lst=[1]\n",
    "lst=bubblesort(lst) # loop n-1 times\n",
    "print(lst)\n",
    "lst=[19,2,31,45,6,11,121,27]\n",
    "lst=bubblesort(lst) # loop n-1 times\n",
    "print(lst)"
   ]
  },
  {
   "cell_type": "code",
   "execution_count": 38,
   "metadata": {},
   "outputs": [
    {
     "name": "stdout",
     "output_type": "stream",
     "text": [
      "[11, 12, 22, 25, 34, 64, 90]\n"
     ]
    }
   ],
   "source": [
    "# mergesort: divide list to left and right lists till all elements are seperated, compare each l and r, sort and merge\n",
    "def mergesort(lst):\n",
    "    if len(lst)<=1:\n",
    "        return lst\n",
    "    mid=len(lst)//2\n",
    "    l=lst[:mid]\n",
    "    r=lst[mid:]\n",
    "    l=mergesort(l)\n",
    "    r=mergesort(r)\n",
    "    return list(merge(l,r))\n",
    "def merge(l,r):\n",
    "    sl=[]\n",
    "    while len(l)!=0 and len(r)!=0:\n",
    "        if l[0]<r[0]:\n",
    "            sl.append(l[0])\n",
    "            l.remove(l[0])\n",
    "        else:\n",
    "            sl.append(r[0])\n",
    "            r.remove(r[0])\n",
    "    if len(l)==0:sl=sl+r\n",
    "    if len(r)==0:sl=sl+l\n",
    "    return sl\n",
    "unsorted_list = [64, 34, 25, 12, 22, 11, 90]\n",
    "print(mergesort(unsorted_list))   "
   ]
  },
  {
   "cell_type": "code",
   "execution_count": 49,
   "metadata": {},
   "outputs": [
    {
     "name": "stdout",
     "output_type": "stream",
     "text": [
      "[11, 12, 22, 25, 34, 64, 90]\n"
     ]
    }
   ],
   "source": [
    "# insertion sort : Insertion sort involves finding the right place for a given element in a sorted list. \n",
    "# So in beginning we compare the first two elements and sort them by comparing them. \n",
    "# Then we pick the third element and find its proper position among the previous two sorted elements. \n",
    "# This way we gradually go on adding more elements to the already sorted list by putting them in their proper position.\n",
    "def insertionsort(lst):\n",
    "    if len(lst)<=1:\n",
    "        return lst\n",
    "    for i in range(1,len(lst)):\n",
    "        j=i-1 # reducing j\n",
    "        tmp=lst[i]\n",
    "        while lst[j]>tmp and j>=0:\n",
    "            lst[j+1]=lst[j]\n",
    "            j=j-1\n",
    "        lst[j+1]=tmp\n",
    "    return lst\n",
    "unsorted_list = [64, 34, 25, 12, 22, 11, 90]\n",
    "print(insertionsort(unsorted_list))   "
   ]
  },
  {
   "cell_type": "code",
   "execution_count": 72,
   "metadata": {},
   "outputs": [
    {
     "name": "stdout",
     "output_type": "stream",
     "text": [
      "[2, 11, 19, 27, 30, 31, 45, 121]\n"
     ]
    }
   ],
   "source": [
    "# shell sort : Shell Sort involves sorting elements which are away from each other. We sort a large sublist of a given list \n",
    "# and go on reducing the size of the list until all elements are sorted. The below program finds the gap by equating it to half \n",
    "# of the length of the list size and then starts sorting all elements in it. Then we keep resetting the gap until the entire list\n",
    "# is sorted.\n",
    "# variation of insertion sort\n",
    "\n",
    "\n",
    "def shellsort(arr, n):\n",
    "    gap=n//2\n",
    "    while gap>0:\n",
    "        j=gap\n",
    "        # Check the array in from left to right till the last possible index of j\n",
    "        while j<n:\n",
    "            i=j-gap # This will keep help in maintain gap value\n",
    "            while i>=0:\n",
    "                # If value on right side is already greater than left side value\n",
    "                # We don't do swap else we swap\n",
    "                if arr[i+gap]>arr[i]:\n",
    "  \n",
    "                    break\n",
    "                else:\n",
    "                    arr[i+gap],arr[i]=arr[i],arr[i+gap]\n",
    "  \n",
    "                i=i-gap # To check left side also\n",
    "                            # If the element present is greater than current element \n",
    "            j+=1\n",
    "        gap=gap//2\n",
    "\n",
    "list = [19,2,31,45,30,11,121,27]\n",
    "shellsort(list,len(lst))\n",
    "print(list)"
   ]
  },
  {
   "cell_type": "code",
   "execution_count": 71,
   "metadata": {},
   "outputs": [
    {
     "name": "stdout",
     "output_type": "stream",
     "text": [
      "19 2\n",
      "2 31\n",
      "2 45\n",
      "2 30\n",
      "2 11\n",
      "2 121\n",
      "2 27\n",
      "[2, 19, 31, 45, 30, 11, 121, 27]\n",
      "19 31\n",
      "19 45\n",
      "19 30\n",
      "19 11\n",
      "11 121\n",
      "11 27\n",
      "[2, 11, 31, 45, 30, 19, 121, 27]\n",
      "31 45\n",
      "31 30\n",
      "30 19\n",
      "19 121\n",
      "19 27\n",
      "[2, 11, 19, 45, 30, 31, 121, 27]\n",
      "45 30\n",
      "30 31\n",
      "30 121\n",
      "30 27\n",
      "[2, 11, 19, 27, 30, 31, 121, 45]\n",
      "30 31\n",
      "30 121\n",
      "30 45\n",
      "[2, 11, 19, 27, 30, 31, 121, 45]\n",
      "31 121\n",
      "31 45\n",
      "[2, 11, 19, 27, 30, 31, 121, 45]\n",
      "121 45\n",
      "[2, 11, 19, 27, 30, 31, 45, 121]\n",
      "[2, 11, 19, 27, 30, 31, 45, 121]\n",
      "[2, 11, 19, 27, 30, 31, 45, 121]\n"
     ]
    }
   ],
   "source": [
    "# selection sort\n",
    "def selectionsort(lst):\n",
    "    for i in range(len(lst)):\n",
    "        min=i\n",
    "        for j in range(i+1,len(lst)):\n",
    "            print(lst[min],lst[j])\n",
    "            if lst[min]>lst[j]:\n",
    "                min=j\n",
    "        lst[i],lst[min]=lst[min],lst[i]\n",
    "        print(lst)\n",
    "l = [19,2,31,45,30,11,121,27]\n",
    "selectionsort(l)\n",
    "print(l)"
   ]
  },
  {
   "cell_type": "code",
   "execution_count": null,
   "metadata": {},
   "outputs": [],
   "source": []
  }
 ],
 "metadata": {
  "kernelspec": {
   "display_name": "Python 3",
   "language": "python",
   "name": "python3"
  },
  "language_info": {
   "codemirror_mode": {
    "name": "ipython",
    "version": 3
   },
   "file_extension": ".py",
   "mimetype": "text/x-python",
   "name": "python",
   "nbconvert_exporter": "python",
   "pygments_lexer": "ipython3",
   "version": "3.8.5"
  }
 },
 "nbformat": 4,
 "nbformat_minor": 4
}
