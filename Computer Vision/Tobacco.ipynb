{
 "cells": [
  {
   "cell_type": "markdown",
   "metadata": {},
   "source": [
    "# Imports"
   ]
  },
  {
   "cell_type": "code",
   "execution_count": 3,
   "metadata": {
    "_cell_guid": "b1076dfc-b9ad-4769-8c92-a6c4dae69d19",
    "_uuid": "8f2839f25d086af736a60e9eeb907d3b93b6e0e5",
    "execution": {
     "iopub.execute_input": "2021-06-07T15:32:52.703031Z",
     "iopub.status.busy": "2021-06-07T15:32:52.702734Z",
     "iopub.status.idle": "2021-06-07T15:32:55.013459Z",
     "shell.execute_reply": "2021-06-07T15:32:55.012780Z",
     "shell.execute_reply.started": "2021-06-07T15:32:52.702978Z"
    }
   },
   "outputs": [
    {
     "name": "stderr",
     "output_type": "stream",
     "text": [
      "Using TensorFlow backend.\n"
     ]
    }
   ],
   "source": [
    "import numpy as np # linear algebra\n",
    "import pandas as pd # data processing, CSV file I/O (e.g. pd.read_csv)\n",
    "import os\n",
    "import random\n",
    "import sys\n",
    "import gc\n",
    "%matplotlib inline\n",
    "import matplotlib.pyplot as plt\n",
    "import matplotlib.image as mpimg\n",
    "import cv2\n",
    "import seaborn as sns\n",
    "from sklearn.model_selection import train_test_split \n",
    "from sklearn.preprocessing import LabelBinarizer\n",
    "import PIL\n",
    "from PIL import Image\n",
    "from IPython.display import SVG\n",
    "from keras.utils.vis_utils import model_to_dot\n",
    "\n",
    "import keras\n",
    "from keras.applications import Xception\n",
    "from keras import layers\n",
    "from keras.layers import Dense, Flatten, Conv2D, Dropout, MaxPooling2D, GlobalAveragePooling2D, Dropout\n",
    "from keras import optimizers\n",
    "from keras import models\n",
    "from keras.models import Sequential, Model\n",
    "from keras import regularizers\n",
    "from keras import preprocessing\n",
    "from keras.preprocessing import image\n",
    "from keras.preprocessing.image import ImageDataGenerator, array_to_img, img_to_array, load_img\n",
    "from keras.utils import plot_model"
   ]
  },
  {
   "cell_type": "markdown",
   "metadata": {
    "_cell_guid": "79c7e3d0-c299-4dcb-8224-4455121ee9b0",
    "_uuid": "d629ff2d2480ee46fbb7e2d37f6b5fab8052498a"
   },
   "source": [
    "# Global variables"
   ]
  },
  {
   "cell_type": "code",
   "execution_count": 4,
   "metadata": {
    "execution": {
     "iopub.execute_input": "2021-06-07T15:32:55.015119Z",
     "iopub.status.busy": "2021-06-07T15:32:55.014843Z",
     "iopub.status.idle": "2021-06-07T15:32:55.020519Z",
     "shell.execute_reply": "2021-06-07T15:32:55.018985Z",
     "shell.execute_reply.started": "2021-06-07T15:32:55.015075Z"
    }
   },
   "outputs": [],
   "source": [
    "img_size = 299\n",
    "batch_size = 32\n",
    "epochs = 100\n",
    "train_size = 0.7\n",
    "val_size = 0.2\n",
    "test_size = 0.1\n",
    "seed = 4321\n",
    "channels = 3\n",
    "learning_rate = 0.00001"
   ]
  },
  {
   "cell_type": "markdown",
   "metadata": {},
   "source": [
    "# Get classes and entries per classes"
   ]
  },
  {
   "cell_type": "code",
   "execution_count": 5,
   "metadata": {
    "execution": {
     "iopub.execute_input": "2021-06-07T15:32:55.022363Z",
     "iopub.status.busy": "2021-06-07T15:32:55.021817Z",
     "iopub.status.idle": "2021-06-07T15:32:57.079543Z",
     "shell.execute_reply": "2021-06-07T15:32:57.078765Z",
     "shell.execute_reply.started": "2021-06-07T15:32:55.022040Z"
    }
   },
   "outputs": [
    {
     "name": "stdout",
     "output_type": "stream",
     "text": [
      "['Resume', 'Memo', 'News', 'Report', 'Scientific', 'Letter', 'Form', 'Email', 'ADVE', 'Note']\n",
      "[121, 621, 189, 266, 262, 568, 432, 600, 231, 202]\n"
     ]
    },
    {
     "data": {
      "image/png": "[encoded data removed]",
      "text/plain": [
       "<Figure size 864x576 with 1 Axes>"
      ]
     },
     "metadata": {},
     "output_type": "display_data"
    }
   ],
   "source": [
    "d = '../input/tobacco3482-jpg/Tobacco3482-jpg/'\n",
    "PATH = '../'\n",
    "\n",
    "classes = (os.listdir(d))\n",
    "\n",
    "paths = [os.path.join(d, o) for o in os.listdir(d) \n",
    "                    if os.path.isdir(os.path.join(d,o))]\n",
    "\n",
    "nbEntries = []\n",
    "\n",
    "for i in range(len(classes)):\n",
    "    nbEntries.append(len(os.listdir(paths[i])))\n",
    "\n",
    "#################################################\n",
    "    \n",
    "print(classes)\n",
    "print(nbEntries)\n",
    "\n",
    "df = pd.DataFrame({'classes':classes, 'entries':nbEntries})\n",
    "ax = df.sort_values(by='entries', ascending=True).plot.bar(x='classes', y='entries', color='cornflowerblue',legend=False, figsize=(12,8))\n",
    "ax.set_title('Tobacco3482 classes Distribution')\n",
    "ax.set_ylabel(\"# entries\")\n",
    "for p in ax.patches:\n",
    "    ax.annotate(str(p.get_height()), xy=(p.get_x(), p.get_height()-30))"
   ]
  },
  {
   "cell_type": "markdown",
   "metadata": {},
   "source": [
    "# Get all images"
   ]
  },
  {
   "cell_type": "code",
   "execution_count": 6,
   "metadata": {
    "execution": {
     "iopub.execute_input": "2021-06-07T15:32:57.082566Z",
     "iopub.status.busy": "2021-06-07T15:32:57.082347Z",
     "iopub.status.idle": "2021-06-07T15:32:57.111221Z",
     "shell.execute_reply": "2021-06-07T15:32:57.110220Z",
     "shell.execute_reply.started": "2021-06-07T15:32:57.082523Z"
    }
   },
   "outputs": [
    {
     "name": "stdout",
     "output_type": "stream",
     "text": [
      "../input/tobacco3482-jpg/Tobacco3482-jpg/Resume/50476159-6160.jpg\n",
      "GetClass :  Resume\n",
      "Label :  Resume\n"
     ]
    }
   ],
   "source": [
    "total_set = []\n",
    "total_labels = []\n",
    "\n",
    "\n",
    "for root, dirs, files in os.walk(d):\n",
    "    for file in files:\n",
    "        if file.endswith(\".jpg\"):\n",
    "            path = os.path.join(root, file)\n",
    "            total_set.append(path)\n",
    "            total_labels.append(root.split(os.path.sep)[-1])\n",
    "            \n",
    "\n",
    "# Return image class based on list entry (path)         \n",
    "def getClass(img):\n",
    "    return img.split(os.path.sep)[-2]\n",
    "\n",
    "\n",
    "print(total_set[0])\n",
    "print('GetClass : ', getClass(total_set[0]))\n",
    "print('Label : ', total_labels[0])"
   ]
  },
  {
   "cell_type": "markdown",
   "metadata": {},
   "source": [
    "# Plot data "
   ]
  },
  {
   "cell_type": "code",
   "execution_count": 7,
   "metadata": {
    "execution": {
     "iopub.execute_input": "2021-06-07T15:32:57.112638Z",
     "iopub.status.busy": "2021-06-07T15:32:57.112236Z",
     "iopub.status.idle": "2021-06-07T15:32:58.290489Z",
     "shell.execute_reply": "2021-06-07T15:32:58.289702Z",
     "shell.execute_reply.started": "2021-06-07T15:32:57.112480Z"
    }
   },
   "outputs": [
    {
     "name": "stdout",
     "output_type": "stream",
     "text": [
      "../input/tobacco3482-jpg/Tobacco3482-jpg/Report/506767138_506767143.jpg\n"
     ]
    },
    {
     "data": {
      "image/png": "[encoded data removed]",
      "text/plain": [
       "<Figure size 504x504 with 1 Axes>"
      ]
     },
     "metadata": {},
     "output_type": "display_data"
    },
    {
     "name": "stdout",
     "output_type": "stream",
     "text": [
      "../input/tobacco3482-jpg/Tobacco3482-jpg/Email/529232712+-2723.jpg\n"
     ]
    },
    {
     "data": {
      "image/png": "[encoded data removed]",
      "text/plain": [
       "<Figure size 504x504 with 1 Axes>"
      ]
     },
     "metadata": {},
     "output_type": "display_data"
    },
    {
     "name": "stdout",
     "output_type": "stream",
     "text": [
      "../input/tobacco3482-jpg/Tobacco3482-jpg/Memo/86280048_0055.jpg\n"
     ]
    },
    {
     "data": {
      "image/png": "[encoded data removed]",
      "text/plain": [
       "<Figure size 504x504 with 1 Axes>"
      ]
     },
     "metadata": {},
     "output_type": "display_data"
    }
   ],
   "source": [
    "random.Random(seed).shuffle(total_set)\n",
    "\n",
    "for ima in total_set[0:3] :\n",
    "    print(ima)\n",
    "    img = mpimg.imread(ima)\n",
    "    plt.figure(figsize=(7,7))\n",
    "    imgplot = plt.imshow(img, cmap=\"gray\")\n",
    "    plt.show()\n"
   ]
  },
  {
   "cell_type": "markdown",
   "metadata": {},
   "source": [
    "# Sorting data in usable sets\n",
    "![](https://cdn-images-1.medium.com/max/800/1*HpvpA9pBJXKxaPCl5tKnLg.jpeg)"
   ]
  },
  {
   "cell_type": "code",
   "execution_count": 8,
   "metadata": {
    "execution": {
     "iopub.execute_input": "2021-06-07T15:32:58.293923Z",
     "iopub.status.busy": "2021-06-07T15:32:58.293494Z",
     "iopub.status.idle": "2021-06-07T15:32:58.309937Z",
     "shell.execute_reply": "2021-06-07T15:32:58.309230Z",
     "shell.execute_reply.started": "2021-06-07T15:32:58.293871Z"
    }
   },
   "outputs": [
    {
     "name": "stdout",
     "output_type": "stream",
     "text": [
      "../input/tobacco3482-jpg/Tobacco3482-jpg/Form/2070261623.jpg\n",
      "Form\n"
     ]
    }
   ],
   "source": [
    "# Get data and separate it in sets\n",
    "total_len = len(total_set)\n",
    "index = 0\n",
    "\n",
    "train_set = []\n",
    "train_label = []\n",
    "\n",
    "val_set = []\n",
    "val_label = []\n",
    "\n",
    "test_set = []\n",
    "test_label = []\n",
    "\n",
    "\n",
    "for i in total_set[0: int(total_len*train_size)] :\n",
    "    train_set.append(i)\n",
    "    train_label.append(getClass(i))\n",
    "    \n",
    "index = int(total_len*train_size)+1\n",
    "    \n",
    "for i in total_set[index: int(index + total_len*val_size)] :\n",
    "    val_set.append(i)\n",
    "    val_label.append(getClass(i))\n",
    "    \n",
    "index = int(index + total_len*val_size)+1 \n",
    "\n",
    "for i in total_set[index: total_len] :\n",
    "    test_set.append(i)\n",
    "    test_label.append(getClass(i))\n",
    "\n",
    "print(val_set[200])\n",
    "print(val_label[200])\n"
   ]
  },
  {
   "cell_type": "markdown",
   "metadata": {},
   "source": [
    "# Visualize classes distribution"
   ]
  },
  {
   "cell_type": "code",
   "execution_count": 9,
   "metadata": {
    "execution": {
     "iopub.execute_input": "2021-06-07T15:32:58.311610Z",
     "iopub.status.busy": "2021-06-07T15:32:58.311147Z",
     "iopub.status.idle": "2021-06-07T15:32:59.599999Z",
     "shell.execute_reply": "2021-06-07T15:32:59.599287Z",
     "shell.execute_reply.started": "2021-06-07T15:32:58.311554Z"
    }
   },
   "outputs": [
    {
     "data": {
      "image/png": "[encoded data removed]",
      "text/plain": [
       "<Figure size 864x576 with 1 Axes>"
      ]
     },
     "metadata": {},
     "output_type": "display_data"
    },
    {
     "data": {
      "image/png": "[encoded data removed]",
      "text/plain": [
       "<Figure size 864x576 with 1 Axes>"
      ]
     },
     "metadata": {},
     "output_type": "display_data"
    },
    {
     "data": {
      "image/png": "[encoded data removed]",
      "text/plain": [
       "<Figure size 864x576 with 1 Axes>"
      ]
     },
     "metadata": {},
     "output_type": "display_data"
    }
   ],
   "source": [
    "#################################################\n",
    "# TRAIN SET\n",
    "instances = [0] * len(classes)\n",
    "for index, val in enumerate(classes) :\n",
    "    for e in train_set :\n",
    "        if(val == getClass(e)) :\n",
    "            instances[index] += 1\n",
    "\n",
    "            \n",
    "df = pd.DataFrame({'classes':classes, 'entries':instances})\n",
    "ax = df.sort_values(by='entries', ascending=True).plot.bar(x='classes', y='entries', color='cornflowerblue',legend=False, figsize=(12,8))\n",
    "ax.set_title('Tobacco3482 TRAIN SET Distribution')\n",
    "ax.set_ylabel(\"# entries\")\n",
    "for p in ax.patches:\n",
    "    ax.annotate(str(p.get_height()), xy=(p.get_x(), p.get_height()-20))\n",
    "\n",
    "#################################################\n",
    "# VAL SET\n",
    "instances = [0] * len(classes)\n",
    "for index, val in enumerate(classes) :\n",
    "    for e in val_set :\n",
    "        if(val == getClass(e)) :\n",
    "            instances[index] += 1\n",
    "\n",
    "            \n",
    "df = pd.DataFrame({'classes':classes, 'entries':instances})\n",
    "ax = df.sort_values(by='entries', ascending=True).plot.bar(x='classes', y='entries', color='cornflowerblue',legend=False, figsize=(12,8))\n",
    "ax.set_title('Tobacco3482 VAL SET Distribution')\n",
    "ax.set_ylabel(\"# entries\")\n",
    "for p in ax.patches:\n",
    "    ax.annotate(str(p.get_height()), xy=(p.get_x(), p.get_height()-3))\n",
    "    \n",
    "#################################################\n",
    "# TEST SET\n",
    "instances = [0] * len(classes)\n",
    "for index, val in enumerate(classes) :\n",
    "    for e in test_set :\n",
    "        if(val == getClass(e)) :\n",
    "            instances[index] += 1\n",
    "\n",
    "            \n",
    "df = pd.DataFrame({'classes':classes, 'entries':instances})\n",
    "ax = df.sort_values(by='entries', ascending=True).plot.bar(x='classes', y='entries', color='cornflowerblue',legend=False, figsize=(12,8))\n",
    "ax.set_title('Tobacco3482 TEST SET Distribution')\n",
    "ax.set_ylabel(\"# entries\")\n",
    "for p in ax.patches:\n",
    "    ax.annotate(str(p.get_height()), xy=(p.get_x(), p.get_height()-8))"
   ]
  },
  {
   "cell_type": "markdown",
   "metadata": {},
   "source": [
    "# Preprocess data (resize and transform to Numpy array)"
   ]
  },
  {
   "cell_type": "code",
   "execution_count": 10,
   "metadata": {
    "execution": {
     "iopub.execute_input": "2021-06-07T15:33:14.419215Z",
     "iopub.status.busy": "2021-06-07T15:33:14.418930Z",
     "iopub.status.idle": "2021-06-07T15:36:19.287214Z",
     "shell.execute_reply": "2021-06-07T15:36:19.286489Z",
     "shell.execute_reply.started": "2021-06-07T15:33:14.419167Z"
    }
   },
   "outputs": [],
   "source": [
    "def process_images(img_set) : \n",
    "    processed_img = []\n",
    "\n",
    "    for i in range(len(img_set)) :\n",
    "        processed_img.append(cv2.resize(cv2.imread(img_set[i], cv2.IMREAD_COLOR), (img_size, img_size)))\n",
    "    \n",
    "    return processed_img\n",
    "    \n",
    "x_train = process_images(train_set)\n",
    "x_test = process_images(test_set)\n",
    "x_val = process_images(val_set)"
   ]
  },
  {
   "cell_type": "code",
   "execution_count": 11,
   "metadata": {
    "execution": {
     "iopub.execute_input": "2021-06-07T15:36:19.288808Z",
     "iopub.status.busy": "2021-06-07T15:36:19.288546Z",
     "iopub.status.idle": "2021-06-07T15:36:20.565130Z",
     "shell.execute_reply": "2021-06-07T15:36:20.564136Z",
     "shell.execute_reply.started": "2021-06-07T15:36:19.288766Z"
    }
   },
   "outputs": [
    {
     "name": "stdout",
     "output_type": "stream",
     "text": [
      "train shape :  (2437, 299, 299, 3)\n",
      "(2437, 10)\n",
      "test shape :  (347, 299, 299, 3)\n",
      "(347, 10)\n",
      "valdiation shape :  (696, 299, 299, 3)\n",
      "(696, 10)\n",
      "Report\n",
      "[0 0 0 0 0 0 0 1 0 0]\n",
      "['ADVE' 'Email' 'Form' 'Letter' 'Memo' 'News' 'Note' 'Report' 'Resume'\n",
      " 'Scientific']\n"
     ]
    },
    {
     "data": {
      "image/png": "[encoded data removed]",
      "text/plain": [
       "<Figure size 432x432 with 1 Axes>"
      ]
     },
     "metadata": {},
     "output_type": "display_data"
    },
    {
     "data": {
      "image/png": "[encoded data removed]",
      "text/plain": [
       "<Figure size 432x432 with 1 Axes>"
      ]
     },
     "metadata": {},
     "output_type": "display_data"
    },
    {
     "data": {
      "image/png": "[encoded data removed]",
      "text/plain": [
       "<Figure size 432x432 with 1 Axes>"
      ]
     },
     "metadata": {},
     "output_type": "display_data"
    }
   ],
   "source": [
    "lb = LabelBinarizer()\n",
    "lb.fit(list(classes))\n",
    "\n",
    "x_train = np.array(x_train)\n",
    "y_train =lb.transform(np.array(train_label))\n",
    "\n",
    "x_test = np.array(x_test)\n",
    "y_test = lb.transform(np.array(test_label))\n",
    "\n",
    "x_val = np.array(x_val)\n",
    "y_val = lb.transform(np.array(val_label))\n",
    "\n",
    "print(\"train shape : \", x_train.shape)\n",
    "print(y_train.shape)\n",
    "print(\"test shape : \", x_test.shape)\n",
    "print(y_test.shape)\n",
    "print(\"valdiation shape : \", x_val.shape)\n",
    "print(y_val.shape)\n",
    "\n",
    "\n",
    "for i in range(3) :\n",
    "    plt.figure(figsize=(6,6))\n",
    "    imgplot = plt.imshow(x_train[i])\n",
    "\n",
    "print(train_label[0])\n",
    "print(y_train[0])\n",
    "print(lb.classes_)"
   ]
  },
  {
   "cell_type": "markdown",
   "metadata": {},
   "source": [
    "# Creating model (pretrained CNN)"
   ]
  },
  {
   "cell_type": "markdown",
   "metadata": {},
   "source": [
    "# Xception"
   ]
  },
  {
   "cell_type": "code",
   "execution_count": null,
   "metadata": {
    "execution": {
     "iopub.execute_input": "2021-06-07T11:22:00.597112Z",
     "iopub.status.busy": "2021-06-07T11:22:00.596817Z",
     "iopub.status.idle": "2021-06-07T11:22:10.705322Z",
     "shell.execute_reply": "2021-06-07T11:22:10.704550Z",
     "shell.execute_reply.started": "2021-06-07T11:22:00.597059Z"
    }
   },
   "outputs": [],
   "source": [
    "base_model = Xception(weights = \"imagenet\", include_top=False, input_shape = (img_size, img_size, channels))\n",
    "\n",
    "#for layer in base_model.layers:\n",
    "#    layer.trainable = False\n",
    "    \n",
    "base_model.summary()"
   ]
  },
  {
   "cell_type": "code",
   "execution_count": null,
   "metadata": {
    "execution": {
     "iopub.execute_input": "2021-06-07T11:22:21.631450Z",
     "iopub.status.busy": "2021-06-07T11:22:21.631160Z",
     "iopub.status.idle": "2021-06-07T11:22:23.688897Z",
     "shell.execute_reply": "2021-06-07T11:22:23.688076Z",
     "shell.execute_reply.started": "2021-06-07T11:22:21.631399Z"
    }
   },
   "outputs": [],
   "source": [
    "x = base_model.output\n",
    "x = GlobalAveragePooling2D()(x)\n",
    "x = Dense(128,activation='relu',kernel_regularizer=regularizers.l2(0.01))(x) \n",
    "x = Dropout(0.5)(x)\n",
    "predictions = Dense(len(classes), activation='softmax')(x)\n",
    "\n",
    "# add your top layer block to your base model\n",
    "model = Model(base_model.input, predictions)\n",
    "    \n",
    "model.summary()\n",
    "\n",
    "print('Number of trainable weights : ', len(model.trainable_weights))\n",
    "\n",
    "plot_model(model, to_file='model.png')\n",
    "SVG(model_to_dot(model).create(prog='dot', format='svg'))"
   ]
  },
  {
   "cell_type": "code",
   "execution_count": null,
   "metadata": {},
   "outputs": [],
   "source": [
    "# img_size = 224\n",
    "# batch_size = 32\n",
    "# epochs = 100\n",
    "# train_size = 0.7\n",
    "# val_size = 0.2\n",
    "# test_size = 0.1\n",
    "# seed = 4242\n",
    "# channels = 3\n",
    "# learning_rate = 0.00001.\n",
    "epochs=5"
   ]
  },
  {
   "cell_type": "code",
   "execution_count": null,
   "metadata": {
    "execution": {
     "iopub.execute_input": "2021-06-07T11:34:44.744307Z",
     "iopub.status.busy": "2021-06-07T11:34:44.744020Z",
     "iopub.status.idle": "2021-06-07T11:40:16.896483Z",
     "shell.execute_reply": "2021-06-07T11:40:16.895601Z",
     "shell.execute_reply.started": "2021-06-07T11:34:44.744259Z"
    }
   },
   "outputs": [],
   "source": [
    "model.compile(optimizer=optimizers.Adam(lr=learning_rate), loss='categorical_crossentropy', metrics=['accuracy'])\n",
    "\n",
    "train_model = model.fit(x_train, y_train,\n",
    "                        batch_size=batch_size,\n",
    "                        epochs= epochs,\n",
    "                        callbacks=[\n",
    "                        keras.callbacks.EarlyStopping(monitor='val_accuracy',patience=3), # early stopping if accuracy doesnt change in 3 consecutive epochs\n",
    "#                         tf.keras.callbacks.ModelCheckpoint(\n",
    "#             'models/model_{val_accuracy:.3f}.h5',\n",
    "#             save_best_only = True, save_weights_only = False, monitor = 'val_accuracy')\n",
    "    ],\n",
    "                        verbose=1,\n",
    "                        validation_data=(x_val, y_val))"
   ]
  },
  {
   "cell_type": "markdown",
   "metadata": {},
   "source": [
    "# Plot accuracy and loss"
   ]
  },
  {
   "cell_type": "code",
   "execution_count": null,
   "metadata": {},
   "outputs": [],
   "source": [
    "plt.plot(train_model.history['loss'])\n",
    "plt.plot(train_model.history['val_loss'])\n",
    "plt.title('model loss')\n",
    "plt.ylabel('loss')\n",
    "plt.xlabel('epoch')\n",
    "plt.grid()\n",
    "plt.legend(['training loss', 'validation loss'], loc='upper right')\n",
    "plt.show()\n",
    "\n",
    "plt.plot(train_model.history['acc'])\n",
    "plt.plot(train_model.history['val_acc'])\n",
    "plt.title('model accuracy')\n",
    "plt.grid()\n",
    "plt.ylabel('accuracy')\n",
    "plt.xlabel('epoch')\n",
    "plt.legend(['training accuracy', 'validation accuracy'], loc='lower right')\n",
    "plt.show()"
   ]
  },
  {
   "cell_type": "markdown",
   "metadata": {},
   "source": [
    "# Test prediction accuracy"
   ]
  },
  {
   "cell_type": "code",
   "execution_count": null,
   "metadata": {
    "execution": {
     "iopub.execute_input": "2021-06-07T11:42:38.933106Z",
     "iopub.status.busy": "2021-06-07T11:42:38.932782Z",
     "iopub.status.idle": "2021-06-07T11:42:55.280574Z",
     "shell.execute_reply": "2021-06-07T11:42:55.279793Z",
     "shell.execute_reply.started": "2021-06-07T11:42:38.933049Z"
    }
   },
   "outputs": [],
   "source": [
    "# score = model.evaluate(x_train, y_train, verbose=1)\n",
    "# print('Train loss:', score[0])\n",
    "# print('Train accuracy:', score[1])\n",
    "# score = model.evaluate(x_test, y_test, verbose=1)\n",
    "# print('Test loss:', score[0])\n",
    "# print('Test accuracy:', score[1])\n",
    "print ('Training Accuracy = ' + str(train_model.history['accuracy']))\n",
    "print ('Validation Accuracy = ' + str(train_model.history['val_accuracy']))"
   ]
  },
  {
   "cell_type": "code",
   "execution_count": null,
   "metadata": {},
   "outputs": [],
   "source": [
    "model.save('Xception_trained_model.h5')"
   ]
  },
  {
   "cell_type": "code",
   "execution_count": null,
   "metadata": {},
   "outputs": [],
   "source": [
    "predictions = model.predict_classes(x_test, verbose=1)\n",
    "predictions_list = predictions.tolist()\n",
    "predicted_classes = lb.classes_\n",
    "\n",
    "count_true = 0;\n",
    "count_false = 0;\n",
    "\n",
    "for i, prediction in enumerate(predictions_list):\n",
    "    state = True\n",
    "    if (predicted_classes[prediction] != test_label[i]) :\n",
    "        state = False\n",
    "        count_false += 1\n",
    "    else :\n",
    "        count_true += 1\n",
    "    print(\"Prediction : \", predicted_classes[prediction], \"   |   Real class : \", test_label[i],  \"   |   Result : \", state)\n",
    "\n",
    "print(\"\\nNumber of success : \", count_true) \n",
    "print(\"Number of error : \", count_false) \n",
    "print(\"Error rate : \", count_true/len(test_label))"
   ]
  },
  {
   "cell_type": "markdown",
   "metadata": {},
   "source": [
    "# VGG16"
   ]
  },
  {
   "cell_type": "code",
   "execution_count": null,
   "metadata": {},
   "outputs": [],
   "source": [
    "# img_size = 224\n",
    "# batch_size = 32\n",
    "# epochs = 100\n",
    "# train_size = 0.7\n",
    "# val_size = 0.2\n",
    "# test_size = 0.1\n",
    "# seed = 4321\n",
    "# channels = 3\n",
    "# learning_rate = 0.00001"
   ]
  },
  {
   "cell_type": "code",
   "execution_count": null,
   "metadata": {
    "execution": {
     "iopub.execute_input": "2021-06-07T11:48:26.483644Z",
     "iopub.status.busy": "2021-06-07T11:48:26.483353Z",
     "iopub.status.idle": "2021-06-07T11:48:31.199088Z",
     "shell.execute_reply": "2021-06-07T11:48:31.198242Z",
     "shell.execute_reply.started": "2021-06-07T11:48:26.483593Z"
    }
   },
   "outputs": [],
   "source": [
    "from keras.applications import VGG16\n",
    "base_model = VGG16(weights = \"imagenet\", include_top=False, input_shape = (img_size, img_size, channels))\n",
    "\n",
    "#for layer in base_model.layers:\n",
    "#    layer.trainable = False\n",
    "    \n",
    "base_model.summary()"
   ]
  },
  {
   "cell_type": "code",
   "execution_count": null,
   "metadata": {
    "execution": {
     "iopub.execute_input": "2021-06-07T11:48:43.125272Z",
     "iopub.status.busy": "2021-06-07T11:48:43.124999Z",
     "iopub.status.idle": "2021-06-07T11:48:43.517241Z",
     "shell.execute_reply": "2021-06-07T11:48:43.516372Z",
     "shell.execute_reply.started": "2021-06-07T11:48:43.125226Z"
    }
   },
   "outputs": [],
   "source": [
    "model1 = models.Sequential()\n",
    "model1.add(base_model)\n",
    "model1.add(layers.Flatten())\n",
    "model1.add(layers.Dense(128, activation='relu',  name='dense',kernel_regularizer=regularizers.l2(0.01)))\n",
    "model1.add(layers.Dropout(0.5))\n",
    "model1.add(layers.Dense(len(classes), activation='softmax',  name='predictions'))\n",
    "\n",
    "model1.summary()\n",
    "\n",
    "print('Number of trainable weights : ', len(model1.trainable_weights))\n",
    "\n",
    "plot_model(model1, to_file='model1.png')\n",
    "SVG(model_to_dot(model1).create(prog='dot', format='svg'))"
   ]
  },
  {
   "cell_type": "code",
   "execution_count": null,
   "metadata": {
    "execution": {
     "iopub.execute_input": "2021-06-07T11:50:16.802183Z",
     "iopub.status.busy": "2021-06-07T11:50:16.801840Z",
     "iopub.status.idle": "2021-06-07T11:53:25.981523Z",
     "shell.execute_reply": "2021-06-07T11:53:25.980892Z",
     "shell.execute_reply.started": "2021-06-07T11:50:16.802128Z"
    }
   },
   "outputs": [],
   "source": [
    "model1.compile(optimizer=optimizers.Adam(lr=learning_rate), loss='categorical_crossentropy', metrics=['accuracy'])\n",
    "epochs=100\n",
    "train_model = model1.fit(x_train, y_train,\n",
    "                        batch_size=batch_size,\n",
    "                        epochs=epochs,\n",
    "                        callbacks=[\n",
    "                        keras.callbacks.EarlyStopping(monitor='val_accuracy',patience=3), # early stopping if accuracy doesnt change in 3 consecutive epochs\n",
    "#                         tf.keras.callbacks.ModelCheckpoint(\n",
    "#             'models/model_{val_accuracy:.3f}.h5',\n",
    "#             save_best_only = True, save_weights_only = False, monitor = 'val_accuracy')\n",
    "    ],\n",
    "                        verbose=1,\n",
    "                        validation_data=(x_val, y_val))"
   ]
  },
  {
   "cell_type": "code",
   "execution_count": null,
   "metadata": {
    "execution": {
     "iopub.execute_input": "2021-06-07T11:53:56.060739Z",
     "iopub.status.busy": "2021-06-07T11:53:56.060464Z",
     "iopub.status.idle": "2021-06-07T11:54:10.492956Z",
     "shell.execute_reply": "2021-06-07T11:54:10.492339Z",
     "shell.execute_reply.started": "2021-06-07T11:53:56.060689Z"
    }
   },
   "outputs": [],
   "source": [
    "# combine predictions + average for better score ? \n",
    "# score = model1.evaluate(x_train, y_train, verbose=1)\n",
    "# print('Train loss:', score[0])\n",
    "# print('Train accuracy:', score[1])\n",
    "# score = model1.evaluate(x_test, y_test, verbose=1)\n",
    "# print('Test loss:', score[0])\n",
    "# print('Test accuracy:', score[1])\n",
    "print ('Training Accuracy = ' + str(train_model.history['accuracy']))\n",
    "print ('Validation Accuracy = ' + str(train_model.history['val_accuracy']))"
   ]
  },
  {
   "cell_type": "code",
   "execution_count": null,
   "metadata": {},
   "outputs": [],
   "source": [
    "model1.save('VGG16_trained_model.h5')"
   ]
  },
  {
   "cell_type": "code",
   "execution_count": null,
   "metadata": {},
   "outputs": [],
   "source": [
    "predictions = model1.predict_classes(x_test, verbose=1)\n",
    "predictions_list = predictions.tolist()\n",
    "predicted_classes = lb.classes_\n",
    "\n",
    "count_true = 0;\n",
    "count_false = 0;\n",
    "\n",
    "for i, prediction in enumerate(predictions_list):\n",
    "    state = True\n",
    "    if (predicted_classes[prediction] != test_label[i]) :\n",
    "        state = False\n",
    "        count_false += 1\n",
    "    else :\n",
    "        count_true += 1\n",
    "    print(\"Prediction : \", predicted_classes[prediction], \"   |   Real class : \", test_label[i],  \"   |   Result : \", state)\n",
    "\n",
    "print(\"\\nNumber of success : \", count_true) \n",
    "print(\"Number of error : \", count_false) \n",
    "print(\"Error rate : \", count_true/len(test_label))"
   ]
  },
  {
   "cell_type": "markdown",
   "metadata": {},
   "source": [
    "# VGG19 ________________________________________________________________________________"
   ]
  },
  {
   "cell_type": "code",
   "execution_count": 42,
   "metadata": {
    "execution": {
     "iopub.execute_input": "2021-06-07T16:03:10.606548Z",
     "iopub.status.busy": "2021-06-07T16:03:10.606207Z",
     "iopub.status.idle": "2021-06-07T16:03:37.738884Z",
     "shell.execute_reply": "2021-06-07T16:03:37.738213Z",
     "shell.execute_reply.started": "2021-06-07T16:03:10.606494Z"
    }
   },
   "outputs": [
    {
     "name": "stdout",
     "output_type": "stream",
     "text": [
      "Downloading data from https://github.com/fchollet/deep-learning-models/releases/download/v0.1/vgg19_weights_tf_dim_ordering_tf_kernels_notop.h5\n",
      "80142336/80134624 [==============================] - 1s 0us/step\n",
      "_________________________________________________________________\n",
      "Layer (type)                 Output Shape              Param #   \n",
      "=================================================================\n",
      "input_2 (InputLayer)         (None, 299, 299, 3)       0         \n",
      "_________________________________________________________________\n",
      "block1_conv1 (Conv2D)        (None, 299, 299, 64)      1792      \n",
      "_________________________________________________________________\n",
      "block1_conv2 (Conv2D)        (None, 299, 299, 64)      36928     \n",
      "_________________________________________________________________\n",
      "block1_pool (MaxPooling2D)   (None, 149, 149, 64)      0         \n",
      "_________________________________________________________________\n",
      "block2_conv1 (Conv2D)        (None, 149, 149, 128)     73856     \n",
      "_________________________________________________________________\n",
      "block2_conv2 (Conv2D)        (None, 149, 149, 128)     147584    \n",
      "_________________________________________________________________\n",
      "block2_pool (MaxPooling2D)   (None, 74, 74, 128)       0         \n",
      "_________________________________________________________________\n",
      "block3_conv1 (Conv2D)        (None, 74, 74, 256)       295168    \n",
      "_________________________________________________________________\n",
      "block3_conv2 (Conv2D)        (None, 74, 74, 256)       590080    \n",
      "_________________________________________________________________\n",
      "block3_conv3 (Conv2D)        (None, 74, 74, 256)       590080    \n",
      "_________________________________________________________________\n",
      "block3_conv4 (Conv2D)        (None, 74, 74, 256)       590080    \n",
      "_________________________________________________________________\n",
      "block3_pool (MaxPooling2D)   (None, 37, 37, 256)       0         \n",
      "_________________________________________________________________\n",
      "block4_conv1 (Conv2D)        (None, 37, 37, 512)       1180160   \n",
      "_________________________________________________________________\n",
      "block4_conv2 (Conv2D)        (None, 37, 37, 512)       2359808   \n",
      "_________________________________________________________________\n",
      "block4_conv3 (Conv2D)        (None, 37, 37, 512)       2359808   \n",
      "_________________________________________________________________\n",
      "block4_conv4 (Conv2D)        (None, 37, 37, 512)       2359808   \n",
      "_________________________________________________________________\n",
      "block4_pool (MaxPooling2D)   (None, 18, 18, 512)       0         \n",
      "_________________________________________________________________\n",
      "block5_conv1 (Conv2D)        (None, 18, 18, 512)       2359808   \n",
      "_________________________________________________________________\n",
      "block5_conv2 (Conv2D)        (None, 18, 18, 512)       2359808   \n",
      "_________________________________________________________________\n",
      "block5_conv3 (Conv2D)        (None, 18, 18, 512)       2359808   \n",
      "_________________________________________________________________\n",
      "block5_conv4 (Conv2D)        (None, 18, 18, 512)       2359808   \n",
      "_________________________________________________________________\n",
      "block5_pool (MaxPooling2D)   (None, 9, 9, 512)         0         \n",
      "=================================================================\n",
      "Total params: 20,024,384\n",
      "Trainable params: 20,024,384\n",
      "Non-trainable params: 0\n",
      "_________________________________________________________________\n"
     ]
    }
   ],
   "source": [
    "from keras.applications import VGG19\n",
    "base_model = VGG19(weights = \"imagenet\", include_top=False, input_shape = (img_size, img_size, channels))\n",
    "\n",
    "#for layer in base_model.layers:\n",
    "#    layer.trainable = False\n",
    "    \n",
    "base_model.summary()"
   ]
  },
  {
   "cell_type": "code",
   "execution_count": 43,
   "metadata": {
    "execution": {
     "iopub.execute_input": "2021-06-07T16:03:37.743753Z",
     "iopub.status.busy": "2021-06-07T16:03:37.743528Z",
     "iopub.status.idle": "2021-06-07T16:03:38.271260Z",
     "shell.execute_reply": "2021-06-07T16:03:38.270475Z",
     "shell.execute_reply.started": "2021-06-07T16:03:37.743713Z"
    }
   },
   "outputs": [
    {
     "name": "stdout",
     "output_type": "stream",
     "text": [
      "_________________________________________________________________\n",
      "Layer (type)                 Output Shape              Param #   \n",
      "=================================================================\n",
      "vgg19 (Model)                (None, 9, 9, 512)         20024384  \n",
      "_________________________________________________________________\n",
      "flatten_9 (Flatten)          (None, 41472)             0         \n",
      "_________________________________________________________________\n",
      "dense (Dense)                (None, 128)               5308544   \n",
      "_________________________________________________________________\n",
      "dropout_8 (Dropout)          (None, 128)               0         \n",
      "_________________________________________________________________\n",
      "predictions (Dense)          (None, 10)                1290      \n",
      "=================================================================\n",
      "Total params: 25,334,218\n",
      "Trainable params: 25,334,218\n",
      "Non-trainable params: 0\n",
      "_________________________________________________________________\n",
      "Number of trainable weights :  36\n"
     ]
    },
    {
     "data": {
      "image/svg+xml": [
       "<svg height=\"410pt\" viewBox=\"0.00 0.00 133.00 410.00\" width=\"133pt\" xmlns=\"http://www.w3.org/2000/svg\" xmlns:xlink=\"http://www.w3.org/1999/xlink\">\n",
       "<g class=\"graph\" id=\"graph0\" transform=\"scale(1 1) rotate(0) translate(4 406)\">\n",
       "<title>G</title>\n",
       "<polygon fill=\"white\" points=\"-4,4 -4,-406 129,-406 129,4 -4,4\" stroke=\"none\"/>\n",
       "<!-- 140480099424016 -->\n",
       "<g class=\"node\" id=\"node1\"><title>140480099424016</title>\n",
       "<polygon fill=\"none\" points=\"15.5,-292.5 15.5,-328.5 109.5,-328.5 109.5,-292.5 15.5,-292.5\" stroke=\"black\"/>\n",
       "<text font-family=\"Times,serif\" font-size=\"14.00\" text-anchor=\"middle\" x=\"62.5\" y=\"-306.8\">vgg19: Model</text>\n",
       "</g>\n",
       "<!-- 140480098355576 -->\n",
       "<g class=\"node\" id=\"node2\"><title>140480098355576</title>\n",
       "<polygon fill=\"none\" points=\"7.5,-219.5 7.5,-255.5 117.5,-255.5 117.5,-219.5 7.5,-219.5\" stroke=\"black\"/>\n",
       "<text font-family=\"Times,serif\" font-size=\"14.00\" text-anchor=\"middle\" x=\"62.5\" y=\"-233.8\">flatten_9: Flatten</text>\n",
       "</g>\n",
       "<!-- 140480099424016&#45;&gt;140480098355576 -->\n",
       "<g class=\"edge\" id=\"edge2\"><title>140480099424016-&gt;140480098355576</title>\n",
       "<path d=\"M62.5,-292.313C62.5,-284.289 62.5,-274.547 62.5,-265.569\" fill=\"none\" stroke=\"black\"/>\n",
       "<polygon fill=\"black\" points=\"66.0001,-265.529 62.5,-255.529 59.0001,-265.529 66.0001,-265.529\" stroke=\"black\"/>\n",
       "</g>\n",
       "<!-- 140480098356472 -->\n",
       "<g class=\"node\" id=\"node3\"><title>140480098356472</title>\n",
       "<polygon fill=\"none\" points=\"18,-146.5 18,-182.5 107,-182.5 107,-146.5 18,-146.5\" stroke=\"black\"/>\n",
       "<text font-family=\"Times,serif\" font-size=\"14.00\" text-anchor=\"middle\" x=\"62.5\" y=\"-160.8\">dense: Dense</text>\n",
       "</g>\n",
       "<!-- 140480098355576&#45;&gt;140480098356472 -->\n",
       "<g class=\"edge\" id=\"edge3\"><title>140480098355576-&gt;140480098356472</title>\n",
       "<path d=\"M62.5,-219.313C62.5,-211.289 62.5,-201.547 62.5,-192.569\" fill=\"none\" stroke=\"black\"/>\n",
       "<polygon fill=\"black\" points=\"66.0001,-192.529 62.5,-182.529 59.0001,-192.529 66.0001,-192.529\" stroke=\"black\"/>\n",
       "</g>\n",
       "<!-- 140480098356304 -->\n",
       "<g class=\"node\" id=\"node4\"><title>140480098356304</title>\n",
       "<polygon fill=\"none\" points=\"-7.10543e-15,-73.5 -7.10543e-15,-109.5 125,-109.5 125,-73.5 -7.10543e-15,-73.5\" stroke=\"black\"/>\n",
       "<text font-family=\"Times,serif\" font-size=\"14.00\" text-anchor=\"middle\" x=\"62.5\" y=\"-87.8\">dropout_8: Dropout</text>\n",
       "</g>\n",
       "<!-- 140480098356472&#45;&gt;140480098356304 -->\n",
       "<g class=\"edge\" id=\"edge4\"><title>140480098356472-&gt;140480098356304</title>\n",
       "<path d=\"M62.5,-146.313C62.5,-138.289 62.5,-128.547 62.5,-119.569\" fill=\"none\" stroke=\"black\"/>\n",
       "<polygon fill=\"black\" points=\"66.0001,-119.529 62.5,-109.529 59.0001,-119.529 66.0001,-119.529\" stroke=\"black\"/>\n",
       "</g>\n",
       "<!-- 140480097872192 -->\n",
       "<g class=\"node\" id=\"node5\"><title>140480097872192</title>\n",
       "<polygon fill=\"none\" points=\"3.5,-0.5 3.5,-36.5 121.5,-36.5 121.5,-0.5 3.5,-0.5\" stroke=\"black\"/>\n",
       "<text font-family=\"Times,serif\" font-size=\"14.00\" text-anchor=\"middle\" x=\"62.5\" y=\"-14.8\">predictions: Dense</text>\n",
       "</g>\n",
       "<!-- 140480098356304&#45;&gt;140480097872192 -->\n",
       "<g class=\"edge\" id=\"edge5\"><title>140480098356304-&gt;140480097872192</title>\n",
       "<path d=\"M62.5,-73.3129C62.5,-65.2895 62.5,-55.5475 62.5,-46.5691\" fill=\"none\" stroke=\"black\"/>\n",
       "<polygon fill=\"black\" points=\"66.0001,-46.5288 62.5,-36.5288 59.0001,-46.5289 66.0001,-46.5288\" stroke=\"black\"/>\n",
       "</g>\n",
       "<!-- 140480098355464 -->\n",
       "<g class=\"node\" id=\"node6\"><title>140480098355464</title>\n",
       "<polygon fill=\"none\" points=\"3.5,-365.5 3.5,-401.5 121.5,-401.5 121.5,-365.5 3.5,-365.5\" stroke=\"black\"/>\n",
       "<text font-family=\"Times,serif\" font-size=\"14.00\" text-anchor=\"middle\" x=\"62.5\" y=\"-379.8\">140480098355464</text>\n",
       "</g>\n",
       "<!-- 140480098355464&#45;&gt;140480099424016 -->\n",
       "<g class=\"edge\" id=\"edge1\"><title>140480098355464-&gt;140480099424016</title>\n",
       "<path d=\"M62.5,-365.313C62.5,-357.289 62.5,-347.547 62.5,-338.569\" fill=\"none\" stroke=\"black\"/>\n",
       "<polygon fill=\"black\" points=\"66.0001,-338.529 62.5,-328.529 59.0001,-338.529 66.0001,-338.529\" stroke=\"black\"/>\n",
       "</g>\n",
       "</g>\n",
       "</svg>"
      ],
      "text/plain": [
       "<IPython.core.display.SVG object>"
      ]
     },
     "execution_count": 43,
     "metadata": {},
     "output_type": "execute_result"
    }
   ],
   "source": [
    "model1B = models.Sequential()\n",
    "model1B.add(base_model)\n",
    "\n",
    "model1B.add(layers.Flatten())\n",
    "model1B.add(layers.Dense(128, activation='relu',  name='dense'))\n",
    "model1B.add(layers.Dropout(0.5))\n",
    "model1B.add(layers.Dense(len(classes), activation='softmax',  name='predictions'))\n",
    "\n",
    "model1B.summary()\n",
    "\n",
    "print('Number of trainable weights : ', len(model1B.trainable_weights))\n",
    "\n",
    "plot_model(model1B, to_file='model1B.png')\n",
    "SVG(model_to_dot(model1B).create(prog='dot', format='svg'))"
   ]
  },
  {
   "cell_type": "code",
   "execution_count": 44,
   "metadata": {
    "execution": {
     "iopub.execute_input": "2021-06-07T16:03:45.940248Z",
     "iopub.status.busy": "2021-06-07T16:03:45.939965Z",
     "iopub.status.idle": "2021-06-07T16:07:47.354021Z",
     "shell.execute_reply": "2021-06-07T16:07:47.353263Z",
     "shell.execute_reply.started": "2021-06-07T16:03:45.940198Z"
    }
   },
   "outputs": [
    {
     "name": "stdout",
     "output_type": "stream",
     "text": [
      "Train on 2437 samples, validate on 696 samples\n",
      "Epoch 1/5\n",
      "2437/2437 [==============================] - 75s 31ms/step - loss: 3.3157 - acc: 0.2622 - val_loss: 1.6674 - val_acc: 0.4856\n",
      "Epoch 2/5\n"
     ]
    },
    {
     "name": "stderr",
     "output_type": "stream",
     "text": [
      "/opt/conda/lib/python3.6/site-packages/keras/callbacks.py:569: RuntimeWarning: Early stopping conditioned on metric `val_accuracy` which is not available. Available metrics are: val_loss,val_acc,loss,acc\n",
      "  (self.monitor, ','.join(list(logs.keys()))), RuntimeWarning\n"
     ]
    },
    {
     "name": "stdout",
     "output_type": "stream",
     "text": [
      "2437/2437 [==============================] - 41s 17ms/step - loss: 1.5936 - acc: 0.4780 - val_loss: 1.2605 - val_acc: 0.6221\n",
      "Epoch 3/5\n",
      "2437/2437 [==============================] - 41s 17ms/step - loss: 1.2656 - acc: 0.5880 - val_loss: 0.9983 - val_acc: 0.6983\n",
      "Epoch 4/5\n",
      "2437/2437 [==============================] - 41s 17ms/step - loss: 1.0183 - acc: 0.6652 - val_loss: 0.8979 - val_acc: 0.7126\n",
      "Epoch 5/5\n",
      "2437/2437 [==============================] - 41s 17ms/step - loss: 0.8816 - acc: 0.7160 - val_loss: 0.8536 - val_acc: 0.7356\n"
     ]
    }
   ],
   "source": [
    "model1B.compile(optimizer=optimizers.Adam(lr=learning_rate), loss='categorical_crossentropy', metrics=['accuracy'])\n",
    "epochs=5\n",
    "train_model = model1B.fit(x_train, y_train,\n",
    "                        batch_size=batch_size,\n",
    "                        epochs=epochs,\n",
    "                        callbacks=[\n",
    "                        keras.callbacks.EarlyStopping(monitor='val_accuracy',patience=3), # early stopping if accuracy doesnt change in 3 consecutive epochs\n",
    "#                         tf.keras.callbacks.ModelCheckpoint(\n",
    "#             'models/model_{val_accuracy:.3f}.h5',\n",
    "#             save_best_only = True, save_weights_only = False, monitor = 'val_accuracy')\n",
    "    ],\n",
    "                        verbose=1,\n",
    "                        validation_data=(x_val, y_val))"
   ]
  },
  {
   "cell_type": "code",
   "execution_count": 45,
   "metadata": {
    "execution": {
     "iopub.execute_input": "2021-06-07T16:07:47.355623Z",
     "iopub.status.busy": "2021-06-07T16:07:47.355338Z",
     "iopub.status.idle": "2021-06-07T16:08:03.703082Z",
     "shell.execute_reply": "2021-06-07T16:08:03.702429Z",
     "shell.execute_reply.started": "2021-06-07T16:07:47.355577Z"
    }
   },
   "outputs": [
    {
     "name": "stdout",
     "output_type": "stream",
     "text": [
      "2437/2437 [==============================] - 14s 6ms/step\n",
      "Train loss: 0.5935496806022228\n",
      "Train accuracy: 0.8157570784239677\n",
      "347/347 [==============================] - 3s 8ms/step\n",
      "Test loss: 0.7833721522639052\n",
      "Test accuracy: 0.763688758917432\n"
     ]
    }
   ],
   "source": [
    "# combine predictions + average for better score ? \n",
    "# score = model1B.evaluate(x_train, y_train, verbose=1)\n",
    "# print('Train loss:', score[0])\n",
    "# print('Train accuracy:', score[1])\n",
    "# score = model1B.evaluate(x_test, y_test, verbose=1)\n",
    "# print('Test loss:', score[0])\n",
    "# print('Test accuracy:', score[1])\n",
    "print ('Training Accuracy = ' + str(train_model.history['accuracy']))\n",
    "print ('Validation Accuracy = ' + str(train_model.history['val_accuracy']))"
   ]
  },
  {
   "cell_type": "code",
   "execution_count": null,
   "metadata": {},
   "outputs": [],
   "source": [
    "model1B.save('VGG19_trained_model.h5')"
   ]
  },
  {
   "cell_type": "code",
   "execution_count": null,
   "metadata": {},
   "outputs": [],
   "source": [
    "predictions = model1B.predict_classes(x_test, verbose=1)\n",
    "predictions_list = predictions.tolist()\n",
    "predicted_classes = lb.classes_\n",
    "\n",
    "count_true = 0;\n",
    "count_false = 0;\n",
    "\n",
    "for i, prediction in enumerate(predictions_list):\n",
    "    state = True\n",
    "    if (predicted_classes[prediction] != test_label[i]) :\n",
    "        state = False\n",
    "        count_false += 1\n",
    "    else :\n",
    "        count_true += 1\n",
    "    print(\"Prediction : \", predicted_classes[prediction], \"   |   Real class : \", test_label[i],  \"   |   Result : \", state)\n",
    "\n",
    "print(\"\\nNumber of success : \", count_true) \n",
    "print(\"Number of error : \", count_false) \n",
    "print(\"Error rate : \", count_true/len(test_label))"
   ]
  },
  {
   "cell_type": "markdown",
   "metadata": {},
   "source": [
    "# EfficientNet-b3"
   ]
  },
  {
   "cell_type": "code",
   "execution_count": null,
   "metadata": {
    "execution": {
     "iopub.execute_input": "2021-06-07T11:58:58.975681Z",
     "iopub.status.busy": "2021-06-07T11:58:58.975183Z",
     "iopub.status.idle": "2021-06-07T11:59:05.326091Z",
     "shell.execute_reply": "2021-06-07T11:59:05.325037Z",
     "shell.execute_reply.started": "2021-06-07T11:58:58.975614Z"
    }
   },
   "outputs": [],
   "source": [
    "!pip install -U efficientnet"
   ]
  },
  {
   "cell_type": "code",
   "execution_count": null,
   "metadata": {},
   "outputs": [],
   "source": [
    "# img_size = 224\n",
    "# batch_size = 32\n",
    "# epochs = 100\n",
    "# train_size = 0.7\n",
    "# val_size = 0.2\n",
    "# test_size = 0.1\n",
    "# seed = 4321\n",
    "# channels = 3\n",
    "# learning_rate = 0.00001"
   ]
  },
  {
   "cell_type": "code",
   "execution_count": null,
   "metadata": {
    "execution": {
     "iopub.execute_input": "2021-06-07T11:59:26.069184Z",
     "iopub.status.busy": "2021-06-07T11:59:26.068899Z",
     "iopub.status.idle": "2021-06-07T11:59:43.451836Z",
     "shell.execute_reply": "2021-06-07T11:59:43.451029Z",
     "shell.execute_reply.started": "2021-06-07T11:59:26.069134Z"
    }
   },
   "outputs": [],
   "source": [
    "import efficientnet.keras as EfficientNetB0\n",
    "\n",
    "base_model = EfficientNetB0.EfficientNetB0(weights='imagenet', include_top=False, input_shape=(img_size, img_size, channels))\n",
    "\n",
    "# for layer in base_model.layers:\n",
    "#     layer.trainable = False\n",
    "    \n",
    "base_model.summary()"
   ]
  },
  {
   "cell_type": "code",
   "execution_count": null,
   "metadata": {
    "execution": {
     "iopub.execute_input": "2021-06-07T12:00:29.738829Z",
     "iopub.status.busy": "2021-06-07T12:00:29.738519Z",
     "iopub.status.idle": "2021-06-07T12:00:37.893464Z",
     "shell.execute_reply": "2021-06-07T12:00:37.892484Z",
     "shell.execute_reply.started": "2021-06-07T12:00:29.738775Z"
    }
   },
   "outputs": [],
   "source": [
    "model2 = models.Sequential()\n",
    "\n",
    "model2.add(base_model)\n",
    "model2.add(layers.Flatten())\n",
    "model2.add(layers.Dense(128, activation='relu',  name='dense',kernel_regularizer=regularizers.l2(0.01)))\n",
    "model2.add(layers.Dropout(0.5))\n",
    "model2.add(layers.Dense(len(classes), activation='softmax',  name='predictions'))\n",
    "\n",
    "model2.summary()\n",
    "\n",
    "print('Number of trainable weights : ', len(model2.trainable_weights))\n",
    "\n",
    "plot_model(model2, to_file='model2.png')\n",
    "SVG(model_to_dot(model2).create(prog='dot', format='svg'))"
   ]
  },
  {
   "cell_type": "code",
   "execution_count": null,
   "metadata": {
    "execution": {
     "iopub.execute_input": "2021-06-07T12:01:08.651066Z",
     "iopub.status.busy": "2021-06-07T12:01:08.650746Z",
     "iopub.status.idle": "2021-06-07T12:04:52.542427Z",
     "shell.execute_reply": "2021-06-07T12:04:52.541744Z",
     "shell.execute_reply.started": "2021-06-07T12:01:08.651011Z"
    }
   },
   "outputs": [],
   "source": [
    "model2.compile(optimizer=optimizers.Adam(lr=learning_rate), loss='categorical_crossentropy', metrics=['accuracy'])\n",
    "\n",
    "train_model = model2.fit(x_train, y_train,\n",
    "                        batch_size=batch_size,\n",
    "                        epochs=epochs,\n",
    "                        callbacks=[\n",
    "                        keras.callbacks.EarlyStopping(monitor='val_accuracy',patience=3), # early stopping if accuracy doesnt change in 3 consecutive epochs\n",
    "#                         tf.keras.callbacks.ModelCheckpoint(\n",
    "#             'models/model_{val_accuracy:.3f}.h5',\n",
    "#             save_best_only = True, save_weights_only = False, monitor = 'val_accuracy')\n",
    "    ],\n",
    "                        verbose=1,\n",
    "                        validation_data=(x_val, y_val))"
   ]
  },
  {
   "cell_type": "code",
   "execution_count": null,
   "metadata": {
    "execution": {
     "iopub.execute_input": "2021-06-07T12:05:31.548209Z",
     "iopub.status.busy": "2021-06-07T12:05:31.547864Z",
     "iopub.status.idle": "2021-06-07T12:05:42.394257Z",
     "shell.execute_reply": "2021-06-07T12:05:42.393622Z",
     "shell.execute_reply.started": "2021-06-07T12:05:31.548152Z"
    }
   },
   "outputs": [],
   "source": [
    "# combine predictions + average for better score ? \n",
    "# score = model2.evaluate(x_train, y_train, verbose=1)\n",
    "# print('Train loss:', score[0])\n",
    "# print('Train accuracy:', score[1])\n",
    "# score = model2.evaluate(x_test, y_test, verbose=1)\n",
    "# print('Test loss:', score[0])\n",
    "# print('Test accuracy:', score[1])\n",
    "print ('Training Accuracy = ' + str(train_model.history['accuracy']))\n",
    "print ('Validation Accuracy = ' + str(train_model.history['val_accuracy']))"
   ]
  },
  {
   "cell_type": "code",
   "execution_count": null,
   "metadata": {},
   "outputs": [],
   "source": [
    "model2.save('EfficientNet_trained_model.h5')"
   ]
  },
  {
   "cell_type": "code",
   "execution_count": null,
   "metadata": {},
   "outputs": [],
   "source": [
    "predictions = model2.predict_classes(x_test, verbose=1)\n",
    "predictions_list = predictions.tolist()\n",
    "predicted_classes = lb.classes_\n",
    "\n",
    "count_true = 0;\n",
    "count_false = 0;\n",
    "\n",
    "for i, prediction in enumerate(predictions_list):\n",
    "    state = True\n",
    "    if (predicted_classes[prediction] != test_label[i]) :\n",
    "        state = False\n",
    "        count_false += 1\n",
    "    else :\n",
    "        count_true += 1\n",
    "    print(\"Prediction : \", predicted_classes[prediction], \"   |   Real class : \", test_label[i],  \"   |   Result : \", state)\n",
    "\n",
    "print(\"\\nNumber of success : \", count_true) \n",
    "print(\"Number of error : \", count_false) \n",
    "print(\"Error rate : \", count_true/len(test_label))"
   ]
  },
  {
   "cell_type": "markdown",
   "metadata": {},
   "source": [
    "# Resnet 50"
   ]
  },
  {
   "cell_type": "code",
   "execution_count": null,
   "metadata": {},
   "outputs": [],
   "source": [
    "# img_size = 224\n",
    "# batch_size = 32\n",
    "# epochs = 40\n",
    "# train_size = 0.7\n",
    "# val_size = 0.2\n",
    "# test_size = 0.1\n",
    "# seed = 4321\n",
    "# channels = 3\n",
    "# learning_rate = 0.00001"
   ]
  },
  {
   "cell_type": "code",
   "execution_count": 12,
   "metadata": {
    "execution": {
     "iopub.execute_input": "2021-06-07T15:36:20.572303Z",
     "iopub.status.busy": "2021-06-07T15:36:20.569928Z",
     "iopub.status.idle": "2021-06-07T15:36:32.387803Z",
     "shell.execute_reply": "2021-06-07T15:36:32.386892Z",
     "shell.execute_reply.started": "2021-06-07T15:36:20.570192Z"
    }
   },
   "outputs": [
    {
     "name": "stdout",
     "output_type": "stream",
     "text": [
      "WARNING:tensorflow:From /opt/conda/lib/python3.6/site-packages/tensorflow/python/framework/op_def_library.py:263: colocate_with (from tensorflow.python.framework.ops) is deprecated and will be removed in a future version.\n",
      "Instructions for updating:\n",
      "Colocations handled automatically by placer.\n"
     ]
    },
    {
     "name": "stderr",
     "output_type": "stream",
     "text": [
      "/opt/conda/lib/python3.6/site-packages/keras_applications/resnet50.py:265: UserWarning: The output shape of `ResNet50(include_top=False)` has been changed since Keras 2.2.0.\n",
      "  warnings.warn('The output shape of `ResNet50(include_top=False)` '\n"
     ]
    },
    {
     "name": "stdout",
     "output_type": "stream",
     "text": [
      "Downloading data from https://github.com/fchollet/deep-learning-models/releases/download/v0.2/resnet50_weights_tf_dim_ordering_tf_kernels_notop.h5\n",
      "94658560/94653016 [==============================] - 1s 0us/step\n",
      "__________________________________________________________________________________________________\n",
      "Layer (type)                    Output Shape         Param #     Connected to                     \n",
      "==================================================================================================\n",
      "input_1 (InputLayer)            (None, 299, 299, 3)  0                                            \n",
      "__________________________________________________________________________________________________\n",
      "conv1_pad (ZeroPadding2D)       (None, 305, 305, 3)  0           input_1[0][0]                    \n",
      "__________________________________________________________________________________________________\n",
      "conv1 (Conv2D)                  (None, 150, 150, 64) 9472        conv1_pad[0][0]                  \n",
      "__________________________________________________________________________________________________\n",
      "bn_conv1 (BatchNormalization)   (None, 150, 150, 64) 256         conv1[0][0]                      \n",
      "__________________________________________________________________________________________________\n",
      "activation_1 (Activation)       (None, 150, 150, 64) 0           bn_conv1[0][0]                   \n",
      "__________________________________________________________________________________________________\n",
      "pool1_pad (ZeroPadding2D)       (None, 152, 152, 64) 0           activation_1[0][0]               \n",
      "__________________________________________________________________________________________________\n",
      "max_pooling2d_1 (MaxPooling2D)  (None, 75, 75, 64)   0           pool1_pad[0][0]                  \n",
      "__________________________________________________________________________________________________\n",
      "res2a_branch2a (Conv2D)         (None, 75, 75, 64)   4160        max_pooling2d_1[0][0]            \n",
      "__________________________________________________________________________________________________\n",
      "bn2a_branch2a (BatchNormalizati (None, 75, 75, 64)   256         res2a_branch2a[0][0]             \n",
      "__________________________________________________________________________________________________\n",
      "activation_2 (Activation)       (None, 75, 75, 64)   0           bn2a_branch2a[0][0]              \n",
      "__________________________________________________________________________________________________\n",
      "res2a_branch2b (Conv2D)         (None, 75, 75, 64)   36928       activation_2[0][0]               \n",
      "__________________________________________________________________________________________________\n",
      "bn2a_branch2b (BatchNormalizati (None, 75, 75, 64)   256         res2a_branch2b[0][0]             \n",
      "__________________________________________________________________________________________________\n",
      "activation_3 (Activation)       (None, 75, 75, 64)   0           bn2a_branch2b[0][0]              \n",
      "__________________________________________________________________________________________________\n",
      "res2a_branch2c (Conv2D)         (None, 75, 75, 256)  16640       activation_3[0][0]               \n",
      "__________________________________________________________________________________________________\n",
      "res2a_branch1 (Conv2D)          (None, 75, 75, 256)  16640       max_pooling2d_1[0][0]            \n",
      "__________________________________________________________________________________________________\n",
      "bn2a_branch2c (BatchNormalizati (None, 75, 75, 256)  1024        res2a_branch2c[0][0]             \n",
      "__________________________________________________________________________________________________\n",
      "bn2a_branch1 (BatchNormalizatio (None, 75, 75, 256)  1024        res2a_branch1[0][0]              \n",
      "__________________________________________________________________________________________________\n",
      "add_1 (Add)                     (None, 75, 75, 256)  0           bn2a_branch2c[0][0]              \n",
      "                                                                 bn2a_branch1[0][0]               \n",
      "__________________________________________________________________________________________________\n",
      "activation_4 (Activation)       (None, 75, 75, 256)  0           add_1[0][0]                      \n",
      "__________________________________________________________________________________________________\n",
      "res2b_branch2a (Conv2D)         (None, 75, 75, 64)   16448       activation_4[0][0]               \n",
      "__________________________________________________________________________________________________\n",
      "bn2b_branch2a (BatchNormalizati (None, 75, 75, 64)   256         res2b_branch2a[0][0]             \n",
      "__________________________________________________________________________________________________\n",
      "activation_5 (Activation)       (None, 75, 75, 64)   0           bn2b_branch2a[0][0]              \n",
      "__________________________________________________________________________________________________\n",
      "res2b_branch2b (Conv2D)         (None, 75, 75, 64)   36928       activation_5[0][0]               \n",
      "__________________________________________________________________________________________________\n",
      "bn2b_branch2b (BatchNormalizati (None, 75, 75, 64)   256         res2b_branch2b[0][0]             \n",
      "__________________________________________________________________________________________________\n",
      "activation_6 (Activation)       (None, 75, 75, 64)   0           bn2b_branch2b[0][0]              \n",
      "__________________________________________________________________________________________________\n",
      "res2b_branch2c (Conv2D)         (None, 75, 75, 256)  16640       activation_6[0][0]               \n",
      "__________________________________________________________________________________________________\n",
      "bn2b_branch2c (BatchNormalizati (None, 75, 75, 256)  1024        res2b_branch2c[0][0]             \n",
      "__________________________________________________________________________________________________\n",
      "add_2 (Add)                     (None, 75, 75, 256)  0           bn2b_branch2c[0][0]              \n",
      "                                                                 activation_4[0][0]               \n",
      "__________________________________________________________________________________________________\n",
      "activation_7 (Activation)       (None, 75, 75, 256)  0           add_2[0][0]                      \n",
      "__________________________________________________________________________________________________\n",
      "res2c_branch2a (Conv2D)         (None, 75, 75, 64)   16448       activation_7[0][0]               \n",
      "__________________________________________________________________________________________________\n",
      "bn2c_branch2a (BatchNormalizati (None, 75, 75, 64)   256         res2c_branch2a[0][0]             \n",
      "__________________________________________________________________________________________________\n",
      "activation_8 (Activation)       (None, 75, 75, 64)   0           bn2c_branch2a[0][0]              \n",
      "__________________________________________________________________________________________________\n",
      "res2c_branch2b (Conv2D)         (None, 75, 75, 64)   36928       activation_8[0][0]               \n",
      "__________________________________________________________________________________________________\n",
      "bn2c_branch2b (BatchNormalizati (None, 75, 75, 64)   256         res2c_branch2b[0][0]             \n",
      "__________________________________________________________________________________________________\n",
      "activation_9 (Activation)       (None, 75, 75, 64)   0           bn2c_branch2b[0][0]              \n",
      "__________________________________________________________________________________________________\n",
      "res2c_branch2c (Conv2D)         (None, 75, 75, 256)  16640       activation_9[0][0]               \n",
      "__________________________________________________________________________________________________\n",
      "bn2c_branch2c (BatchNormalizati (None, 75, 75, 256)  1024        res2c_branch2c[0][0]             \n",
      "__________________________________________________________________________________________________\n",
      "add_3 (Add)                     (None, 75, 75, 256)  0           bn2c_branch2c[0][0]              \n",
      "                                                                 activation_7[0][0]               \n",
      "__________________________________________________________________________________________________\n",
      "activation_10 (Activation)      (None, 75, 75, 256)  0           add_3[0][0]                      \n",
      "__________________________________________________________________________________________________\n",
      "res3a_branch2a (Conv2D)         (None, 38, 38, 128)  32896       activation_10[0][0]              \n",
      "__________________________________________________________________________________________________\n",
      "bn3a_branch2a (BatchNormalizati (None, 38, 38, 128)  512         res3a_branch2a[0][0]             \n",
      "__________________________________________________________________________________________________\n",
      "activation_11 (Activation)      (None, 38, 38, 128)  0           bn3a_branch2a[0][0]              \n",
      "__________________________________________________________________________________________________\n",
      "res3a_branch2b (Conv2D)         (None, 38, 38, 128)  147584      activation_11[0][0]              \n",
      "__________________________________________________________________________________________________\n",
      "bn3a_branch2b (BatchNormalizati (None, 38, 38, 128)  512         res3a_branch2b[0][0]             \n",
      "__________________________________________________________________________________________________\n",
      "activation_12 (Activation)      (None, 38, 38, 128)  0           bn3a_branch2b[0][0]              \n",
      "__________________________________________________________________________________________________\n",
      "res3a_branch2c (Conv2D)         (None, 38, 38, 512)  66048       activation_12[0][0]              \n",
      "__________________________________________________________________________________________________\n",
      "res3a_branch1 (Conv2D)          (None, 38, 38, 512)  131584      activation_10[0][0]              \n",
      "__________________________________________________________________________________________________\n",
      "bn3a_branch2c (BatchNormalizati (None, 38, 38, 512)  2048        res3a_branch2c[0][0]             \n",
      "__________________________________________________________________________________________________\n",
      "bn3a_branch1 (BatchNormalizatio (None, 38, 38, 512)  2048        res3a_branch1[0][0]              \n",
      "__________________________________________________________________________________________________\n",
      "add_4 (Add)                     (None, 38, 38, 512)  0           bn3a_branch2c[0][0]              \n",
      "                                                                 bn3a_branch1[0][0]               \n",
      "__________________________________________________________________________________________________\n",
      "activation_13 (Activation)      (None, 38, 38, 512)  0           add_4[0][0]                      \n",
      "__________________________________________________________________________________________________\n",
      "res3b_branch2a (Conv2D)         (None, 38, 38, 128)  65664       activation_13[0][0]              \n",
      "__________________________________________________________________________________________________\n",
      "bn3b_branch2a (BatchNormalizati (None, 38, 38, 128)  512         res3b_branch2a[0][0]             \n",
      "__________________________________________________________________________________________________\n",
      "activation_14 (Activation)      (None, 38, 38, 128)  0           bn3b_branch2a[0][0]              \n",
      "__________________________________________________________________________________________________\n",
      "res3b_branch2b (Conv2D)         (None, 38, 38, 128)  147584      activation_14[0][0]              \n",
      "__________________________________________________________________________________________________\n",
      "bn3b_branch2b (BatchNormalizati (None, 38, 38, 128)  512         res3b_branch2b[0][0]             \n",
      "__________________________________________________________________________________________________\n",
      "activation_15 (Activation)      (None, 38, 38, 128)  0           bn3b_branch2b[0][0]              \n",
      "__________________________________________________________________________________________________\n",
      "res3b_branch2c (Conv2D)         (None, 38, 38, 512)  66048       activation_15[0][0]              \n",
      "__________________________________________________________________________________________________\n",
      "bn3b_branch2c (BatchNormalizati (None, 38, 38, 512)  2048        res3b_branch2c[0][0]             \n",
      "__________________________________________________________________________________________________\n",
      "add_5 (Add)                     (None, 38, 38, 512)  0           bn3b_branch2c[0][0]              \n",
      "                                                                 activation_13[0][0]              \n",
      "__________________________________________________________________________________________________\n",
      "activation_16 (Activation)      (None, 38, 38, 512)  0           add_5[0][0]                      \n",
      "__________________________________________________________________________________________________\n",
      "res3c_branch2a (Conv2D)         (None, 38, 38, 128)  65664       activation_16[0][0]              \n",
      "__________________________________________________________________________________________________\n",
      "bn3c_branch2a (BatchNormalizati (None, 38, 38, 128)  512         res3c_branch2a[0][0]             \n",
      "__________________________________________________________________________________________________\n",
      "activation_17 (Activation)      (None, 38, 38, 128)  0           bn3c_branch2a[0][0]              \n",
      "__________________________________________________________________________________________________\n",
      "res3c_branch2b (Conv2D)         (None, 38, 38, 128)  147584      activation_17[0][0]              \n",
      "__________________________________________________________________________________________________\n",
      "bn3c_branch2b (BatchNormalizati (None, 38, 38, 128)  512         res3c_branch2b[0][0]             \n",
      "__________________________________________________________________________________________________\n",
      "activation_18 (Activation)      (None, 38, 38, 128)  0           bn3c_branch2b[0][0]              \n",
      "__________________________________________________________________________________________________\n",
      "res3c_branch2c (Conv2D)         (None, 38, 38, 512)  66048       activation_18[0][0]              \n",
      "__________________________________________________________________________________________________\n",
      "bn3c_branch2c (BatchNormalizati (None, 38, 38, 512)  2048        res3c_branch2c[0][0]             \n",
      "__________________________________________________________________________________________________\n",
      "add_6 (Add)                     (None, 38, 38, 512)  0           bn3c_branch2c[0][0]              \n",
      "                                                                 activation_16[0][0]              \n",
      "__________________________________________________________________________________________________\n",
      "activation_19 (Activation)      (None, 38, 38, 512)  0           add_6[0][0]                      \n",
      "__________________________________________________________________________________________________\n",
      "res3d_branch2a (Conv2D)         (None, 38, 38, 128)  65664       activation_19[0][0]              \n",
      "__________________________________________________________________________________________________\n",
      "bn3d_branch2a (BatchNormalizati (None, 38, 38, 128)  512         res3d_branch2a[0][0]             \n",
      "__________________________________________________________________________________________________\n",
      "activation_20 (Activation)      (None, 38, 38, 128)  0           bn3d_branch2a[0][0]              \n",
      "__________________________________________________________________________________________________\n",
      "res3d_branch2b (Conv2D)         (None, 38, 38, 128)  147584      activation_20[0][0]              \n",
      "__________________________________________________________________________________________________\n",
      "bn3d_branch2b (BatchNormalizati (None, 38, 38, 128)  512         res3d_branch2b[0][0]             \n",
      "__________________________________________________________________________________________________\n",
      "activation_21 (Activation)      (None, 38, 38, 128)  0           bn3d_branch2b[0][0]              \n",
      "__________________________________________________________________________________________________\n",
      "res3d_branch2c (Conv2D)         (None, 38, 38, 512)  66048       activation_21[0][0]              \n",
      "__________________________________________________________________________________________________\n",
      "bn3d_branch2c (BatchNormalizati (None, 38, 38, 512)  2048        res3d_branch2c[0][0]             \n",
      "__________________________________________________________________________________________________\n",
      "add_7 (Add)                     (None, 38, 38, 512)  0           bn3d_branch2c[0][0]              \n",
      "                                                                 activation_19[0][0]              \n",
      "__________________________________________________________________________________________________\n",
      "activation_22 (Activation)      (None, 38, 38, 512)  0           add_7[0][0]                      \n",
      "__________________________________________________________________________________________________\n",
      "res4a_branch2a (Conv2D)         (None, 19, 19, 256)  131328      activation_22[0][0]              \n",
      "__________________________________________________________________________________________________\n",
      "bn4a_branch2a (BatchNormalizati (None, 19, 19, 256)  1024        res4a_branch2a[0][0]             \n",
      "__________________________________________________________________________________________________\n",
      "activation_23 (Activation)      (None, 19, 19, 256)  0           bn4a_branch2a[0][0]              \n",
      "__________________________________________________________________________________________________\n",
      "res4a_branch2b (Conv2D)         (None, 19, 19, 256)  590080      activation_23[0][0]              \n",
      "__________________________________________________________________________________________________\n",
      "bn4a_branch2b (BatchNormalizati (None, 19, 19, 256)  1024        res4a_branch2b[0][0]             \n",
      "__________________________________________________________________________________________________\n",
      "activation_24 (Activation)      (None, 19, 19, 256)  0           bn4a_branch2b[0][0]              \n",
      "__________________________________________________________________________________________________\n",
      "res4a_branch2c (Conv2D)         (None, 19, 19, 1024) 263168      activation_24[0][0]              \n",
      "__________________________________________________________________________________________________\n",
      "res4a_branch1 (Conv2D)          (None, 19, 19, 1024) 525312      activation_22[0][0]              \n",
      "__________________________________________________________________________________________________\n",
      "bn4a_branch2c (BatchNormalizati (None, 19, 19, 1024) 4096        res4a_branch2c[0][0]             \n",
      "__________________________________________________________________________________________________\n",
      "bn4a_branch1 (BatchNormalizatio (None, 19, 19, 1024) 4096        res4a_branch1[0][0]              \n",
      "__________________________________________________________________________________________________\n",
      "add_8 (Add)                     (None, 19, 19, 1024) 0           bn4a_branch2c[0][0]              \n",
      "                                                                 bn4a_branch1[0][0]               \n",
      "__________________________________________________________________________________________________\n",
      "activation_25 (Activation)      (None, 19, 19, 1024) 0           add_8[0][0]                      \n",
      "__________________________________________________________________________________________________\n",
      "res4b_branch2a (Conv2D)         (None, 19, 19, 256)  262400      activation_25[0][0]              \n",
      "__________________________________________________________________________________________________\n",
      "bn4b_branch2a (BatchNormalizati (None, 19, 19, 256)  1024        res4b_branch2a[0][0]             \n",
      "__________________________________________________________________________________________________\n",
      "activation_26 (Activation)      (None, 19, 19, 256)  0           bn4b_branch2a[0][0]              \n",
      "__________________________________________________________________________________________________\n",
      "res4b_branch2b (Conv2D)         (None, 19, 19, 256)  590080      activation_26[0][0]              \n",
      "__________________________________________________________________________________________________\n",
      "bn4b_branch2b (BatchNormalizati (None, 19, 19, 256)  1024        res4b_branch2b[0][0]             \n",
      "__________________________________________________________________________________________________\n",
      "activation_27 (Activation)      (None, 19, 19, 256)  0           bn4b_branch2b[0][0]              \n",
      "__________________________________________________________________________________________________\n",
      "res4b_branch2c (Conv2D)         (None, 19, 19, 1024) 263168      activation_27[0][0]              \n",
      "__________________________________________________________________________________________________\n",
      "bn4b_branch2c (BatchNormalizati (None, 19, 19, 1024) 4096        res4b_branch2c[0][0]             \n",
      "__________________________________________________________________________________________________\n",
      "add_9 (Add)                     (None, 19, 19, 1024) 0           bn4b_branch2c[0][0]              \n",
      "                                                                 activation_25[0][0]              \n",
      "__________________________________________________________________________________________________\n",
      "activation_28 (Activation)      (None, 19, 19, 1024) 0           add_9[0][0]                      \n",
      "__________________________________________________________________________________________________\n",
      "res4c_branch2a (Conv2D)         (None, 19, 19, 256)  262400      activation_28[0][0]              \n",
      "__________________________________________________________________________________________________\n",
      "bn4c_branch2a (BatchNormalizati (None, 19, 19, 256)  1024        res4c_branch2a[0][0]             \n",
      "__________________________________________________________________________________________________\n",
      "activation_29 (Activation)      (None, 19, 19, 256)  0           bn4c_branch2a[0][0]              \n",
      "__________________________________________________________________________________________________\n",
      "res4c_branch2b (Conv2D)         (None, 19, 19, 256)  590080      activation_29[0][0]              \n",
      "__________________________________________________________________________________________________\n",
      "bn4c_branch2b (BatchNormalizati (None, 19, 19, 256)  1024        res4c_branch2b[0][0]             \n",
      "__________________________________________________________________________________________________\n",
      "activation_30 (Activation)      (None, 19, 19, 256)  0           bn4c_branch2b[0][0]              \n",
      "__________________________________________________________________________________________________\n",
      "res4c_branch2c (Conv2D)         (None, 19, 19, 1024) 263168      activation_30[0][0]              \n",
      "__________________________________________________________________________________________________\n",
      "bn4c_branch2c (BatchNormalizati (None, 19, 19, 1024) 4096        res4c_branch2c[0][0]             \n",
      "__________________________________________________________________________________________________\n",
      "add_10 (Add)                    (None, 19, 19, 1024) 0           bn4c_branch2c[0][0]              \n",
      "                                                                 activation_28[0][0]              \n",
      "__________________________________________________________________________________________________\n",
      "activation_31 (Activation)      (None, 19, 19, 1024) 0           add_10[0][0]                     \n",
      "__________________________________________________________________________________________________\n",
      "res4d_branch2a (Conv2D)         (None, 19, 19, 256)  262400      activation_31[0][0]              \n",
      "__________________________________________________________________________________________________\n",
      "bn4d_branch2a (BatchNormalizati (None, 19, 19, 256)  1024        res4d_branch2a[0][0]             \n",
      "__________________________________________________________________________________________________\n",
      "activation_32 (Activation)      (None, 19, 19, 256)  0           bn4d_branch2a[0][0]              \n",
      "__________________________________________________________________________________________________\n",
      "res4d_branch2b (Conv2D)         (None, 19, 19, 256)  590080      activation_32[0][0]              \n",
      "__________________________________________________________________________________________________\n",
      "bn4d_branch2b (BatchNormalizati (None, 19, 19, 256)  1024        res4d_branch2b[0][0]             \n",
      "__________________________________________________________________________________________________\n",
      "activation_33 (Activation)      (None, 19, 19, 256)  0           bn4d_branch2b[0][0]              \n",
      "__________________________________________________________________________________________________\n",
      "res4d_branch2c (Conv2D)         (None, 19, 19, 1024) 263168      activation_33[0][0]              \n",
      "__________________________________________________________________________________________________\n",
      "bn4d_branch2c (BatchNormalizati (None, 19, 19, 1024) 4096        res4d_branch2c[0][0]             \n",
      "__________________________________________________________________________________________________\n",
      "add_11 (Add)                    (None, 19, 19, 1024) 0           bn4d_branch2c[0][0]              \n",
      "                                                                 activation_31[0][0]              \n",
      "__________________________________________________________________________________________________\n",
      "activation_34 (Activation)      (None, 19, 19, 1024) 0           add_11[0][0]                     \n",
      "__________________________________________________________________________________________________\n",
      "res4e_branch2a (Conv2D)         (None, 19, 19, 256)  262400      activation_34[0][0]              \n",
      "__________________________________________________________________________________________________\n",
      "bn4e_branch2a (BatchNormalizati (None, 19, 19, 256)  1024        res4e_branch2a[0][0]             \n",
      "__________________________________________________________________________________________________\n",
      "activation_35 (Activation)      (None, 19, 19, 256)  0           bn4e_branch2a[0][0]              \n",
      "__________________________________________________________________________________________________\n",
      "res4e_branch2b (Conv2D)         (None, 19, 19, 256)  590080      activation_35[0][0]              \n",
      "__________________________________________________________________________________________________\n",
      "bn4e_branch2b (BatchNormalizati (None, 19, 19, 256)  1024        res4e_branch2b[0][0]             \n",
      "__________________________________________________________________________________________________\n",
      "activation_36 (Activation)      (None, 19, 19, 256)  0           bn4e_branch2b[0][0]              \n",
      "__________________________________________________________________________________________________\n",
      "res4e_branch2c (Conv2D)         (None, 19, 19, 1024) 263168      activation_36[0][0]              \n",
      "__________________________________________________________________________________________________\n",
      "bn4e_branch2c (BatchNormalizati (None, 19, 19, 1024) 4096        res4e_branch2c[0][0]             \n",
      "__________________________________________________________________________________________________\n",
      "add_12 (Add)                    (None, 19, 19, 1024) 0           bn4e_branch2c[0][0]              \n",
      "                                                                 activation_34[0][0]              \n",
      "__________________________________________________________________________________________________\n",
      "activation_37 (Activation)      (None, 19, 19, 1024) 0           add_12[0][0]                     \n",
      "__________________________________________________________________________________________________\n",
      "res4f_branch2a (Conv2D)         (None, 19, 19, 256)  262400      activation_37[0][0]              \n",
      "__________________________________________________________________________________________________\n",
      "bn4f_branch2a (BatchNormalizati (None, 19, 19, 256)  1024        res4f_branch2a[0][0]             \n",
      "__________________________________________________________________________________________________\n",
      "activation_38 (Activation)      (None, 19, 19, 256)  0           bn4f_branch2a[0][0]              \n",
      "__________________________________________________________________________________________________\n",
      "res4f_branch2b (Conv2D)         (None, 19, 19, 256)  590080      activation_38[0][0]              \n",
      "__________________________________________________________________________________________________\n",
      "bn4f_branch2b (BatchNormalizati (None, 19, 19, 256)  1024        res4f_branch2b[0][0]             \n",
      "__________________________________________________________________________________________________\n",
      "activation_39 (Activation)      (None, 19, 19, 256)  0           bn4f_branch2b[0][0]              \n",
      "__________________________________________________________________________________________________\n",
      "res4f_branch2c (Conv2D)         (None, 19, 19, 1024) 263168      activation_39[0][0]              \n",
      "__________________________________________________________________________________________________\n",
      "bn4f_branch2c (BatchNormalizati (None, 19, 19, 1024) 4096        res4f_branch2c[0][0]             \n",
      "__________________________________________________________________________________________________\n",
      "add_13 (Add)                    (None, 19, 19, 1024) 0           bn4f_branch2c[0][0]              \n",
      "                                                                 activation_37[0][0]              \n",
      "__________________________________________________________________________________________________\n",
      "activation_40 (Activation)      (None, 19, 19, 1024) 0           add_13[0][0]                     \n",
      "__________________________________________________________________________________________________\n",
      "res5a_branch2a (Conv2D)         (None, 10, 10, 512)  524800      activation_40[0][0]              \n",
      "__________________________________________________________________________________________________\n",
      "bn5a_branch2a (BatchNormalizati (None, 10, 10, 512)  2048        res5a_branch2a[0][0]             \n",
      "__________________________________________________________________________________________________\n",
      "activation_41 (Activation)      (None, 10, 10, 512)  0           bn5a_branch2a[0][0]              \n",
      "__________________________________________________________________________________________________\n",
      "res5a_branch2b (Conv2D)         (None, 10, 10, 512)  2359808     activation_41[0][0]              \n",
      "__________________________________________________________________________________________________\n",
      "bn5a_branch2b (BatchNormalizati (None, 10, 10, 512)  2048        res5a_branch2b[0][0]             \n",
      "__________________________________________________________________________________________________\n",
      "activation_42 (Activation)      (None, 10, 10, 512)  0           bn5a_branch2b[0][0]              \n",
      "__________________________________________________________________________________________________\n",
      "res5a_branch2c (Conv2D)         (None, 10, 10, 2048) 1050624     activation_42[0][0]              \n",
      "__________________________________________________________________________________________________\n",
      "res5a_branch1 (Conv2D)          (None, 10, 10, 2048) 2099200     activation_40[0][0]              \n",
      "__________________________________________________________________________________________________\n",
      "bn5a_branch2c (BatchNormalizati (None, 10, 10, 2048) 8192        res5a_branch2c[0][0]             \n",
      "__________________________________________________________________________________________________\n",
      "bn5a_branch1 (BatchNormalizatio (None, 10, 10, 2048) 8192        res5a_branch1[0][0]              \n",
      "__________________________________________________________________________________________________\n",
      "add_14 (Add)                    (None, 10, 10, 2048) 0           bn5a_branch2c[0][0]              \n",
      "                                                                 bn5a_branch1[0][0]               \n",
      "__________________________________________________________________________________________________\n",
      "activation_43 (Activation)      (None, 10, 10, 2048) 0           add_14[0][0]                     \n",
      "__________________________________________________________________________________________________\n",
      "res5b_branch2a (Conv2D)         (None, 10, 10, 512)  1049088     activation_43[0][0]              \n",
      "__________________________________________________________________________________________________\n",
      "bn5b_branch2a (BatchNormalizati (None, 10, 10, 512)  2048        res5b_branch2a[0][0]             \n",
      "__________________________________________________________________________________________________\n",
      "activation_44 (Activation)      (None, 10, 10, 512)  0           bn5b_branch2a[0][0]              \n",
      "__________________________________________________________________________________________________\n",
      "res5b_branch2b (Conv2D)         (None, 10, 10, 512)  2359808     activation_44[0][0]              \n",
      "__________________________________________________________________________________________________\n",
      "bn5b_branch2b (BatchNormalizati (None, 10, 10, 512)  2048        res5b_branch2b[0][0]             \n",
      "__________________________________________________________________________________________________\n",
      "activation_45 (Activation)      (None, 10, 10, 512)  0           bn5b_branch2b[0][0]              \n",
      "__________________________________________________________________________________________________\n",
      "res5b_branch2c (Conv2D)         (None, 10, 10, 2048) 1050624     activation_45[0][0]              \n",
      "__________________________________________________________________________________________________\n",
      "bn5b_branch2c (BatchNormalizati (None, 10, 10, 2048) 8192        res5b_branch2c[0][0]             \n",
      "__________________________________________________________________________________________________\n",
      "add_15 (Add)                    (None, 10, 10, 2048) 0           bn5b_branch2c[0][0]              \n",
      "                                                                 activation_43[0][0]              \n",
      "__________________________________________________________________________________________________\n",
      "activation_46 (Activation)      (None, 10, 10, 2048) 0           add_15[0][0]                     \n",
      "__________________________________________________________________________________________________\n",
      "res5c_branch2a (Conv2D)         (None, 10, 10, 512)  1049088     activation_46[0][0]              \n",
      "__________________________________________________________________________________________________\n",
      "bn5c_branch2a (BatchNormalizati (None, 10, 10, 512)  2048        res5c_branch2a[0][0]             \n",
      "__________________________________________________________________________________________________\n",
      "activation_47 (Activation)      (None, 10, 10, 512)  0           bn5c_branch2a[0][0]              \n",
      "__________________________________________________________________________________________________\n",
      "res5c_branch2b (Conv2D)         (None, 10, 10, 512)  2359808     activation_47[0][0]              \n",
      "__________________________________________________________________________________________________\n",
      "bn5c_branch2b (BatchNormalizati (None, 10, 10, 512)  2048        res5c_branch2b[0][0]             \n",
      "__________________________________________________________________________________________________\n",
      "activation_48 (Activation)      (None, 10, 10, 512)  0           bn5c_branch2b[0][0]              \n",
      "__________________________________________________________________________________________________\n",
      "res5c_branch2c (Conv2D)         (None, 10, 10, 2048) 1050624     activation_48[0][0]              \n",
      "__________________________________________________________________________________________________\n",
      "bn5c_branch2c (BatchNormalizati (None, 10, 10, 2048) 8192        res5c_branch2c[0][0]             \n",
      "__________________________________________________________________________________________________\n",
      "add_16 (Add)                    (None, 10, 10, 2048) 0           bn5c_branch2c[0][0]              \n",
      "                                                                 activation_46[0][0]              \n",
      "__________________________________________________________________________________________________\n",
      "activation_49 (Activation)      (None, 10, 10, 2048) 0           add_16[0][0]                     \n",
      "==================================================================================================\n",
      "Total params: 23,587,712\n",
      "Trainable params: 23,534,592\n",
      "Non-trainable params: 53,120\n",
      "__________________________________________________________________________________________________\n"
     ]
    }
   ],
   "source": [
    "from keras.applications import ResNet50\n",
    "base_model = ResNet50(weights = \"imagenet\", include_top=False, input_shape = (img_size, img_size, channels))\n",
    "\n",
    "#for layer in base_model.layers:\n",
    "#    layer.trainable = False\n",
    "    \n",
    "base_model.summary()"
   ]
  },
  {
   "cell_type": "code",
   "execution_count": 37,
   "metadata": {
    "execution": {
     "iopub.execute_input": "2021-06-07T15:53:56.659238Z",
     "iopub.status.busy": "2021-06-07T15:53:56.658952Z",
     "iopub.status.idle": "2021-06-07T15:54:07.670342Z",
     "shell.execute_reply": "2021-06-07T15:54:07.669615Z",
     "shell.execute_reply.started": "2021-06-07T15:53:56.659189Z"
    }
   },
   "outputs": [
    {
     "name": "stdout",
     "output_type": "stream",
     "text": [
      "_________________________________________________________________\n",
      "Layer (type)                 Output Shape              Param #   \n",
      "=================================================================\n",
      "resnet50 (Model)             (None, 10, 10, 2048)      23587712  \n",
      "_________________________________________________________________\n",
      "flatten_8 (Flatten)          (None, 204800)            0         \n",
      "_________________________________________________________________\n",
      "dense (Dense)                (None, 128)               26214528  \n",
      "_________________________________________________________________\n",
      "dropout_7 (Dropout)          (None, 128)               0         \n",
      "_________________________________________________________________\n",
      "predictions (Dense)          (None, 10)                1290      \n",
      "=================================================================\n",
      "Total params: 49,803,530\n",
      "Trainable params: 49,750,410\n",
      "Non-trainable params: 53,120\n",
      "_________________________________________________________________\n",
      "Number of trainable weights :  216\n"
     ]
    },
    {
     "data": {
      "image/svg+xml": [
       "<svg height=\"410pt\" viewBox=\"0.00 0.00 133.00 410.00\" width=\"133pt\" xmlns=\"http://www.w3.org/2000/svg\" xmlns:xlink=\"http://www.w3.org/1999/xlink\">\n",
       "<g class=\"graph\" id=\"graph0\" transform=\"scale(1 1) rotate(0) translate(4 406)\">\n",
       "<title>G</title>\n",
       "<polygon fill=\"white\" points=\"-4,4 -4,-406 129,-406 129,4 -4,4\" stroke=\"none\"/>\n",
       "<!-- 140482463977600 -->\n",
       "<g class=\"node\" id=\"node1\"><title>140482463977600</title>\n",
       "<polygon fill=\"none\" points=\"9.5,-292.5 9.5,-328.5 115.5,-328.5 115.5,-292.5 9.5,-292.5\" stroke=\"black\"/>\n",
       "<text font-family=\"Times,serif\" font-size=\"14.00\" text-anchor=\"middle\" x=\"62.5\" y=\"-306.8\">resnet50: Model</text>\n",
       "</g>\n",
       "<!-- 140480360619536 -->\n",
       "<g class=\"node\" id=\"node2\"><title>140480360619536</title>\n",
       "<polygon fill=\"none\" points=\"7.5,-219.5 7.5,-255.5 117.5,-255.5 117.5,-219.5 7.5,-219.5\" stroke=\"black\"/>\n",
       "<text font-family=\"Times,serif\" font-size=\"14.00\" text-anchor=\"middle\" x=\"62.5\" y=\"-233.8\">flatten_8: Flatten</text>\n",
       "</g>\n",
       "<!-- 140482463977600&#45;&gt;140480360619536 -->\n",
       "<g class=\"edge\" id=\"edge2\"><title>140482463977600-&gt;140480360619536</title>\n",
       "<path d=\"M62.5,-292.313C62.5,-284.289 62.5,-274.547 62.5,-265.569\" fill=\"none\" stroke=\"black\"/>\n",
       "<polygon fill=\"black\" points=\"66.0001,-265.529 62.5,-255.529 59.0001,-265.529 66.0001,-265.529\" stroke=\"black\"/>\n",
       "</g>\n",
       "<!-- 140480360693544 -->\n",
       "<g class=\"node\" id=\"node3\"><title>140480360693544</title>\n",
       "<polygon fill=\"none\" points=\"18,-146.5 18,-182.5 107,-182.5 107,-146.5 18,-146.5\" stroke=\"black\"/>\n",
       "<text font-family=\"Times,serif\" font-size=\"14.00\" text-anchor=\"middle\" x=\"62.5\" y=\"-160.8\">dense: Dense</text>\n",
       "</g>\n",
       "<!-- 140480360619536&#45;&gt;140480360693544 -->\n",
       "<g class=\"edge\" id=\"edge3\"><title>140480360619536-&gt;140480360693544</title>\n",
       "<path d=\"M62.5,-219.313C62.5,-211.289 62.5,-201.547 62.5,-192.569\" fill=\"none\" stroke=\"black\"/>\n",
       "<polygon fill=\"black\" points=\"66.0001,-192.529 62.5,-182.529 59.0001,-192.529 66.0001,-192.529\" stroke=\"black\"/>\n",
       "</g>\n",
       "<!-- 140480360690632 -->\n",
       "<g class=\"node\" id=\"node4\"><title>140480360690632</title>\n",
       "<polygon fill=\"none\" points=\"-7.10543e-15,-73.5 -7.10543e-15,-109.5 125,-109.5 125,-73.5 -7.10543e-15,-73.5\" stroke=\"black\"/>\n",
       "<text font-family=\"Times,serif\" font-size=\"14.00\" text-anchor=\"middle\" x=\"62.5\" y=\"-87.8\">dropout_7: Dropout</text>\n",
       "</g>\n",
       "<!-- 140480360693544&#45;&gt;140480360690632 -->\n",
       "<g class=\"edge\" id=\"edge4\"><title>140480360693544-&gt;140480360690632</title>\n",
       "<path d=\"M62.5,-146.313C62.5,-138.289 62.5,-128.547 62.5,-119.569\" fill=\"none\" stroke=\"black\"/>\n",
       "<polygon fill=\"black\" points=\"66.0001,-119.529 62.5,-109.529 59.0001,-119.529 66.0001,-119.529\" stroke=\"black\"/>\n",
       "</g>\n",
       "<!-- 140480305796768 -->\n",
       "<g class=\"node\" id=\"node5\"><title>140480305796768</title>\n",
       "<polygon fill=\"none\" points=\"3.5,-0.5 3.5,-36.5 121.5,-36.5 121.5,-0.5 3.5,-0.5\" stroke=\"black\"/>\n",
       "<text font-family=\"Times,serif\" font-size=\"14.00\" text-anchor=\"middle\" x=\"62.5\" y=\"-14.8\">predictions: Dense</text>\n",
       "</g>\n",
       "<!-- 140480360690632&#45;&gt;140480305796768 -->\n",
       "<g class=\"edge\" id=\"edge5\"><title>140480360690632-&gt;140480305796768</title>\n",
       "<path d=\"M62.5,-73.3129C62.5,-65.2895 62.5,-55.5475 62.5,-46.5691\" fill=\"none\" stroke=\"black\"/>\n",
       "<polygon fill=\"black\" points=\"66.0001,-46.5288 62.5,-36.5288 59.0001,-46.5289 66.0001,-46.5288\" stroke=\"black\"/>\n",
       "</g>\n",
       "<!-- 140480360618024 -->\n",
       "<g class=\"node\" id=\"node6\"><title>140480360618024</title>\n",
       "<polygon fill=\"none\" points=\"3.5,-365.5 3.5,-401.5 121.5,-401.5 121.5,-365.5 3.5,-365.5\" stroke=\"black\"/>\n",
       "<text font-family=\"Times,serif\" font-size=\"14.00\" text-anchor=\"middle\" x=\"62.5\" y=\"-379.8\">140480360618024</text>\n",
       "</g>\n",
       "<!-- 140480360618024&#45;&gt;140482463977600 -->\n",
       "<g class=\"edge\" id=\"edge1\"><title>140480360618024-&gt;140482463977600</title>\n",
       "<path d=\"M62.5,-365.313C62.5,-357.289 62.5,-347.547 62.5,-338.569\" fill=\"none\" stroke=\"black\"/>\n",
       "<polygon fill=\"black\" points=\"66.0001,-338.529 62.5,-328.529 59.0001,-338.529 66.0001,-338.529\" stroke=\"black\"/>\n",
       "</g>\n",
       "</g>\n",
       "</svg>"
      ],
      "text/plain": [
       "<IPython.core.display.SVG object>"
      ]
     },
     "execution_count": 37,
     "metadata": {},
     "output_type": "execute_result"
    }
   ],
   "source": [
    "model3 = models.Sequential()\n",
    "# keras.regularizers.L1L2(l1=0.01, l2=0.01)\n",
    "model3.add(base_model)\n",
    "model3.add(layers.Flatten())\n",
    "model3.add(layers.Dense(128, activation='relu',  name='dense',kernel_regularizer=regularizers.L1L2(l1=0.01, l2=0.01),bias_regularizer=regularizers.L1L2(l1=0.01, l2=0.01)))\n",
    "model3.add(layers.Dropout(0.5))\n",
    "model3.add(layers.Dense(len(classes), activation='softmax',  name='predictions'))\n",
    "\n",
    "model3.summary()\n",
    "\n",
    "print('Number of trainable weights : ', len(model3.trainable_weights))\n",
    "\n",
    "plot_model(model3, to_file='model3.png')\n",
    "SVG(model_to_dot(model3).create(prog='dot', format='svg'))"
   ]
  },
  {
   "cell_type": "code",
   "execution_count": 40,
   "metadata": {
    "execution": {
     "iopub.execute_input": "2021-06-07T15:56:10.669100Z",
     "iopub.status.busy": "2021-06-07T15:56:10.668822Z",
     "iopub.status.idle": "2021-06-07T16:02:44.062016Z",
     "shell.execute_reply": "2021-06-07T16:02:44.061225Z",
     "shell.execute_reply.started": "2021-06-07T15:56:10.669049Z"
    }
   },
   "outputs": [
    {
     "name": "stdout",
     "output_type": "stream",
     "text": [
      "Train on 2437 samples, validate on 696 samples\n",
      "Epoch 1/10\n",
      "2437/2437 [==============================] - 76s 31ms/step - loss: 514.8161 - acc: 0.7234 - val_loss: 445.8683 - val_acc: 0.7557\n",
      "Epoch 2/10\n"
     ]
    },
    {
     "name": "stderr",
     "output_type": "stream",
     "text": [
      "/opt/conda/lib/python3.6/site-packages/keras/callbacks.py:569: RuntimeWarning: Early stopping conditioned on metric `val_accuracy` which is not available. Available metrics are: val_loss,val_acc,loss,acc\n",
      "  (self.monitor, ','.join(list(logs.keys()))), RuntimeWarning\n"
     ]
    },
    {
     "name": "stdout",
     "output_type": "stream",
     "text": [
      "2437/2437 [==============================] - 34s 14ms/step - loss: 387.4486 - acc: 0.8252 - val_loss: 329.9117 - val_acc: 0.7845\n",
      "Epoch 3/10\n",
      "2437/2437 [==============================] - 34s 14ms/step - loss: 280.9878 - acc: 0.8765 - val_loss: 233.4265 - val_acc: 0.7874\n",
      "Epoch 4/10\n",
      "2437/2437 [==============================] - 34s 14ms/step - loss: 193.6084 - acc: 0.9130 - val_loss: 155.8262 - val_acc: 0.7989\n",
      "Epoch 5/10\n",
      "2437/2437 [==============================] - 34s 14ms/step - loss: 125.2696 - acc: 0.9307 - val_loss: 97.3610 - val_acc: 0.8032\n",
      "Epoch 6/10\n",
      "2437/2437 [==============================] - 34s 14ms/step - loss: 76.2708 - acc: 0.9389 - val_loss: 58.4386 - val_acc: 0.8075\n",
      "Epoch 7/10\n",
      "2437/2437 [==============================] - 34s 14ms/step - loss: 46.4393 - acc: 0.9508 - val_loss: 36.8474 - val_acc: 0.8175\n",
      "Epoch 8/10\n",
      "2437/2437 [==============================] - 34s 14ms/step - loss: 29.7730 - acc: 0.9598 - val_loss: 24.4110 - val_acc: 0.8103\n",
      "Epoch 9/10\n",
      "2437/2437 [==============================] - 34s 14ms/step - loss: 19.9671 - acc: 0.9594 - val_loss: 16.7531 - val_acc: 0.8075\n",
      "Epoch 10/10\n",
      "2437/2437 [==============================] - 34s 14ms/step - loss: 13.8871 - acc: 0.9577 - val_loss: 12.0550 - val_acc: 0.8103\n"
     ]
    }
   ],
   "source": [
    "model3.compile(optimizer=optimizers.Adam(lr=learning_rate), loss='categorical_crossentropy', metrics=['accuracy'])\n",
    "epochs = 10\n",
    "train_model = model3.fit(x_train, y_train,\n",
    "                        batch_size=batch_size,\n",
    "                        epochs=epochs,\n",
    "                        callbacks=[\n",
    "                        keras.callbacks.EarlyStopping(monitor='val_accuracy',patience=3), # early stopping if accuracy doesnt change in 3 consecutive epochs\n",
    "#                         tf.keras.callbacks.ModelCheckpoint(\n",
    "#             'models/model_{val_accuracy:.3f}.h5',\n",
    "#             save_best_only = True, save_weights_only = False, monitor = 'val_accuracy')\n",
    "    ],\n",
    "                        verbose=1,\n",
    "                        validation_data=(x_val, y_val))"
   ]
  },
  {
   "cell_type": "code",
   "execution_count": 41,
   "metadata": {
    "execution": {
     "iopub.execute_input": "2021-06-07T16:02:44.063534Z",
     "iopub.status.busy": "2021-06-07T16:02:44.063241Z",
     "iopub.status.idle": "2021-06-07T16:02:57.144652Z",
     "shell.execute_reply": "2021-06-07T16:02:57.143873Z",
     "shell.execute_reply.started": "2021-06-07T16:02:44.063487Z"
    }
   },
   "outputs": [
    {
     "name": "stdout",
     "output_type": "stream",
     "text": [
      "2437/2437 [==============================] - 11s 5ms/step\n",
      "Train loss: 11.546829200544268\n",
      "Train accuracy: 0.9979482970865818\n",
      "347/347 [==============================] - 2s 5ms/step\n",
      "Test loss: 12.028234748400598\n",
      "Test accuracy: 0.8069164287459953\n"
     ]
    }
   ],
   "source": [
    "# score = model3.evaluate(x_train, y_train, verbose=1)\n",
    "# print('Train loss:', score[0])\n",
    "# print('Train accuracy:', score[1])\n",
    "# score = model3.evaluate(x_test, y_test, verbose=1)\n",
    "# print('Test loss:', score[0])\n",
    "# print('Test accuracy:', score[1])\n",
    "print ('Training Accuracy = ' + str(train_model.history['accuracy']))\n",
    "print ('Validation Accuracy = ' + str(train_model.history['val_accuracy']))"
   ]
  },
  {
   "cell_type": "code",
   "execution_count": null,
   "metadata": {},
   "outputs": [],
   "source": [
    "model3.save('ResNet50_trained_model.h5')"
   ]
  },
  {
   "cell_type": "code",
   "execution_count": null,
   "metadata": {},
   "outputs": [],
   "source": [
    "predictions = model3.predict_classes(x_test, verbose=1)\n",
    "predictions_list = predictions.tolist()\n",
    "predicted_classes = lb.classes_\n",
    "\n",
    "count_true = 0;\n",
    "count_false = 0;\n",
    "\n",
    "for i, prediction in enumerate(predictions_list):\n",
    "    state = True\n",
    "    if (predicted_classes[prediction] != test_label[i]) :\n",
    "        state = False\n",
    "        count_false += 1\n",
    "    else :\n",
    "        count_true += 1\n",
    "    print(\"Prediction : \", predicted_classes[prediction], \"   |   Real class : \", test_label[i],  \"   |   Result : \", state)\n",
    "\n",
    "print(\"\\nNumber of success : \", count_true) \n",
    "print(\"Number of error : \", count_false) \n",
    "print(\"Error rate : \", count_true/len(test_label))"
   ]
  },
  {
   "cell_type": "markdown",
   "metadata": {},
   "source": [
    "# InceptionV3"
   ]
  },
  {
   "cell_type": "code",
   "execution_count": null,
   "metadata": {},
   "outputs": [],
   "source": [
    "# img_size = 299\n",
    "# batch_size = 32\n",
    "# epochs = 40\n",
    "# train_size = 0.7\n",
    "# val_size = 0.2\n",
    "# test_size = 0.1\n",
    "# seed = 4321\n",
    "# channels = 3\n",
    "# learning_rate = 0.00001"
   ]
  },
  {
   "cell_type": "code",
   "execution_count": null,
   "metadata": {
    "execution": {
     "iopub.execute_input": "2021-06-07T12:13:06.879610Z",
     "iopub.status.busy": "2021-06-07T12:13:06.879236Z",
     "iopub.status.idle": "2021-06-07T12:13:48.377569Z",
     "shell.execute_reply": "2021-06-07T12:13:48.376930Z",
     "shell.execute_reply.started": "2021-06-07T12:13:06.879544Z"
    }
   },
   "outputs": [],
   "source": [
    "from keras.applications import InceptionV3\n",
    "base_model = InceptionV3(weights = \"imagenet\", include_top=False, input_shape = (img_size, img_size, channels))\n",
    "\n",
    "#for layer in base_model.layers:\n",
    "#    layer.trainable = False\n",
    "    \n",
    "base_model.summary()"
   ]
  },
  {
   "cell_type": "code",
   "execution_count": null,
   "metadata": {
    "execution": {
     "iopub.execute_input": "2021-06-07T12:14:14.725090Z",
     "iopub.status.busy": "2021-06-07T12:14:14.724772Z",
     "iopub.status.idle": "2021-06-07T12:14:18.555194Z",
     "shell.execute_reply": "2021-06-07T12:14:18.554040Z",
     "shell.execute_reply.started": "2021-06-07T12:14:14.725037Z"
    }
   },
   "outputs": [],
   "source": [
    "x = base_model.output\n",
    "x = GlobalAveragePooling2D()(x)\n",
    "x = Dense(128,activation='relu',kernel_regularizer=regularizers.l2(0.01))(x) \n",
    "x = Dropout(0.5)(x)\n",
    "predictions = Dense(len(classes), activation='softmax')(x)\n",
    "\n",
    "model4 = Model(inputs=base_model.input, outputs=predictions)\n",
    "\n",
    "model4.summary()\n",
    "\n",
    "print('Number of trainable weights : ', len(model4.trainable_weights))\n",
    "\n",
    "plot_model(model4, to_file='model.png')\n",
    "SVG(model_to_dot(model4).create(prog='dot', format='svg'))"
   ]
  },
  {
   "cell_type": "code",
   "execution_count": null,
   "metadata": {
    "execution": {
     "iopub.execute_input": "2021-06-07T12:15:18.945813Z",
     "iopub.status.busy": "2021-06-07T12:15:18.945524Z",
     "iopub.status.idle": "2021-06-07T12:18:18.126183Z",
     "shell.execute_reply": "2021-06-07T12:18:18.125327Z",
     "shell.execute_reply.started": "2021-06-07T12:15:18.945761Z"
    }
   },
   "outputs": [],
   "source": [
    "model4.compile(optimizer=optimizers.Adam(lr=learning_rate), loss='categorical_crossentropy', metrics=['accuracy'])\n",
    "\n",
    "train_model = model4.fit(x_train, y_train,\n",
    "                        batch_size=batch_size,\n",
    "                        epochs=epochs,\n",
    "                        callbacks=[\n",
    "                        keras.callbacks.EarlyStopping(monitor='val_accuracy',patience=3), # early stopping if accuracy doesnt change in 3 consecutive epochs\n",
    "#                         tf.keras.callbacks.ModelCheckpoint(\n",
    "#             'models/model_{val_accuracy:.3f}.h5',\n",
    "#             save_best_only = True, save_weights_only = False, monitor = 'val_accuracy')\n",
    "    ],\n",
    "                        verbose=1,\n",
    "                        validation_data=(x_val, y_val))"
   ]
  },
  {
   "cell_type": "code",
   "execution_count": null,
   "metadata": {
    "execution": {
     "iopub.execute_input": "2021-06-07T12:22:03.328954Z",
     "iopub.status.busy": "2021-06-07T12:22:03.328618Z",
     "iopub.status.idle": "2021-06-07T12:22:14.649433Z",
     "shell.execute_reply": "2021-06-07T12:22:14.648676Z",
     "shell.execute_reply.started": "2021-06-07T12:22:03.328886Z"
    }
   },
   "outputs": [],
   "source": [
    "# score = model4.evaluate(x_train, y_train, verbose=1)\n",
    "# print('Train loss:', score[0])\n",
    "# print('Train accuracy:', score[1])\n",
    "# score = model4.evaluate(x_test, y_test, verbose=1)\n",
    "# print('Test loss:', score[0])\n",
    "# print('Test accuracy:', score[1])\n",
    "print ('Training Accuracy = ' + str(train_model.history['accuracy']))\n",
    "print ('Validation Accuracy = ' + str(train_model.history['val_accuracy']))"
   ]
  },
  {
   "cell_type": "code",
   "execution_count": null,
   "metadata": {},
   "outputs": [],
   "source": [
    "model4.save('InceptionV3_trained_model.h5')"
   ]
  },
  {
   "cell_type": "code",
   "execution_count": null,
   "metadata": {},
   "outputs": [],
   "source": [
    "predictions = model4.predict_classes(x_test, verbose=1)\n",
    "predictions_list = predictions.tolist()\n",
    "predicted_classes = lb.classes_\n",
    "\n",
    "count_true = 0;\n",
    "count_false = 0;\n",
    "\n",
    "for i, prediction in enumerate(predictions_list):\n",
    "    state = True\n",
    "    if (predicted_classes[prediction] != test_label[i]) :\n",
    "        state = False\n",
    "        count_false += 1\n",
    "    else :\n",
    "        count_true += 1\n",
    "    print(\"Prediction : \", predicted_classes[prediction], \"   |   Real class : \", test_label[i],  \"   |   Result : \", state)\n",
    "\n",
    "print(\"\\nNumber of success : \", count_true) \n",
    "print(\"Number of error : \", count_false) \n",
    "print(\"Error rate : \", count_true/len(test_label))"
   ]
  }
 ],
 "metadata": {
  "kernelspec": {
   "display_name": "Python 3",
   "language": "python",
   "name": "python3"
  },
  "language_info": {
   "codemirror_mode": {
    "name": "ipython",
    "version": 3
   },
   "file_extension": ".py",
   "mimetype": "text/x-python",
   "name": "python",
   "nbconvert_exporter": "python",
   "pygments_lexer": "ipython3",
   "version": "3.8.5"
  }
 },
 "nbformat": 4,
 "nbformat_minor": 4
}
