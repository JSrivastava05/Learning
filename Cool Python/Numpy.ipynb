{
 "cells": [
  {
   "cell_type": "code",
   "execution_count": 1,
   "metadata": {},
   "outputs": [
    {
     "name": "stdout",
     "output_type": "stream",
     "text": [
      "Mr. Mike Thomson\n",
      "Ms. Andria Bustle\n",
      "Mr. Robert Bustle\n"
     ]
    }
   ],
   "source": [
    "# Decorator funciton\n",
    "\n",
    "import operator\n",
    "\n",
    "def person_lister(name_format):\n",
    "    def inner(people):\n",
    "        # complete the function\n",
    "        return map(name_format, sorted(people, key=lambda x: int(x[2])))\n",
    "    return inner\n",
    "\n",
    "@person_lister # this means name_format=person_lister(name_format)\n",
    "def name_format(person):\n",
    "    return (\"Mr. \" if person[3] == \"M\" else \"Ms. \") + person[0] + \" \" + person[1]\n",
    "\n",
    "if __name__ == '__main__':\n",
    "    people = [['Mike', 'Thomson', 20, 'M'],['Robert', 'Bustle', 32, 'M'],['Andria', 'Bustle', 30, 'F']]\n",
    "    print ('\\n'.join(name_format(people)))"
   ]
  },
  {
   "cell_type": "code",
   "execution_count": 3,
   "metadata": {},
   "outputs": [
    {
     "data": {
      "text/plain": [
       "[['Mike', 'Thomson', 20, 'M'],\n",
       " ['Andria', 'Bustle', 30, 'F'],\n",
       " ['Robert', 'Bustle', 32, 'M']]"
      ]
     },
     "execution_count": 3,
     "metadata": {},
     "output_type": "execute_result"
    }
   ],
   "source": [
    "# Sorting list of lists by a key (age)\n",
    "people = sorted(people, key=lambda x: (x[2]))\n",
    "people"
   ]
  },
  {
   "cell_type": "code",
   "execution_count": 4,
   "metadata": {},
   "outputs": [
    {
     "data": {
      "text/plain": [
       "['Mike',\n",
       " 'Thomson',\n",
       " '20',\n",
       " 'M',\n",
       " 'Andria',\n",
       " 'Bustle',\n",
       " '30',\n",
       " 'F',\n",
       " 'Robert',\n",
       " 'Bustle',\n",
       " '32',\n",
       " 'M']"
      ]
     },
     "execution_count": 4,
     "metadata": {},
     "output_type": "execute_result"
    }
   ],
   "source": [
    "# Flattening a list of lists\n",
    "import numpy as np\n",
    "list(np.array(people).flat)"
   ]
  },
  {
   "cell_type": "code",
   "execution_count": 6,
   "metadata": {},
   "outputs": [
    {
     "data": {
      "text/plain": [
       "array(list(['insert', ' 0', ' 5']), dtype=object)"
      ]
     },
     "execution_count": 6,
     "metadata": {},
     "output_type": "execute_result"
    }
   ],
   "source": [
    "import numpy as np\n",
    "np.char.split('insert, 0, 5',',')"
   ]
  },
  {
   "cell_type": "code",
   "execution_count": null,
   "metadata": {},
   "outputs": [],
   "source": []
  }
 ],
 "metadata": {
  "kernelspec": {
   "display_name": "Python 3",
   "language": "python",
   "name": "python3"
  },
  "language_info": {
   "codemirror_mode": {
    "name": "ipython",
    "version": 3
   },
   "file_extension": ".py",
   "mimetype": "text/x-python",
   "name": "python",
   "nbconvert_exporter": "python",
   "pygments_lexer": "ipython3",
   "version": "3.8.5"
  }
 },
 "nbformat": 4,
 "nbformat_minor": 4
}
