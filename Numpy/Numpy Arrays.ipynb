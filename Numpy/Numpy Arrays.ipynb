{
 "cells": [
  {
   "cell_type": "markdown",
   "metadata": {},
   "source": [
    "# Array (Numeric) functions\n",
    "# basic functions:\n",
    "- np.array([],dtype='int')\n",
    "- np.random.randint(l,h,count)\n",
    "- np.arange(l,h,step,dtype)\n",
    "- arr.reshape([n,m])\n",
    "- np.empty(n,dtype='')\n",
    "- np.zeros(n,dtype='')\n",
    "- np.ones(n,dtype='')\n",
    "- np.fromiter(iterable,dtype='',count=-1)\n",
    "- np.linspace(l,h,num_count,dtype)\n",
    "- np.logspace(l,h,count,base)\n",
    "\n",
    "# Slicing\n",
    "- slice(start, stop, step)\n",
    "- np.s_[] # example - a[np.s_[::3]], a[np.s_[5:7]] (7 is not included-[5,6])\n",
    "\n",
    "# Conditions\n",
    "- arr[condition]\n",
    "- np.isnan(arr)\n",
    "- np.iscomplex(arr)\n",
    "\n",
    "# iterator object \n",
    "- np.nditer(arr) \n",
    "\n",
    "# transpose\n",
    "- a.T\n",
    "- arr.transpose()\n",
    "\n",
    "# Joining Arrays\n",
    "- np.concatenate((a,b),axis)\n",
    "- np.stack((a,b),axis)\n",
    "- np.hstack((a,b))\n",
    "- np.vstack((a,b))\n",
    "\n",
    "# Splitting Arrays\n",
    "- np.split(a,m)  # for 1d aray, m=Count of equal splits (3) or m = list of indexes to split from [2,4,7]\n",
    "- np.hsplit(a,m) # for 2 d array, horizontal split from m row\n",
    "- np.vsplit(a,m)  # for 2d array, vertical split from m column\n",
    "\n",
    "# Adding / Removing Elements\n",
    "- np.resize(a,n) # n can be integer to reduce or increase array size or tuple (n,m) to resize matrix\n",
    "- np.append(arr,[],axis)\n",
    "- np.insert(arr,pos, [],axis)\n",
    "- no.delete(a,pos,axis)\n",
    "- np.unique(a,return_index=True,return_inverse=True,return_counts=True)\n"
   ]
  },
  {
   "cell_type": "markdown",
   "metadata": {},
   "source": [
    "# array creation and basic functions"
   ]
  },
  {
   "cell_type": "code",
   "execution_count": 17,
   "metadata": {},
   "outputs": [
    {
     "name": "stdout",
     "output_type": "stream",
     "text": [
      "(5,)\n"
     ]
    },
    {
     "data": {
      "text/plain": [
       "(None, array([3974, 3192, 2126, 2998, 3251]))"
      ]
     },
     "execution_count": 17,
     "metadata": {},
     "output_type": "execute_result"
    }
   ],
   "source": [
    "import numpy as np\n",
    "a=np.array(np.random.randint(1,5000,5))\n",
    "print(a.shape),a"
   ]
  },
  {
   "cell_type": "code",
   "execution_count": 24,
   "metadata": {},
   "outputs": [
    {
     "data": {
      "text/plain": [
       "((2, 5),\n",
       " array([[4317, 1485, 2526, 4940, 4777],\n",
       "        [ 280,  622,   98,  923,  920]]))"
      ]
     },
     "execution_count": 24,
     "metadata": {},
     "output_type": "execute_result"
    }
   ],
   "source": [
    "# 2 dim Array\n",
    "aa=np.array([np.random.randint(1,5000,5),np.random.randint(1,1000,5)])\n",
    "aa.shape,aa"
   ]
  },
  {
   "cell_type": "code",
   "execution_count": 26,
   "metadata": {},
   "outputs": [
    {
     "data": {
      "text/plain": [
       "array([[4317, 1485],\n",
       "       [2526, 4940],\n",
       "       [4777,  280],\n",
       "       [ 622,   98],\n",
       "       [ 923,  920]])"
      ]
     },
     "execution_count": 26,
     "metadata": {},
     "output_type": "execute_result"
    }
   ],
   "source": [
    "aa.reshape(5,2)"
   ]
  },
  {
   "cell_type": "code",
   "execution_count": 33,
   "metadata": {},
   "outputs": [
    {
     "name": "stdout",
     "output_type": "stream",
     "text": [
      "4\n",
      "24\n",
      "8\n"
     ]
    }
   ],
   "source": [
    "# length of each element\n",
    "print(aa.itemsize)\n",
    "ab=np.array([('name','kjhgvc')])\n",
    "print(ab.itemsize)\n",
    "ab=np.array([1.2,2.3])\n",
    "print(ab.itemsize)"
   ]
  },
  {
   "cell_type": "code",
   "execution_count": 48,
   "metadata": {},
   "outputs": [
    {
     "data": {
      "text/plain": [
       "array([1898948208,        425,          0,          0,          1])"
      ]
     },
     "execution_count": 48,
     "metadata": {},
     "output_type": "execute_result"
    }
   ],
   "source": [
    "np.empty(5,dtype='int')\n",
    "#The elements in an array show random garbage values as they are not initialized."
   ]
  },
  {
   "cell_type": "code",
   "execution_count": 47,
   "metadata": {},
   "outputs": [
    {
     "data": {
      "text/plain": [
       "(array([0, 0, 0, 0, 0]),\n",
       " array(['', '', '', '', ''], dtype='<U1'),\n",
       " array([0., 0., 0., 0., 0.]))"
      ]
     },
     "execution_count": 47,
     "metadata": {},
     "output_type": "execute_result"
    }
   ],
   "source": [
    "np.zeros(5,dtype='int'),np.zeros(5,dtype='str'),np.zeros(5,dtype='double')"
   ]
  },
  {
   "cell_type": "code",
   "execution_count": 46,
   "metadata": {},
   "outputs": [
    {
     "data": {
      "text/plain": [
       "(array([1, 1, 1, 1, 1]),\n",
       " array(['1', '1', '1', '1', '1'], dtype='<U1'),\n",
       " array([1., 1., 1., 1., 1.]))"
      ]
     },
     "execution_count": 46,
     "metadata": {},
     "output_type": "execute_result"
    }
   ],
   "source": [
    "np.ones(5,dtype='int'),np.ones(5,dtype='str'),np.ones(5,dtype='float')"
   ]
  },
  {
   "cell_type": "code",
   "execution_count": 45,
   "metadata": {},
   "outputs": [
    {
     "data": {
      "text/plain": [
       "(array(['1', '3', '4', '5', '6', '6'], dtype='<U1'),\n",
       " array([1, 3, 4, 5, 6, 6]),\n",
       " array([1., 3., 4., 5., 6., 6.]))"
      ]
     },
     "execution_count": 45,
     "metadata": {},
     "output_type": "execute_result"
    }
   ],
   "source": [
    "# same as np.array with less params\n",
    "a=[1,3,4,5,6,6]\n",
    "np.asarray(a,dtype='str'),np.asarray(a,dtype='int'),np.asarray(a,dtype='double')"
   ]
  },
  {
   "cell_type": "code",
   "execution_count": 57,
   "metadata": {},
   "outputs": [
    {
     "data": {
      "text/plain": [
       "array([8, 5, 2, 8, 0, 8, 9])"
      ]
     },
     "execution_count": 57,
     "metadata": {},
     "output_type": "execute_result"
    }
   ],
   "source": [
    "# returns n-dim array from any iterable. Below code returns np array from list. count=-1 == read all data\n",
    "np.fromiter([8,5,2,8,0,8,9],dtype='int',count=-1)"
   ]
  },
  {
   "cell_type": "code",
   "execution_count": 28,
   "metadata": {},
   "outputs": [
    {
     "data": {
      "text/plain": [
       "array([0, 1, 2, 3, 4, 5, 6, 7, 8, 9])"
      ]
     },
     "execution_count": 28,
     "metadata": {},
     "output_type": "execute_result"
    }
   ],
   "source": [
    "np.arange(10)"
   ]
  },
  {
   "cell_type": "code",
   "execution_count": 59,
   "metadata": {},
   "outputs": [
    {
     "data": {
      "text/plain": [
       "array([  0.,  30.,  60.,  90., 120., 150., 180., 210., 240., 270., 300.,\n",
       "       330., 360., 390., 420., 450., 480., 510., 540., 570., 600., 630.,\n",
       "       660., 690., 720., 750., 780., 810., 840., 870., 900., 930., 960.,\n",
       "       990.])"
      ]
     },
     "execution_count": 59,
     "metadata": {},
     "output_type": "execute_result"
    }
   ],
   "source": [
    "np.arange(0,1000,30,dtype='float')"
   ]
  },
  {
   "cell_type": "code",
   "execution_count": 69,
   "metadata": {},
   "outputs": [
    {
     "data": {
      "text/plain": [
       "(array([ 0. , 12.5, 25. , 37.5, 50. ]), array([ 0., 10., 20., 30., 40.]))"
      ]
     },
     "execution_count": 69,
     "metadata": {},
     "output_type": "execute_result"
    }
   ],
   "source": [
    "# same as arange but evenly spaces values\n",
    "np.linspace(0,50,5,dtype='float'),np.linspace(0,50,5,dtype='float',endpoint = False)"
   ]
  },
  {
   "cell_type": "code",
   "execution_count": 73,
   "metadata": {},
   "outputs": [
    {
     "name": "stdout",
     "output_type": "stream",
     "text": [
      "[   2.    4.    8.   16.   32.   64.  128.  256.  512. 1024.]\n",
      "[ 10.          12.91549665  16.68100537  21.5443469   27.82559402\n",
      "  35.93813664  46.41588834  59.94842503  77.42636827 100.        ]\n"
     ]
    }
   ],
   "source": [
    "print(np.logspace(1,10,num=10,base=2))\n",
    "# 10   base^1\n",
    "# 10   base^10\n",
    "# num  count of numbers to print\n",
    "# base log base\n",
    "print(np.logspace(1,2,num=10,base=10))"
   ]
  },
  {
   "cell_type": "markdown",
   "metadata": {},
   "source": [
    "# Array slice"
   ]
  },
  {
   "cell_type": "code",
   "execution_count": 238,
   "metadata": {},
   "outputs": [
    {
     "name": "stdout",
     "output_type": "stream",
     "text": [
      "[80 18 87 22 59] slice(2, 50, 2) [87 59]\n",
      "80 [18 87 22 59] [87 22]\n",
      "[[2 3 4]\n",
      " [3 4 2]]\n",
      "1st row :  [1 2 3] \n",
      "2nd row :  [2 3 4] \n",
      "3rd row :  [3 4 2]\n",
      "[[2 3]\n",
      " [3 4]\n",
      " [4 2]]\n",
      "[[4]]\n",
      "[0 1 2 3 4 5 6 7 8 9]\n",
      "Sliced a  [0 3 6 9]\n"
     ]
    }
   ],
   "source": [
    "# slice pt 1\n",
    "a=np.random.randint(1,100,5)\n",
    "s=slice(2,50,2) #start, stop, and step\n",
    "print(a,s,a[s])\n",
    "# slice pt 2\n",
    "print(a[0],a[1:],a[2:4])\n",
    "print(np.array([[1,2,3],[2,3,4],[3,4,2]])[1:])\n",
    "# Slicing can also include ellipsis (…) to make a selection tuple of the same length as the dimension of an array. \n",
    "# If ellipsis is used at the row position, it will return an ndarray comprising of items in rows.\n",
    "a=np.array([[1,2,3],[2,3,4],[3,4,2]])\n",
    "print('1st row : ', a[...,0],'\\n2nd row : ',a[...,1],'\\n3rd row : ',a[...,2])\n",
    "print(a[...,1:])\n",
    "print(a[1:2,2:3])\n",
    "a=np.arange(10)\n",
    "print(a)\n",
    "print(\"Sliced a \",a[np.s_[::3]])"
   ]
  },
  {
   "cell_type": "code",
   "execution_count": 99,
   "metadata": {},
   "outputs": [
    {
     "data": {
      "text/plain": [
       "(array([49, 64, 79, 74, 37,  2, 23, 83, 45, 10, 16, 19, 98, 83, 84, 87, 90,\n",
       "        10, 98, 24]),\n",
       " array([64, 79, 74, 83, 98, 83, 84, 87, 90, 98]))"
      ]
     },
     "execution_count": 99,
     "metadata": {},
     "output_type": "execute_result"
    }
   ],
   "source": [
    "a=np.random.randint(1,100,20)\n",
    "a,a[a>50]"
   ]
  },
  {
   "cell_type": "code",
   "execution_count": 103,
   "metadata": {},
   "outputs": [
    {
     "data": {
      "text/plain": [
       "(array([1., 2., 3.]), array([nan, nan, nan]))"
      ]
     },
     "execution_count": 103,
     "metadata": {},
     "output_type": "execute_result"
    }
   ],
   "source": [
    "a=np.array([np.nan,1,np.nan,2,np.nan,3])\n",
    "a[~np.isnan(a)],a[np.isnan(a)]"
   ]
  },
  {
   "cell_type": "code",
   "execution_count": 104,
   "metadata": {},
   "outputs": [
    {
     "data": {
      "text/plain": [
       "(array([1.+6.j, 2.+9.j]), array([2.+0.j, 3.+0.j]))"
      ]
     },
     "execution_count": 104,
     "metadata": {},
     "output_type": "execute_result"
    }
   ],
   "source": [
    "a=np.array([1+6j,2+9j,2,3])\n",
    "a[np.iscomplex(a)],a[~np.iscomplex(a)]"
   ]
  },
  {
   "cell_type": "markdown",
   "metadata": {},
   "source": [
    "# Broadcasting"
   ]
  },
  {
   "cell_type": "code",
   "execution_count": 108,
   "metadata": {},
   "outputs": [
    {
     "data": {
      "text/plain": [
       "(array([ 10,  40,  90, 160]),\n",
       " array([11, 22, 33, 44]),\n",
       " array([ -9, -18, -27, -36]),\n",
       " array([0.1, 0.1, 0.1, 0.1]))"
      ]
     },
     "execution_count": 108,
     "metadata": {},
     "output_type": "execute_result"
    }
   ],
   "source": [
    "a=np.array([1,2,3,4])\n",
    "b=np.array([10,20,30,40])\n",
    "a*b,a+b,a-b,a/b"
   ]
  },
  {
   "cell_type": "markdown",
   "metadata": {},
   "source": [
    "# iterator object "
   ]
  },
  {
   "cell_type": "code",
   "execution_count": 110,
   "metadata": {},
   "outputs": [
    {
     "name": "stdout",
     "output_type": "stream",
     "text": [
      "0\n",
      "20\n",
      "40\n",
      "60\n",
      "80\n"
     ]
    }
   ],
   "source": [
    "a=np.arange(0,100,20)\n",
    "for i in np.nditer(a):\n",
    "    print(i)"
   ]
  },
  {
   "cell_type": "code",
   "execution_count": 122,
   "metadata": {},
   "outputs": [
    {
     "data": {
      "text/plain": [
       "array([ 0,  2,  4,  6,  8, 10, 12, 14, 16, 18, 20, 22, 24, 26, 28, 30, 32,\n",
       "       34, 36, 38, 40, 42, 44, 46, 48, 50, 52, 54, 56, 58, 60, 62, 64, 66,\n",
       "       68, 70, 72, 74, 76, 78, 80, 82, 84, 86, 88, 90, 92, 94, 96, 98])"
      ]
     },
     "execution_count": 122,
     "metadata": {},
     "output_type": "execute_result"
    }
   ],
   "source": [
    "a=np.arange(0,100,2)\n",
    "a.reshape(25,2)\n",
    "a"
   ]
  },
  {
   "cell_type": "code",
   "execution_count": 129,
   "metadata": {
    "collapsed": true
   },
   "outputs": [
    {
     "name": "stdout",
     "output_type": "stream",
     "text": [
      "0 : 0\n",
      "2 : 1\n",
      "4 : 2\n",
      "6 : 3\n",
      "8 : 4\n",
      "10 : 5\n",
      "12 : 6\n",
      "14 : 7\n",
      "16 : 8\n",
      "18 : 9\n",
      "20 : 10\n",
      "22 : 11\n",
      "24 : 12\n",
      "26 : 13\n",
      "28 : 14\n",
      "30 : 15\n",
      "32 : 16\n",
      "34 : 17\n",
      "36 : 18\n",
      "38 : 19\n",
      "40 : 20\n",
      "42 : 21\n",
      "44 : 22\n",
      "46 : 23\n",
      "48 : 24\n",
      "50 : 25\n",
      "52 : 26\n",
      "54 : 27\n",
      "56 : 28\n",
      "58 : 29\n",
      "60 : 30\n",
      "62 : 31\n",
      "64 : 32\n",
      "66 : 33\n",
      "68 : 34\n",
      "70 : 35\n",
      "72 : 36\n",
      "74 : 37\n",
      "76 : 38\n",
      "78 : 39\n",
      "80 : 40\n",
      "82 : 41\n",
      "84 : 42\n",
      "86 : 43\n",
      "88 : 44\n",
      "90 : 45\n",
      "92 : 46\n",
      "94 : 47\n",
      "96 : 48\n",
      "98 : 49\n"
     ]
    }
   ],
   "source": [
    "for i,j in np.nditer([a,np.arange(len(a))]):\n",
    "    print(i,\":\",j)"
   ]
  },
  {
   "cell_type": "markdown",
   "metadata": {},
   "source": [
    "# array changing shape:"
   ]
  },
  {
   "cell_type": "code",
   "execution_count": 148,
   "metadata": {},
   "outputs": [
    {
     "name": "stdout",
     "output_type": "stream",
     "text": [
      "[[1 2 3]\n",
      " [4 5 6]\n",
      " [7 8 9]]\n",
      "<numpy.flatiter object at 0x000001A9724008A0> [1, 2, 3, 4, 5, 6, 7, 8, 9]\n",
      "[1 2 3 4 5 6 7 8 9]\n",
      "[1 2 7 9 5]\n"
     ]
    }
   ],
   "source": [
    "a=np.arange(1,10,1)\n",
    "a=a.reshape(3,3)\n",
    "print(a)\n",
    "print(a.flat,[i for i in a.flat])\n",
    "print(a.flatten())\n",
    "print(np.array([1,2,7,9,5]).ravel())"
   ]
  },
  {
   "cell_type": "markdown",
   "metadata": {},
   "source": [
    "# transpose\n",
    "- a.T\n",
    "- arr.transpose()"
   ]
  },
  {
   "cell_type": "code",
   "execution_count": 161,
   "metadata": {},
   "outputs": [
    {
     "name": "stdout",
     "output_type": "stream",
     "text": [
      "[[1 2 3]\n",
      " [4 5 6]\n",
      " [7 8 9]]\n",
      "[[1 4 7]\n",
      " [2 5 8]\n",
      " [3 6 9]]\n",
      "[[1 4 7]\n",
      " [2 5 8]\n",
      " [3 6 9]]\n",
      "[[2 5 8]\n",
      " [1 4 7]\n",
      " [3 6 9]]\n"
     ]
    }
   ],
   "source": [
    "# Transpose Operations\n",
    "print(a)\n",
    "print(a.transpose())\n",
    "print(a.T)\n",
    "a=np.array([a[...,1],a[...,0],a[...,2]])\n",
    "print(a)"
   ]
  },
  {
   "cell_type": "markdown",
   "metadata": {},
   "source": [
    "# Joining Arrays\n",
    "- np.concatenate((a,b),axis)\n",
    "- np.stack((a,b),axis)\n",
    "- np.hstack((a,b))\n",
    "- np.vstack((a,b))"
   ]
  },
  {
   "cell_type": "code",
   "execution_count": 178,
   "metadata": {},
   "outputs": [
    {
     "name": "stdout",
     "output_type": "stream",
     "text": [
      "[[1 2 3]\n",
      " [4 5 6]\n",
      " [7 8 9]]\n",
      "[[ 2  3  4]\n",
      " [ 5  6  7]\n",
      " [ 8  9 10]]\n",
      "[[1 2 3]\n",
      " [4 5 6]\n",
      " [7 8 9]\n",
      " [1 4 7]\n",
      " [2 5 8]\n",
      " [3 6 9]]\n",
      "row concatenation : \n",
      " [[1 2 3]\n",
      " [4 5 6]\n",
      " [7 8 9]\n",
      " [1 4 7]\n",
      " [2 5 8]\n",
      " [3 6 9]]\n",
      "Column concatenation :\n",
      " [[1 2 3 1 4 7]\n",
      " [4 5 6 2 5 8]\n",
      " [7 8 9 3 6 9]]\n"
     ]
    }
   ],
   "source": [
    "# Joining arrays pt-1 : \n",
    "a=np.arange(1,10,1)\n",
    "a=a.reshape(3,3)\n",
    "print(a)\n",
    "print(a+[1,1,1])\n",
    "print(np.concatenate((a,a.T))) # parentheses are imp\n",
    "print('row concatenation : \\n',np.concatenate((a,a.T),axis=0)) # \n",
    "print('Column concatenation :\\n',np.concatenate((a,a.T),axis=1)) # "
   ]
  },
  {
   "cell_type": "code",
   "execution_count": 184,
   "metadata": {
    "collapsed": true
   },
   "outputs": [
    {
     "name": "stdout",
     "output_type": "stream",
     "text": [
      "stack axis - 0 : \n",
      " [[[1 2]\n",
      "  [3 4]]\n",
      "\n",
      " [[1 2]\n",
      "  [3 4]]]\n",
      "stack axis - 1 : \n",
      " [[[1 2]\n",
      "  [1 2]]\n",
      "\n",
      " [[3 4]\n",
      "  [3 4]]]\n",
      "hstack : \n",
      " [[1 2 1 2]\n",
      " [3 4 3 4]]\n",
      "vstack : \n",
      " [[1 2]\n",
      " [3 4]\n",
      " [1 2]\n",
      " [3 4]]\n"
     ]
    }
   ],
   "source": [
    "# Joining arrays pt-2 : \n",
    "# stack function - This function joins the sequence of arrays along a new axis. \n",
    "a=np.array([[1,2],[3,4]])\n",
    "b=np.array([[1,2],[3,4]])\n",
    "print('stack axis - 0 : \\n',np.stack((a,b),axis=0))\n",
    "print('stack axis - 1 : \\n',np.stack((a,b),axis=1))\n",
    "# Variants of numpy.stack function to stack so as to make a single array horizontally/vertically.\n",
    "print('hstack : \\n',np.hstack((a,b)))\n",
    "print('vstack : \\n',np.vstack((a,b)))"
   ]
  },
  {
   "cell_type": "markdown",
   "metadata": {},
   "source": [
    "# Splitting Arrays\n",
    "- np.split(a,m)  # for 1d aray, m=Count of equal splits (3) or m = list of indexes to split from [2,4,7]\n",
    "- np.hsplit(a,m) # for 2 d array, horizontal split from m row\n",
    "- np.vsplit(a,m)  # for 2d array, vertical split from m column"
   ]
  },
  {
   "cell_type": "code",
   "execution_count": 198,
   "metadata": {},
   "outputs": [
    {
     "name": "stdout",
     "output_type": "stream",
     "text": [
      "Array :  [0 1 2 3 4 5 6 7 8]\n",
      "Split the array in 3 equal-sized subarrays :  [array([0, 1, 2]), array([3, 4, 5]), array([6, 7, 8])]\n",
      "Split the array in given indexes 4 and 7 :  [array([0, 1, 2, 3]), array([4, 5, 6]), array([7, 8])]\n",
      "Split the array in given indexes 2, 4, 6 and 8 :  [array([0, 1]), array([2, 3]), array([4, 5]), array([6, 7]), array([8])]\n",
      "Array :  [[ 0  1  2  3]\n",
      " [ 4  5  6  7]\n",
      " [ 8  9 10 11]\n",
      " [12 13 14 15]]\n",
      "hsplit : \n",
      " [array([[ 0,  1],\n",
      "       [ 4,  5],\n",
      "       [ 8,  9],\n",
      "       [12, 13]]), array([[ 2,  3],\n",
      "       [ 6,  7],\n",
      "       [10, 11],\n",
      "       [14, 15]])]\n",
      "vsplit : \n",
      " [array([[0, 1, 2, 3],\n",
      "       [4, 5, 6, 7]]), array([[ 8,  9, 10, 11],\n",
      "       [12, 13, 14, 15]])]\n"
     ]
    }
   ],
   "source": [
    "# Spliting arrays : split, hsplit, vsplit\n",
    "a=np.arange(9)\n",
    "print('Array : ', a)\n",
    "print('Split the array in 3 equal-sized subarrays : ',np.split(a,3))\n",
    "print('Split the array in given indexes 4 and 7 : ',np.split(a,[4,7])) \n",
    "print('Split the array in given indexes 2, 4, 6 and 8 : ',np.split(a,[2,4,6,8])) \n",
    "# hsplit, vsplit\n",
    "a=np.arange(16).reshape(4,4)\n",
    "print('Array : ',a)\n",
    "print('hsplit : \\n',np.hsplit(a,2))\n",
    "print('vsplit : \\n',np.vsplit(a,2))"
   ]
  },
  {
   "cell_type": "markdown",
   "metadata": {},
   "source": [
    "# Adding / Removing Elements\n",
    "- np.resize(a,n) # n can be integer to reduce or increase array size or tuple (n,m) to resize matrix\n",
    "- np.append(arr,[],axis)\n",
    "- np.insert(arr,pos, [],axis)\n",
    "- no.delete(a,pos,axis)\n",
    "- np.unique(a,return_index=True,return_inverse=True,return_counts=True)\n"
   ]
  },
  {
   "cell_type": "code",
   "execution_count": 255,
   "metadata": {
    "collapsed": true
   },
   "outputs": [
    {
     "name": "stdout",
     "output_type": "stream",
     "text": [
      "a= [0 1 2 3 4]\n",
      "resizing to lesser size :  [0 1 2]\n",
      "resizing to larger size :  [0 1 2 3 4 0 1 2]\n",
      "a= [[1 2 3]\n",
      " [1 2 3]]\n",
      "matrix resize :  [[1 2]\n",
      " [3 1]\n",
      " [2 3]]\n",
      "append 1d array :  [1 2 3 1 2 3 0 1 2]\n",
      "a= [[1 2 3]\n",
      " [1 2 3]]\n",
      "append 2d array axis=0 :  [[1 2 3]\n",
      " [1 2 3]\n",
      " [3 4 5]]\n",
      "append 2d array axis=1 :  [[1 2 3 3]\n",
      " [1 2 3 4]]\n",
      "Insertion - \n",
      "a= [[0 1 2 3 4]\n",
      " [5 6 7 8 9]]\n",
      "insert 3rd row :  [0 1 1 2 3 4 5 2 3 4 5 6 7 8 9]\n",
      "insert 3rd row :  [[1 2 3 4 5]\n",
      " [0 1 2 3 4]\n",
      " [5 6 7 8 9]]\n",
      "a= [[1 2 3 7 8]\n",
      " [0 1 2 3 4]\n",
      " [5 6 7 8 9]]\n",
      "Delete - \n",
      "Delete first row from axis 0 in 2d array :  [[0 1 2 3 4]\n",
      " [5 6 7 8 9]]\n",
      "a= [0 1 2 3 4 5 6 7 8 9]\n",
      "Delete 7th element from 1d array :  [0 1 2 3 4 5 6 8 9]\n",
      "Delete the slices :  [1 3 5 7 9]\n",
      "Unique : \n",
      "a= [1 2 2 1 1 3 1 2 2 3]\n",
      "Unique array from a:  [1 2 3]\n",
      "Unique return indexes (2nd array is index) :  [1 2 3] [0 1 5]\n",
      "Unique return index, return inverse :  [1 2 3] [0 1 5] [0 1 1 0 0 2 0 1 1 2]\n",
      "Unique, return_index, return_inverse return_count :  [1 2 3] [0 1 5] [0 1 1 0 0 2 0 1 1 2] [4 4 2]\n"
     ]
    }
   ],
   "source": [
    "# resize: returns a new array with the specified size.If the new size is greater than the original, the repeated copies of entries in the original are contained\n",
    "a=np.arange(5)\n",
    "print('a=',a)\n",
    "print('resizing to lesser size : ',np.resize(a,3))\n",
    "print('resizing to larger size : ',np.resize(a,8))\n",
    "a=np.array([[1,2,3],[1,2,3]])\n",
    "print('a=',a)\n",
    "print('matrix resize : ', np.resize(a,(3,2)))\n",
    "print('append 1d array : ',np.append(a,np.arange(3)))\n",
    "print('a=',a)\n",
    "print('append 2d array axis=0 : ',np.append(a,[[3,4,5]],axis=0))\n",
    "print('append 2d array axis=1 : ',np.append(a,[[3],[4]],axis=1))\n",
    "\n",
    "print('Insertion - ')\n",
    "#function inserts values in the input array along the given axis and before the given index. \n",
    "# If the type of values is converted to be inserted, it is different from the input array. \n",
    "# Insertion is not done in place and the function returns a new array. Also, if the axis is not mentioned, \n",
    "# the input array is flattened.\n",
    "a=np.arange(10).reshape(2,5)\n",
    "print('a=',a)\n",
    "print('insert 3rd row : ', np.insert(a,2,[1,2,3,4,5])) # no axis flattens the array\n",
    "print('insert 3rd row : ', np.insert(a,0,[1,2,3,4,5],axis=0)) # axis appends to given axis at given place\n",
    "a=np.insert(a,0,[[1,2,3,7,8]],axis=0)\n",
    "print('a=',a)\n",
    "print('Delete - ')\n",
    "print('Delete first row from axis 0 in 2d array : ',np.delete(a,0,axis=0))\n",
    "a=np.arange(10)\n",
    "print('a=',a)\n",
    "print('Delete 7th element from 1d array : ', np.delete(a,7))\n",
    "print('Delete the slices : ', np.delete(a,np.s_[::2]))\n",
    "print('Unique : ')\n",
    "a=np.array([1,2,2,1,1,3,1,2,2,3])\n",
    "# very important\n",
    "print(\"a=\",a)\n",
    "print('Unique array from a: ',np.unique(a))\n",
    "b,ind=np.unique(a,return_index=True)\n",
    "print('Unique return indexes (2nd array is index) : ', b,ind)\n",
    "b,ind,inv=np.unique(a,return_index=True,return_inverse=True)\n",
    "print('Unique return index, return inverse : ',b,ind,inv)\n",
    "# If True, returns the indices of unique array, which can be used to reconstruct the input array\n",
    "b,ind,inv,cnt=np.unique(a,return_index=True,return_inverse=True,return_counts=True)\n",
    "print('Unique, return_index, return_inverse return_count : ',b,ind,inv,cnt)"
   ]
  },
  {
   "cell_type": "code",
   "execution_count": 257,
   "metadata": {},
   "outputs": [
    {
     "name": "stdout",
     "output_type": "stream",
     "text": [
      "['(' '(' ')' ')' ')' ')' ')' '(' '(' '(' '(' ')' ')' ')' ')' ')' ')']\n"
     ]
    },
    {
     "data": {
      "text/plain": [
       "(array(['(', ')'], dtype='<U1'),\n",
       " array([0, 2], dtype=int64),\n",
       " array([0, 0, 1, 1, 1, 1, 1, 0, 0, 0, 0, 1, 1, 1, 1, 1, 1], dtype=int64),\n",
       " array([ 6, 11], dtype=int64))"
      ]
     },
     "execution_count": 257,
     "metadata": {},
     "output_type": "execute_result"
    }
   ],
   "source": [
    "a='(()))))(((())))))'\n",
    "b=np.array(list(a))\n",
    "print(b)\n",
    "np.unique(b,return_index=True,return_inverse=True,return_counts=True)"
   ]
  },
  {
   "cell_type": "code",
   "execution_count": null,
   "metadata": {},
   "outputs": [],
   "source": []
  },
  {
   "cell_type": "code",
   "execution_count": null,
   "metadata": {},
   "outputs": [],
   "source": []
  }
 ],
 "metadata": {
  "kernelspec": {
   "display_name": "Python 3",
   "language": "python",
   "name": "python3"
  },
  "language_info": {
   "codemirror_mode": {
    "name": "ipython",
    "version": 3
   },
   "file_extension": ".py",
   "mimetype": "text/x-python",
   "name": "python",
   "nbconvert_exporter": "python",
   "pygments_lexer": "ipython3",
   "version": "3.8.5"
  }
 },
 "nbformat": 4,
 "nbformat_minor": 4
}
