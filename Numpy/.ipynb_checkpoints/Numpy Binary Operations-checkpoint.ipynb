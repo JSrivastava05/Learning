{
 "cells": [
  {
   "cell_type": "markdown",
   "metadata": {},
   "source": [
    "# Binary Operators\n",
    "\n",
    "### Conversion\n",
    "- bin(a)\n",
    "- oct(a)\n",
    "- hex(a)\n",
    "\n",
    "### Operators : a,b can be int or list or matrix\n",
    "- np.bitwise_and(a,b)\n",
    "- np.bitwise_not(a) or np.invert(a)\n",
    "- np.bitwise_or(a,b)\n",
    "- np.bitwise_xor(a,b)\n",
    "\n",
    "### Binary Representation\n",
    "- np.binary_repr(a,width=8/16..)\n",
    "- np.binary_repr(np.left_shift(a,shiftstep),width=8) # with function\n",
    "\n",
    "### Left and right shift\n",
    "- np.left_shift()\n",
    "- np.right_shift()\n"
   ]
  },
  {
   "cell_type": "code",
   "execution_count": 2,
   "metadata": {},
   "outputs": [
    {
     "name": "stdout",
     "output_type": "stream",
     "text": [
      "Binary of 13 : 0b1101, Binary of 3 : 0b11\n",
      "Oct of 13 : 0o15, Oct of 3 : 0o3\n",
      "Hex of 13 : 0xd, Hex of 3 : 0x3\n",
      "Bitwise and of 13 and 3 :  1\n",
      "Bitwise not of 13 : -14 and bitwise not of 3 : -4\n",
      "Invert of 13 : -14 and Invert of 3 : -4\n",
      "Invert np.array([13]) : ,  [242]\n",
      "Invert np.array([13]) : ,  [-14]\n",
      "Difference is due to dtype\n",
      "Bitwise or of 13 and 3 :  15\n",
      "Bitwise xor of 13 and 3 :  14\n",
      "Bitwise and of [1, 2, 3] and [1, 4, 5] :  [1 0 1]\n",
      "Bitwise and of [[1, 2, 3], [3, 4, 5]] and [[1, 4, 5], [4, 4, 6]] :  [[1 0 1]\n",
      " [0 4 4]]\n",
      "8 Bit Binary Representation of 13 : 00001101\n",
      "16 bit Binary Representation of 13 : 0000000000001101\n",
      "Shift 10 to left by 2 positions 00101000\n",
      "Shift 10 to right by 2 positions 00000010\n"
     ]
    }
   ],
   "source": [
    "import numpy as np\n",
    "a,b=13,3\n",
    "print(F'Binary of {a} : {bin(a)}, Binary of {b} : {bin(b)}')\n",
    "print(F'Oct of {a} : {oct(a)}, Oct of {b} : {oct(b)}')\n",
    "print(F'Hex of {a} : {hex(a)}, Hex of {b} : {hex(b)}')\n",
    "# bitwise_and \n",
    "print(F'Bitwise and of {a} and {b} : ', np.bitwise_and(a,b))\n",
    "# bitwise_not\n",
    "print(F'Bitwise not of {a} : {np.bitwise_not(a)} and bitwise not of {b} : {np.bitwise_not(b)}')\n",
    "# bitwise_not and invert both are same\n",
    "print(F'Invert of {a} : {np.invert(a)} and Invert of {b} : {np.bitwise_not(b)}')\n",
    "print('Invert np.array([13]) : , ',np.invert(np.array([13], dtype = np.uint8)) )\n",
    "print('Invert np.array([13]) : , ',np.invert(np.array([13]) ))\n",
    "print('Difference is due to dtype')\n",
    "# bitwise_or\n",
    "print(F'Bitwise or of {a} and {b} : ', np.bitwise_or(a,b))\n",
    "# bitwise_xor\n",
    "print(F'Bitwise xor of {a} and {b} : ', np.bitwise_xor(a,b))\n",
    "# bitwise and on list, matrix \n",
    "a=[1,2,3]\n",
    "b=[1,4,5]\n",
    "print(F'Bitwise and of {a} and {b} : ', np.bitwise_and(a,b))\n",
    "a=[[1,2,3],[3,4,5]]\n",
    "b=[[1,4,5],[4,4,6]]\n",
    "print(F'Bitwise and of {a} and {b} : ', np.bitwise_and(a,b))\n",
    "print(F'8 Bit Binary Representation of 13 : {np.binary_repr(13,width=8)}')\n",
    "print(F'16 bit Binary Representation of 13 : {np.binary_repr(13,width=16)}')\n",
    "print(F'Shift 10 to left by 2 positions {np.binary_repr(np.left_shift(10,2),width=8)}')\n",
    "print(F'Shift 10 to right by 2 positions {np.binary_repr(np.right_shift(10,2),width=8)}')"
   ]
  },
  {
   "cell_type": "code",
   "execution_count": null,
   "metadata": {},
   "outputs": [],
   "source": []
  }
 ],
 "metadata": {
  "kernelspec": {
   "display_name": "Python 3",
   "language": "python",
   "name": "python3"
  },
  "language_info": {
   "codemirror_mode": {
    "name": "ipython",
    "version": 3
   },
   "file_extension": ".py",
   "mimetype": "text/x-python",
   "name": "python",
   "nbconvert_exporter": "python",
   "pygments_lexer": "ipython3",
   "version": "3.8.5"
  }
 },
 "nbformat": 4,
 "nbformat_minor": 4
}
