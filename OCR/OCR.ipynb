{
 "cells": [
  {
   "cell_type": "code",
   "execution_count": 3,
   "metadata": {},
   "outputs": [
    {
     "name": "stdout",
     "output_type": "stream",
     "text": [
      "Collecting pillow\n",
      "  Downloading Pillow-9.2.0-cp38-cp38-win_amd64.whl (3.3 MB)\n",
      "Installing collected packages: pillow\n",
      "Successfully installed pillow-9.2.0\n",
      "Requirement already satisfied: pytesseract in c:\\users\\jaysriva\\anaconda3\\lib\\site-packages (0.3.7)\n",
      "Collecting Pillow\n",
      "  Downloading Pillow-9.2.0-cp38-cp38-win_amd64.whl (3.3 MB)\n",
      "Installing collected packages: Pillow\n",
      "Successfully installed Pillow-9.2.0\n"
     ]
    }
   ],
   "source": [
    "!pip install pillow"
   ]
  },
  {
   "cell_type": "code",
   "execution_count": 4,
   "metadata": {},
   "outputs": [
    {
     "name": "stdout",
     "output_type": "stream",
     "text": [
      "dict_keys(['level', 'page_num', 'block_num', 'par_num', 'line_num', 'word_num', 'left', 'top', 'width', 'height', 'conf', 'text'])\n"
     ]
    }
   ],
   "source": [
    "import cv2\n",
    "import pytesseract\n",
    "from pytesseract import Output\n",
    "pytesseract.pytesseract.tesseract_cmd = r'C:\\Users\\jaysriva\\AppData\\Local\\Programs\\Tesseract-OCR\\tesseract.exe'\n",
    "img = cv2.imread(r'C:\\Users\\jaysriva\\Documents\\Learning\\NLP\\Tobacco3482-jpg\\Email\\2505413292.jpg')\n",
    "d = pytesseract.image_to_data(img, output_type=Output.DICT)\n",
    "print(d.keys())"
   ]
  },
  {
   "cell_type": "code",
   "execution_count": 5,
   "metadata": {},
   "outputs": [
    {
     "data": {
      "text/plain": [
       "'         2505413292         Viol, Brigitte a vA  From: Dino, Salvatore Le;  Sent: Friday, September 18, 1998 4:32 PM   To: Geffe, Johannes; Bauer, Stefan; Pfeil, Reinhard   Ce: Drumm, Lori; Lehner, Robert; Gomm, Willy   Subject: Deutsche Telekom Assessment   Dear all,    You received on Friday 18th a note fram Jean-Marc Genier which explains the status and responsibilities concerning  the MIS Business Partners Assessment in the EU Region. As you saw in the \"Roles & Bee peperlite table, EU is  responsible for the assessment of Deutsche Telekom. We already received a fax from INBIFO saying that Deutche  Telekom answered to their RFi and that they confirmed in writing to comply with ali Y2K requirements in due course.    Deutsche Telekom is a High critical MIS Business Partner and our methodology requires an on-site survey. We see  here a synergy opportunity between PMF and INBIFO (and of course KJS Germany). Could you please discuss  together and Jet us know who is going to take in charge the visit.    Best regards,    Salvatore Dino   MIS BP Program Assistant (PM EU),  EDC - Switzerland   phone: +4121 618 76 51   fax: +4121 634 21 67'"
      ]
     },
     "execution_count": 5,
     "metadata": {},
     "output_type": "execute_result"
    }
   ],
   "source": [
    "' '.join(d['text'])"
   ]
  },
  {
   "cell_type": "markdown",
   "metadata": {},
   "source": [
    "# TIKA OCR for readable PDFs"
   ]
  },
  {
   "cell_type": "code",
   "execution_count": 6,
   "metadata": {},
   "outputs": [
    {
     "name": "stdout",
     "output_type": "stream",
     "text": [
      "Requirement already satisfied: tika in c:\\users\\jaysriva\\anaconda3\\lib\\site-packages (1.24)\n",
      "Requirement already satisfied: setuptools in c:\\users\\jaysriva\\anaconda3\\lib\\site-packages (from tika) (50.3.1.post20201107)\n",
      "Requirement already satisfied: requests in c:\\users\\jaysriva\\anaconda3\\lib\\site-packages (from tika) (2.24.0)\n",
      "Requirement already satisfied: idna<3,>=2.5 in c:\\users\\jaysriva\\anaconda3\\lib\\site-packages (from requests->tika) (2.10)\n",
      "Requirement already satisfied: certifi>=2017.4.17 in c:\\users\\jaysriva\\anaconda3\\lib\\site-packages (from requests->tika) (2020.6.20)\n",
      "Requirement already satisfied: urllib3!=1.25.0,!=1.25.1,<1.26,>=1.21.1 in c:\\users\\jaysriva\\anaconda3\\lib\\site-packages (from requests->tika) (1.25.11)\n",
      "Requirement already satisfied: chardet<4,>=3.0.2 in c:\\users\\jaysriva\\anaconda3\\lib\\site-packages (from requests->tika) (3.0.4)\n"
     ]
    }
   ],
   "source": [
    "!pip install tika"
   ]
  },
  {
   "cell_type": "code",
   "execution_count": 7,
   "metadata": {},
   "outputs": [
    {
     "name": "stderr",
     "output_type": "stream",
     "text": [
      "2022-08-19 17:42:26,981 [MainThread  ] [INFO ]  Retrieving http://search.maven.org/remotecontent?filepath=org/apache/tika/tika-server/1.24/tika-server-1.24.jar to C:\\Users\\jaysriva\\AppData\\Local\\Temp\\tika-server.jar.\n",
      "2022-08-19 18:17:08,025 [MainThread  ] [INFO ]  Retrieving http://search.maven.org/remotecontent?filepath=org/apache/tika/tika-server/1.24/tika-server-1.24.jar.md5 to C:\\Users\\jaysriva\\AppData\\Local\\Temp\\tika-server.jar.md5.\n",
      "2022-08-19 18:17:12,218 [MainThread  ] [WARNI]  Failed to see startup log message; retrying...\n"
     ]
    },
    {
     "name": "stdout",
     "output_type": "stream",
     "text": [
      "\n",
      "\n",
      "\n",
      "\n",
      "\n",
      "\n",
      "\n",
      "\n",
      "\n",
      "\n",
      "\n",
      "\n",
      "\n",
      "\n",
      "\n",
      "\n",
      "\n",
      "\n",
      "\n",
      "\n",
      "\n",
      "\n",
      "\n",
      "\n",
      "\n",
      "\n",
      "\n",
      "\n",
      "\n",
      "\n",
      "\n",
      "\n",
      "\n",
      "\n",
      "\n",
      "\n",
      "\n",
      "\n",
      "\n",
      "\n",
      "\n",
      "\n",
      "\n",
      "\n",
      "\n",
      "\n",
      "\n",
      "Work From Home Guidelines\n",
      "\n",
      "\n",
      " \n",
      "\n",
      "Capgemini Confidential \n",
      "\n",
      " \n",
      "\n",
      "Capgemini in India (including Capgemini Group entities in India)  \n",
      "\n",
      "Work From Home Guidelines \n",
      "\n",
      " \n",
      "Employee Acknowledgment \n",
      "\n",
      " \n",
      " \n",
      "\n",
      "To ensure the safety of our team members, and provide continuation of critical services, Capgemini has \n",
      "worked with its clients to arrange Work from Home (WFH) solutions in the case of an unplanned \n",
      "emergency. Due to the nature of the sensitive work that Capgemini employees perform, we want to \n",
      "ensure our employees are following the same Privacy, Security, Safety and Timesheet measures used at \n",
      "the office while working from home. Failure to observe these policies of the organization could result in \n",
      "disciplinary action up to and including termination.  \n",
      "\n",
      " \n",
      "Privacy and Security  \n",
      " \n",
      "\n",
      " Follow all current Privacy and Security policies and procedures including but not limited to \n",
      "\n",
      "Acceptable Use Policy and Flexi Work Policy.  \n",
      "\n",
      " Follow established procedures for disclosing all Personal Health Information (PHI) \n",
      "\n",
      " Do not use public WIFI access \n",
      "\n",
      " Do not allow friends and/or family to use your work PC \n",
      "\n",
      " Never leave your devices unattended such as in your car or at someone else’s residence \n",
      "\n",
      " Work in a secluded/quiet area of your residence \n",
      "\n",
      " Observe password requirements and DO NOT write your password on paper \n",
      "\n",
      " Do not leave your PC unlocked when you are away from it \n",
      "\n",
      " Turn off your PC when you are finished working for the day \n",
      "\n",
      " Use of personal email accounts for business purposes is prohibited \n",
      "\n",
      " Keep recording devices away from your workspace \n",
      "\n",
      " Watch out for unauthorized overlooking (shoulder surfing) \n",
      "\n",
      "Remember, Capgemini, networks and applications are subject to monitoring, recording and auditing. In \n",
      "the event of any incident pertaining to breach (privacy or network etc.), you are expected to self-report \n",
      "at ithelp.global@capgemini.com.   \n",
      " \n",
      "Safety \n",
      " \n",
      "Employees are expected to maintain their home workspace in a safe manner, free from safety hazards. \n",
      "Injuries or illness suffered by an employee during home office location and in conjunction with his or her \n",
      "regular work duties will covered as per the terms of company's Employee Medical Insurance Policy. Work \n",
      "From Home employees are responsible for notifying Capgemini of such injuries as soon as practicable. \n",
      "\n",
      "The employee is liable for any injuries sustained by visitors to his or her home worksite. \n",
      " \n",
      "Time Worked \n",
      " \n",
      "Work from Home employees will be required to accurately record all hours worked using Capgemini’s \n",
      "time-keeping system. The employee shall work from its assigned work location/city. In the event the \n",
      "employee is travelling to another city, appropriate approval to be sought from the manager. Employee \n",
      "to be available as per designated shifts and for all scheduled calls and to ensure that such calls are taken \n",
      "from quiet environment.  Hours worked in excess of those scheduled per day and per workweek require \n",
      "the advance approval of your supervisor. Failure to comply with this requirement may result in the \n",
      "immediate termination of the Work From Home provided to the employee. \n",
      " \n",
      "\n",
      "mailto:ithelp.global@capgemini.com\n",
      "\n",
      "\n",
      "Capgemini Confidential \n",
      "\n",
      "Note: In the current situation, you are being assigned with laptop for ensuring your safety and the \n",
      "business continuity purpose, you are expected to surrender the laptop and other accessories granted \n",
      "along with the same to the Company immediately when notified by your manager and in the manner as \n",
      "stipulated in the Capgemini India IT Asset Control Form.  \n",
      " \n",
      "Employee Agreement (Must be signed and returned to your manager) \n",
      " \n",
      "I acknowledge that I fully understand my responsibility to adhere to the above guidelines. I understand \n",
      "that if I fail to follow these policies and procedures, I may be subject to disciplinary action up to and \n",
      "including termination.  \n",
      " \n",
      "Employee Name:  _____________________ \n",
      "Employee Signature:  _____________________________ \n",
      "Employee ID: _______________________ \n",
      "\n",
      "Capgemini Entity:_____________________ \n",
      "Date:     ______________________ \n",
      " \n",
      " \n",
      " \n",
      " \n",
      "\n",
      " \n",
      " \n",
      " \n",
      " \n",
      " \n",
      " \n",
      " \n",
      " \n",
      " \n",
      " \n",
      " \n",
      " \n",
      " \n",
      " \n",
      "\n",
      " \n",
      " \n",
      " \n",
      " \n",
      " \n",
      " \n",
      " \n",
      " \n",
      " \n",
      " \n",
      "  \n",
      "\n",
      "FS-MU-3\n",
      "\n",
      "\n",
      "\n",
      "\n",
      "\n"
     ]
    }
   ],
   "source": [
    "import tika\n",
    "tika.initVM()\n",
    "from tika import parser\n",
    "parsed = parser.from_file('C:/Users/jaysriva/Downloads/CG_Attestation_LPL_(Your name).pdf')\n",
    "# print(parsed[\"metadata\"])\n",
    "print(parsed[\"content\"])"
   ]
  },
  {
   "cell_type": "markdown",
   "metadata": {},
   "source": [
    "# Tabula OCR: Extract tabular data from PDFs"
   ]
  },
  {
   "cell_type": "code",
   "execution_count": 8,
   "metadata": {},
   "outputs": [
    {
     "name": "stdout",
     "output_type": "stream",
     "text": [
      "Requirement already satisfied: tabula-py in c:\\users\\jaysriva\\anaconda3\\lib\\site-packages (2.2.0)\n",
      "Requirement already satisfied: distro in c:\\users\\jaysriva\\anaconda3\\lib\\site-packages (from tabula-py) (1.5.0)\n",
      "Requirement already satisfied: pandas>=0.25.3 in c:\\users\\jaysriva\\anaconda3\\lib\\site-packages (from tabula-py) (1.1.3)\n",
      "Requirement already satisfied: numpy in c:\\users\\jaysriva\\anaconda3\\lib\\site-packages (from tabula-py) (1.19.2)\n",
      "Requirement already satisfied: pytz>=2017.2 in c:\\users\\jaysriva\\anaconda3\\lib\\site-packages (from pandas>=0.25.3->tabula-py) (2020.1)\n",
      "Requirement already satisfied: python-dateutil>=2.7.3 in c:\\users\\jaysriva\\anaconda3\\lib\\site-packages (from pandas>=0.25.3->tabula-py) (2.8.1)\n",
      "Requirement already satisfied: six>=1.5 in c:\\users\\jaysriva\\anaconda3\\lib\\site-packages (from python-dateutil>=2.7.3->pandas>=0.25.3->tabula-py) (1.15.0)\n"
     ]
    }
   ],
   "source": [
    "!pip install tabula-py"
   ]
  },
  {
   "cell_type": "code",
   "execution_count": 9,
   "metadata": {},
   "outputs": [
    {
     "data": {
      "text/plain": [
       "[   1  1.1  1.2  1.3  1.4  1.5   90  1.6  1.7\n",
       " 0  1    2   87    2    2    2  100    2    2\n",
       " 1  2    2  987    2    2    3    4    4    2\n",
       " 2  4    4    4    4    5    6  110    6    6\n",
       " 3  6   98   66    6    3    7    7    8    4\n",
       " 4  8    8    8    0    8    6    9    6    5\n",
       " 5  5    8    4    3    2    2    2   98    3]"
      ]
     },
     "execution_count": 9,
     "metadata": {},
     "output_type": "execute_result"
    }
   ],
   "source": [
    "import tabula\n",
    "# Read pdf into list of DataFrame\n",
    "df = tabula.read_pdf(r'C:\\Users\\jaysriva\\Documents\\Learning\\Financial NER\\tabula test.pdf', pages='all')\n",
    "df"
   ]
  },
  {
   "cell_type": "code",
   "execution_count": 10,
   "metadata": {},
   "outputs": [],
   "source": [
    "# convert PDF into CSV file\n",
    "tabula.convert_into(r'C:\\Users\\jaysriva\\Documents\\Learning\\Financial NER\\tabula test.pdf', \"Tabula_OCR_Output.csv\", output_format=\"csv\", pages='all')\n",
    "# Read remote pdf into list of DataFrame\n",
    "# df2 = tabula.read_pdf(r'C:\\Users\\jaysriva\\Pictures\\test_ocr.pdf')\n",
    "# convert all PDFs in a directory\n",
    "# tabula.convert_into_by_batch(\"input_directory\", output_format='csv', pages='all')"
   ]
  }
 ],
 "metadata": {
  "kernelspec": {
   "display_name": "Python 3",
   "language": "python",
   "name": "python3"
  },
  "language_info": {
   "codemirror_mode": {
    "name": "ipython",
    "version": 3
   },
   "file_extension": ".py",
   "mimetype": "text/x-python",
   "name": "python",
   "nbconvert_exporter": "python",
   "pygments_lexer": "ipython3",
   "version": "3.8.5"
  }
 },
 "nbformat": 4,
 "nbformat_minor": 4
}
